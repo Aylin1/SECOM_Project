{
 "cells": [
  {
   "attachments": {},
   "cell_type": "markdown",
   "metadata": {},
   "source": [
    "## SECOM Data Set Information\n",
    "\n",
    "A complex modern semi-conductor manufacturing process is normally under consistent surveillance via the monitoring of signals/variables collected from sensors and or process measurement points. However, not all of these signals are equally valuable in a specific monitoring system. The measured signals contain a combination of useful information, irrelevant information as well as noise. It is often the case  that useful information is buried in the latter two. Engineers typically have a much larger number of signals than are actually required. If we consider each type  of signal as a feature, then feature selection may be applied to identify the most relevant signals. The Process Engineers may then use these signals to determine key factors contributing to yield excursions downstream in the process. This will enable an increase in process throughput, decreased time to learning and reduce the per unit production costs.\n",
    "\n",
    "Numerical data are recorded values from a series of sensors in the production machines that are placed in specified locations to help identify the part of the production process which contributes to the faults.\n"
   ]
  },
  {
   "attachments": {},
   "cell_type": "markdown",
   "metadata": {},
   "source": [
    "# Objective\n",
    "To minimize the rate at which faulty products leave the factory, the numerical data starts to make sense. \n",
    "\n",
    "*   To enhance current business improvement techniques, we use feature selection techniques to rank features according to their impact on the overall yield for the product. \n",
    "\n",
    "    *   Causal relationships may also be considered with a view to identifying the key features."
   ]
  },
  {
   "cell_type": "markdown",
   "metadata": {},
   "source": [
    "<h2 id=\"importing_libraries\">Importing required libraries</h2>\n"
   ]
  },
  {
   "cell_type": "code",
   "execution_count": 166,
   "metadata": {},
   "outputs": [],
   "source": [
    "import numpy as np \n",
    "import pandas as pd\n",
    "import matplotlib.pyplot as plt\n",
    "\n",
    "import seaborn as sns\n",
    "import plotly.express as px\n",
    "\n",
    "from sklearn.model_selection import train_test_split,cross_val_score\n",
    "from imblearn.over_sampling import SMOTE\n",
    "\n",
    "\n",
    "import warnings\n",
    "import os\n",
    "\n",
    "warnings.filterwarnings('ignore')\n",
    "%matplotlib inline"
   ]
  },
  {
   "cell_type": "markdown",
   "metadata": {},
   "source": [
    "### Load Data\n"
   ]
  },
  {
   "cell_type": "code",
   "execution_count": 167,
   "metadata": {},
   "outputs": [],
   "source": [
    "sensor_data = pd.read_csv(\"https://archive.ics.uci.edu/ml/machine-learning-databases/secom/secom.data\",sep=\" \", header=None)"
   ]
  },
  {
   "cell_type": "code",
   "execution_count": 168,
   "metadata": {},
   "outputs": [
    {
     "data": {
      "text/html": [
       "<div>\n",
       "<style scoped>\n",
       "    .dataframe tbody tr th:only-of-type {\n",
       "        vertical-align: middle;\n",
       "    }\n",
       "\n",
       "    .dataframe tbody tr th {\n",
       "        vertical-align: top;\n",
       "    }\n",
       "\n",
       "    .dataframe thead th {\n",
       "        text-align: right;\n",
       "    }\n",
       "</style>\n",
       "<table border=\"1\" class=\"dataframe\">\n",
       "  <thead>\n",
       "    <tr style=\"text-align: right;\">\n",
       "      <th></th>\n",
       "      <th>0</th>\n",
       "      <th>1</th>\n",
       "      <th>2</th>\n",
       "      <th>3</th>\n",
       "      <th>4</th>\n",
       "      <th>5</th>\n",
       "      <th>6</th>\n",
       "      <th>7</th>\n",
       "      <th>8</th>\n",
       "      <th>9</th>\n",
       "      <th>...</th>\n",
       "      <th>580</th>\n",
       "      <th>581</th>\n",
       "      <th>582</th>\n",
       "      <th>583</th>\n",
       "      <th>584</th>\n",
       "      <th>585</th>\n",
       "      <th>586</th>\n",
       "      <th>587</th>\n",
       "      <th>588</th>\n",
       "      <th>589</th>\n",
       "    </tr>\n",
       "  </thead>\n",
       "  <tbody>\n",
       "    <tr>\n",
       "      <th>0</th>\n",
       "      <td>3030.93</td>\n",
       "      <td>2564.00</td>\n",
       "      <td>2187.7333</td>\n",
       "      <td>1411.1265</td>\n",
       "      <td>1.3602</td>\n",
       "      <td>100.0</td>\n",
       "      <td>97.6133</td>\n",
       "      <td>0.1242</td>\n",
       "      <td>1.5005</td>\n",
       "      <td>0.0162</td>\n",
       "      <td>...</td>\n",
       "      <td>NaN</td>\n",
       "      <td>NaN</td>\n",
       "      <td>0.5005</td>\n",
       "      <td>0.0118</td>\n",
       "      <td>0.0035</td>\n",
       "      <td>2.3630</td>\n",
       "      <td>NaN</td>\n",
       "      <td>NaN</td>\n",
       "      <td>NaN</td>\n",
       "      <td>NaN</td>\n",
       "    </tr>\n",
       "    <tr>\n",
       "      <th>1</th>\n",
       "      <td>3095.78</td>\n",
       "      <td>2465.14</td>\n",
       "      <td>2230.4222</td>\n",
       "      <td>1463.6606</td>\n",
       "      <td>0.8294</td>\n",
       "      <td>100.0</td>\n",
       "      <td>102.3433</td>\n",
       "      <td>0.1247</td>\n",
       "      <td>1.4966</td>\n",
       "      <td>-0.0005</td>\n",
       "      <td>...</td>\n",
       "      <td>0.0060</td>\n",
       "      <td>208.2045</td>\n",
       "      <td>0.5019</td>\n",
       "      <td>0.0223</td>\n",
       "      <td>0.0055</td>\n",
       "      <td>4.4447</td>\n",
       "      <td>0.0096</td>\n",
       "      <td>0.0201</td>\n",
       "      <td>0.0060</td>\n",
       "      <td>208.2045</td>\n",
       "    </tr>\n",
       "    <tr>\n",
       "      <th>2</th>\n",
       "      <td>2932.61</td>\n",
       "      <td>2559.94</td>\n",
       "      <td>2186.4111</td>\n",
       "      <td>1698.0172</td>\n",
       "      <td>1.5102</td>\n",
       "      <td>100.0</td>\n",
       "      <td>95.4878</td>\n",
       "      <td>0.1241</td>\n",
       "      <td>1.4436</td>\n",
       "      <td>0.0041</td>\n",
       "      <td>...</td>\n",
       "      <td>0.0148</td>\n",
       "      <td>82.8602</td>\n",
       "      <td>0.4958</td>\n",
       "      <td>0.0157</td>\n",
       "      <td>0.0039</td>\n",
       "      <td>3.1745</td>\n",
       "      <td>0.0584</td>\n",
       "      <td>0.0484</td>\n",
       "      <td>0.0148</td>\n",
       "      <td>82.8602</td>\n",
       "    </tr>\n",
       "    <tr>\n",
       "      <th>3</th>\n",
       "      <td>2988.72</td>\n",
       "      <td>2479.90</td>\n",
       "      <td>2199.0333</td>\n",
       "      <td>909.7926</td>\n",
       "      <td>1.3204</td>\n",
       "      <td>100.0</td>\n",
       "      <td>104.2367</td>\n",
       "      <td>0.1217</td>\n",
       "      <td>1.4882</td>\n",
       "      <td>-0.0124</td>\n",
       "      <td>...</td>\n",
       "      <td>0.0044</td>\n",
       "      <td>73.8432</td>\n",
       "      <td>0.4990</td>\n",
       "      <td>0.0103</td>\n",
       "      <td>0.0025</td>\n",
       "      <td>2.0544</td>\n",
       "      <td>0.0202</td>\n",
       "      <td>0.0149</td>\n",
       "      <td>0.0044</td>\n",
       "      <td>73.8432</td>\n",
       "    </tr>\n",
       "    <tr>\n",
       "      <th>4</th>\n",
       "      <td>3032.24</td>\n",
       "      <td>2502.87</td>\n",
       "      <td>2233.3667</td>\n",
       "      <td>1326.5200</td>\n",
       "      <td>1.5334</td>\n",
       "      <td>100.0</td>\n",
       "      <td>100.3967</td>\n",
       "      <td>0.1235</td>\n",
       "      <td>1.5031</td>\n",
       "      <td>-0.0031</td>\n",
       "      <td>...</td>\n",
       "      <td>NaN</td>\n",
       "      <td>NaN</td>\n",
       "      <td>0.4800</td>\n",
       "      <td>0.4766</td>\n",
       "      <td>0.1045</td>\n",
       "      <td>99.3032</td>\n",
       "      <td>0.0202</td>\n",
       "      <td>0.0149</td>\n",
       "      <td>0.0044</td>\n",
       "      <td>73.8432</td>\n",
       "    </tr>\n",
       "    <tr>\n",
       "      <th>...</th>\n",
       "      <td>...</td>\n",
       "      <td>...</td>\n",
       "      <td>...</td>\n",
       "      <td>...</td>\n",
       "      <td>...</td>\n",
       "      <td>...</td>\n",
       "      <td>...</td>\n",
       "      <td>...</td>\n",
       "      <td>...</td>\n",
       "      <td>...</td>\n",
       "      <td>...</td>\n",
       "      <td>...</td>\n",
       "      <td>...</td>\n",
       "      <td>...</td>\n",
       "      <td>...</td>\n",
       "      <td>...</td>\n",
       "      <td>...</td>\n",
       "      <td>...</td>\n",
       "      <td>...</td>\n",
       "      <td>...</td>\n",
       "      <td>...</td>\n",
       "    </tr>\n",
       "    <tr>\n",
       "      <th>1562</th>\n",
       "      <td>2899.41</td>\n",
       "      <td>2464.36</td>\n",
       "      <td>2179.7333</td>\n",
       "      <td>3085.3781</td>\n",
       "      <td>1.4843</td>\n",
       "      <td>100.0</td>\n",
       "      <td>82.2467</td>\n",
       "      <td>0.1248</td>\n",
       "      <td>1.3424</td>\n",
       "      <td>-0.0045</td>\n",
       "      <td>...</td>\n",
       "      <td>0.0047</td>\n",
       "      <td>203.1720</td>\n",
       "      <td>0.4988</td>\n",
       "      <td>0.0143</td>\n",
       "      <td>0.0039</td>\n",
       "      <td>2.8669</td>\n",
       "      <td>0.0068</td>\n",
       "      <td>0.0138</td>\n",
       "      <td>0.0047</td>\n",
       "      <td>203.1720</td>\n",
       "    </tr>\n",
       "    <tr>\n",
       "      <th>1563</th>\n",
       "      <td>3052.31</td>\n",
       "      <td>2522.55</td>\n",
       "      <td>2198.5667</td>\n",
       "      <td>1124.6595</td>\n",
       "      <td>0.8763</td>\n",
       "      <td>100.0</td>\n",
       "      <td>98.4689</td>\n",
       "      <td>0.1205</td>\n",
       "      <td>1.4333</td>\n",
       "      <td>-0.0061</td>\n",
       "      <td>...</td>\n",
       "      <td>NaN</td>\n",
       "      <td>NaN</td>\n",
       "      <td>0.4975</td>\n",
       "      <td>0.0131</td>\n",
       "      <td>0.0036</td>\n",
       "      <td>2.6238</td>\n",
       "      <td>0.0068</td>\n",
       "      <td>0.0138</td>\n",
       "      <td>0.0047</td>\n",
       "      <td>203.1720</td>\n",
       "    </tr>\n",
       "    <tr>\n",
       "      <th>1564</th>\n",
       "      <td>2978.81</td>\n",
       "      <td>2379.78</td>\n",
       "      <td>2206.3000</td>\n",
       "      <td>1110.4967</td>\n",
       "      <td>0.8236</td>\n",
       "      <td>100.0</td>\n",
       "      <td>99.4122</td>\n",
       "      <td>0.1208</td>\n",
       "      <td>NaN</td>\n",
       "      <td>NaN</td>\n",
       "      <td>...</td>\n",
       "      <td>0.0025</td>\n",
       "      <td>43.5231</td>\n",
       "      <td>0.4987</td>\n",
       "      <td>0.0153</td>\n",
       "      <td>0.0041</td>\n",
       "      <td>3.0590</td>\n",
       "      <td>0.0197</td>\n",
       "      <td>0.0086</td>\n",
       "      <td>0.0025</td>\n",
       "      <td>43.5231</td>\n",
       "    </tr>\n",
       "    <tr>\n",
       "      <th>1565</th>\n",
       "      <td>2894.92</td>\n",
       "      <td>2532.01</td>\n",
       "      <td>2177.0333</td>\n",
       "      <td>1183.7287</td>\n",
       "      <td>1.5726</td>\n",
       "      <td>100.0</td>\n",
       "      <td>98.7978</td>\n",
       "      <td>0.1213</td>\n",
       "      <td>1.4622</td>\n",
       "      <td>-0.0072</td>\n",
       "      <td>...</td>\n",
       "      <td>0.0075</td>\n",
       "      <td>93.4941</td>\n",
       "      <td>0.5004</td>\n",
       "      <td>0.0178</td>\n",
       "      <td>0.0038</td>\n",
       "      <td>3.5662</td>\n",
       "      <td>0.0262</td>\n",
       "      <td>0.0245</td>\n",
       "      <td>0.0075</td>\n",
       "      <td>93.4941</td>\n",
       "    </tr>\n",
       "    <tr>\n",
       "      <th>1566</th>\n",
       "      <td>2944.92</td>\n",
       "      <td>2450.76</td>\n",
       "      <td>2195.4444</td>\n",
       "      <td>2914.1792</td>\n",
       "      <td>1.5978</td>\n",
       "      <td>100.0</td>\n",
       "      <td>85.1011</td>\n",
       "      <td>0.1235</td>\n",
       "      <td>NaN</td>\n",
       "      <td>NaN</td>\n",
       "      <td>...</td>\n",
       "      <td>0.0045</td>\n",
       "      <td>137.7844</td>\n",
       "      <td>0.4987</td>\n",
       "      <td>0.0181</td>\n",
       "      <td>0.0040</td>\n",
       "      <td>3.6275</td>\n",
       "      <td>0.0117</td>\n",
       "      <td>0.0162</td>\n",
       "      <td>0.0045</td>\n",
       "      <td>137.7844</td>\n",
       "    </tr>\n",
       "  </tbody>\n",
       "</table>\n",
       "<p>1567 rows × 590 columns</p>\n",
       "</div>"
      ],
      "text/plain": [
       "          0        1          2          3       4      5         6       7    \\\n",
       "0     3030.93  2564.00  2187.7333  1411.1265  1.3602  100.0   97.6133  0.1242   \n",
       "1     3095.78  2465.14  2230.4222  1463.6606  0.8294  100.0  102.3433  0.1247   \n",
       "2     2932.61  2559.94  2186.4111  1698.0172  1.5102  100.0   95.4878  0.1241   \n",
       "3     2988.72  2479.90  2199.0333   909.7926  1.3204  100.0  104.2367  0.1217   \n",
       "4     3032.24  2502.87  2233.3667  1326.5200  1.5334  100.0  100.3967  0.1235   \n",
       "...       ...      ...        ...        ...     ...    ...       ...     ...   \n",
       "1562  2899.41  2464.36  2179.7333  3085.3781  1.4843  100.0   82.2467  0.1248   \n",
       "1563  3052.31  2522.55  2198.5667  1124.6595  0.8763  100.0   98.4689  0.1205   \n",
       "1564  2978.81  2379.78  2206.3000  1110.4967  0.8236  100.0   99.4122  0.1208   \n",
       "1565  2894.92  2532.01  2177.0333  1183.7287  1.5726  100.0   98.7978  0.1213   \n",
       "1566  2944.92  2450.76  2195.4444  2914.1792  1.5978  100.0   85.1011  0.1235   \n",
       "\n",
       "         8       9    ...     580       581     582     583     584      585  \\\n",
       "0     1.5005  0.0162  ...     NaN       NaN  0.5005  0.0118  0.0035   2.3630   \n",
       "1     1.4966 -0.0005  ...  0.0060  208.2045  0.5019  0.0223  0.0055   4.4447   \n",
       "2     1.4436  0.0041  ...  0.0148   82.8602  0.4958  0.0157  0.0039   3.1745   \n",
       "3     1.4882 -0.0124  ...  0.0044   73.8432  0.4990  0.0103  0.0025   2.0544   \n",
       "4     1.5031 -0.0031  ...     NaN       NaN  0.4800  0.4766  0.1045  99.3032   \n",
       "...      ...     ...  ...     ...       ...     ...     ...     ...      ...   \n",
       "1562  1.3424 -0.0045  ...  0.0047  203.1720  0.4988  0.0143  0.0039   2.8669   \n",
       "1563  1.4333 -0.0061  ...     NaN       NaN  0.4975  0.0131  0.0036   2.6238   \n",
       "1564     NaN     NaN  ...  0.0025   43.5231  0.4987  0.0153  0.0041   3.0590   \n",
       "1565  1.4622 -0.0072  ...  0.0075   93.4941  0.5004  0.0178  0.0038   3.5662   \n",
       "1566     NaN     NaN  ...  0.0045  137.7844  0.4987  0.0181  0.0040   3.6275   \n",
       "\n",
       "         586     587     588       589  \n",
       "0        NaN     NaN     NaN       NaN  \n",
       "1     0.0096  0.0201  0.0060  208.2045  \n",
       "2     0.0584  0.0484  0.0148   82.8602  \n",
       "3     0.0202  0.0149  0.0044   73.8432  \n",
       "4     0.0202  0.0149  0.0044   73.8432  \n",
       "...      ...     ...     ...       ...  \n",
       "1562  0.0068  0.0138  0.0047  203.1720  \n",
       "1563  0.0068  0.0138  0.0047  203.1720  \n",
       "1564  0.0197  0.0086  0.0025   43.5231  \n",
       "1565  0.0262  0.0245  0.0075   93.4941  \n",
       "1566  0.0117  0.0162  0.0045  137.7844  \n",
       "\n",
       "[1567 rows x 590 columns]"
      ]
     },
     "execution_count": 168,
     "metadata": {},
     "output_type": "execute_result"
    }
   ],
   "source": [
    "sensor_data"
   ]
  },
  {
   "cell_type": "code",
   "execution_count": 169,
   "metadata": {},
   "outputs": [
    {
     "data": {
      "text/plain": [
       "0"
      ]
     },
     "execution_count": 169,
     "metadata": {},
     "output_type": "execute_result"
    }
   ],
   "source": [
    "sensor_data.duplicated().sum()"
   ]
  },
  {
   "attachments": {},
   "cell_type": "markdown",
   "metadata": {},
   "source": [
    "# Missing values in sensor data"
   ]
  },
  {
   "cell_type": "code",
   "execution_count": 172,
   "metadata": {},
   "outputs": [
    {
     "data": {
      "application/vnd.plotly.v1+json": {
       "config": {
        "plotlyServerURL": "https://plot.ly"
       },
       "data": [
        {
         "alignmentgroup": "True",
         "bingroup": "x",
         "hovertemplate": "variable=0<br>value=%{x}<br>count=%{y}<extra></extra>",
         "legendgroup": "0",
         "marker": {
          "color": "#636efa",
          "pattern": {
           "shape": ""
          }
         },
         "name": "0",
         "offsetgroup": "0",
         "orientation": "v",
         "showlegend": true,
         "type": "histogram",
         "x": [
          6,
          7,
          14,
          14,
          14,
          14,
          14,
          9,
          2,
          2,
          2,
          2,
          2,
          3,
          3,
          3,
          3,
          3,
          3,
          10,
          0,
          2,
          2,
          2,
          2,
          2,
          2,
          2,
          2,
          2,
          2,
          2,
          1,
          1,
          1,
          1,
          1,
          1,
          1,
          1,
          24,
          24,
          1,
          1,
          1,
          1,
          1,
          1,
          1,
          1,
          1,
          1,
          1,
          4,
          4,
          4,
          4,
          4,
          4,
          7,
          6,
          6,
          6,
          7,
          7,
          7,
          6,
          6,
          6,
          6,
          6,
          6,
          794,
          794,
          6,
          24,
          24,
          24,
          24,
          24,
          24,
          24,
          24,
          1,
          12,
          1341,
          0,
          0,
          0,
          51,
          51,
          6,
          2,
          2,
          6,
          6,
          6,
          6,
          6,
          6,
          6,
          6,
          6,
          2,
          2,
          6,
          6,
          6,
          6,
          1018,
          1018,
          1018,
          715,
          0,
          0,
          0,
          0,
          0,
          24,
          0,
          0,
          9,
          9,
          9,
          9,
          9,
          9,
          9,
          9,
          9,
          9,
          9,
          8,
          8,
          8,
          5,
          6,
          7,
          14,
          14,
          14,
          14,
          14,
          9,
          2,
          2,
          2,
          2,
          2,
          3,
          3,
          3,
          3,
          3,
          3,
          10,
          0,
          1429,
          1429,
          2,
          2,
          2,
          2,
          2,
          2,
          2,
          2,
          2,
          2,
          2,
          1,
          1,
          1,
          1,
          1,
          1,
          1,
          1,
          24,
          1,
          1,
          1,
          1,
          1,
          1,
          1,
          1,
          1,
          1,
          1,
          4,
          4,
          4,
          4,
          4,
          4,
          7,
          6,
          6,
          6,
          7,
          7,
          7,
          6,
          6,
          6,
          6,
          6,
          6,
          6,
          24,
          24,
          24,
          24,
          24,
          24,
          24,
          24,
          1,
          12,
          1341,
          0,
          0,
          0,
          51,
          51,
          6,
          2,
          2,
          6,
          6,
          6,
          6,
          6,
          6,
          6,
          6,
          6,
          2,
          2,
          6,
          6,
          6,
          6,
          1018,
          1018,
          1018,
          715,
          0,
          0,
          0,
          0,
          0,
          24,
          0,
          0,
          9,
          9,
          9,
          9,
          9,
          9,
          9,
          9,
          9,
          9,
          9,
          8,
          8,
          8,
          5,
          6,
          7,
          14,
          14,
          14,
          14,
          14,
          9,
          2,
          2,
          2,
          2,
          2,
          3,
          3,
          3,
          3,
          3,
          3,
          10,
          0,
          1429,
          1429,
          2,
          2,
          2,
          2,
          2,
          2,
          2,
          2,
          2,
          2,
          2,
          1,
          1,
          1,
          1,
          1,
          1,
          1,
          1,
          24,
          24,
          1,
          1,
          1,
          1,
          1,
          1,
          1,
          1,
          1,
          1,
          1,
          4,
          4,
          4,
          4,
          4,
          4,
          7,
          6,
          6,
          6,
          7,
          7,
          7,
          6,
          6,
          6,
          6,
          6,
          6,
          794,
          794,
          6,
          24,
          24,
          24,
          24,
          24,
          24,
          24,
          24,
          1,
          12,
          1341,
          0,
          0,
          0,
          51,
          51,
          6,
          2,
          2,
          6,
          6,
          6,
          6,
          6,
          6,
          6,
          6,
          6,
          2,
          2,
          6,
          6,
          6,
          6,
          1018,
          1018,
          1018,
          715,
          0,
          0,
          0,
          0,
          0,
          24,
          0,
          0,
          9,
          9,
          9,
          9,
          9,
          9,
          9,
          9,
          9,
          9,
          9,
          8,
          8,
          8,
          5,
          6,
          7,
          14,
          14,
          14,
          14,
          14,
          9,
          2,
          2,
          2,
          2,
          2,
          3,
          3,
          3,
          3,
          3,
          3,
          10,
          0,
          2,
          2,
          2,
          2,
          2,
          2,
          2,
          2,
          2,
          2,
          2,
          1,
          1,
          1,
          1,
          1,
          1,
          1,
          1,
          24,
          24,
          1,
          1,
          1,
          1,
          1,
          1,
          1,
          1,
          1,
          1,
          1,
          4,
          4,
          4,
          4,
          4,
          4,
          7,
          6,
          6,
          6,
          7,
          7,
          7,
          6,
          6,
          6,
          6,
          6,
          6,
          6,
          24,
          24,
          24,
          24,
          24,
          24,
          24,
          24,
          1,
          12,
          1341,
          0,
          0,
          0,
          51,
          51,
          6,
          2,
          2,
          6,
          6,
          6,
          6,
          6,
          6,
          6,
          6,
          6,
          2,
          2,
          6,
          6,
          6,
          6,
          1018,
          1018,
          1018,
          715,
          0,
          0,
          0,
          0,
          0,
          24,
          0,
          0,
          9,
          9,
          9,
          9,
          9,
          9,
          9,
          9,
          9,
          9,
          9,
          8,
          8,
          8,
          2,
          2,
          2,
          2,
          260,
          260,
          260,
          260,
          260,
          260,
          260,
          260,
          260,
          260,
          260,
          260,
          1,
          1,
          1,
          1,
          273,
          273,
          273,
          273,
          273,
          273,
          273,
          273,
          0,
          0,
          0,
          0,
          0,
          0,
          0,
          0,
          949,
          949,
          949,
          949,
          1,
          1,
          1,
          1,
          1,
          1,
          1,
          1
         ],
         "xaxis": "x",
         "yaxis": "y"
        }
       ],
       "layout": {
        "barmode": "relative",
        "legend": {
         "title": {
          "text": "variable"
         },
         "tracegroupgap": 0
        },
        "margin": {
         "t": 60
        },
        "template": {
         "data": {
          "bar": [
           {
            "error_x": {
             "color": "#2a3f5f"
            },
            "error_y": {
             "color": "#2a3f5f"
            },
            "marker": {
             "line": {
              "color": "#E5ECF6",
              "width": 0.5
             },
             "pattern": {
              "fillmode": "overlay",
              "size": 10,
              "solidity": 0.2
             }
            },
            "type": "bar"
           }
          ],
          "barpolar": [
           {
            "marker": {
             "line": {
              "color": "#E5ECF6",
              "width": 0.5
             },
             "pattern": {
              "fillmode": "overlay",
              "size": 10,
              "solidity": 0.2
             }
            },
            "type": "barpolar"
           }
          ],
          "carpet": [
           {
            "aaxis": {
             "endlinecolor": "#2a3f5f",
             "gridcolor": "white",
             "linecolor": "white",
             "minorgridcolor": "white",
             "startlinecolor": "#2a3f5f"
            },
            "baxis": {
             "endlinecolor": "#2a3f5f",
             "gridcolor": "white",
             "linecolor": "white",
             "minorgridcolor": "white",
             "startlinecolor": "#2a3f5f"
            },
            "type": "carpet"
           }
          ],
          "choropleth": [
           {
            "colorbar": {
             "outlinewidth": 0,
             "ticks": ""
            },
            "type": "choropleth"
           }
          ],
          "contour": [
           {
            "colorbar": {
             "outlinewidth": 0,
             "ticks": ""
            },
            "colorscale": [
             [
              0,
              "#0d0887"
             ],
             [
              0.1111111111111111,
              "#46039f"
             ],
             [
              0.2222222222222222,
              "#7201a8"
             ],
             [
              0.3333333333333333,
              "#9c179e"
             ],
             [
              0.4444444444444444,
              "#bd3786"
             ],
             [
              0.5555555555555556,
              "#d8576b"
             ],
             [
              0.6666666666666666,
              "#ed7953"
             ],
             [
              0.7777777777777778,
              "#fb9f3a"
             ],
             [
              0.8888888888888888,
              "#fdca26"
             ],
             [
              1,
              "#f0f921"
             ]
            ],
            "type": "contour"
           }
          ],
          "contourcarpet": [
           {
            "colorbar": {
             "outlinewidth": 0,
             "ticks": ""
            },
            "type": "contourcarpet"
           }
          ],
          "heatmap": [
           {
            "colorbar": {
             "outlinewidth": 0,
             "ticks": ""
            },
            "colorscale": [
             [
              0,
              "#0d0887"
             ],
             [
              0.1111111111111111,
              "#46039f"
             ],
             [
              0.2222222222222222,
              "#7201a8"
             ],
             [
              0.3333333333333333,
              "#9c179e"
             ],
             [
              0.4444444444444444,
              "#bd3786"
             ],
             [
              0.5555555555555556,
              "#d8576b"
             ],
             [
              0.6666666666666666,
              "#ed7953"
             ],
             [
              0.7777777777777778,
              "#fb9f3a"
             ],
             [
              0.8888888888888888,
              "#fdca26"
             ],
             [
              1,
              "#f0f921"
             ]
            ],
            "type": "heatmap"
           }
          ],
          "heatmapgl": [
           {
            "colorbar": {
             "outlinewidth": 0,
             "ticks": ""
            },
            "colorscale": [
             [
              0,
              "#0d0887"
             ],
             [
              0.1111111111111111,
              "#46039f"
             ],
             [
              0.2222222222222222,
              "#7201a8"
             ],
             [
              0.3333333333333333,
              "#9c179e"
             ],
             [
              0.4444444444444444,
              "#bd3786"
             ],
             [
              0.5555555555555556,
              "#d8576b"
             ],
             [
              0.6666666666666666,
              "#ed7953"
             ],
             [
              0.7777777777777778,
              "#fb9f3a"
             ],
             [
              0.8888888888888888,
              "#fdca26"
             ],
             [
              1,
              "#f0f921"
             ]
            ],
            "type": "heatmapgl"
           }
          ],
          "histogram": [
           {
            "marker": {
             "pattern": {
              "fillmode": "overlay",
              "size": 10,
              "solidity": 0.2
             }
            },
            "type": "histogram"
           }
          ],
          "histogram2d": [
           {
            "colorbar": {
             "outlinewidth": 0,
             "ticks": ""
            },
            "colorscale": [
             [
              0,
              "#0d0887"
             ],
             [
              0.1111111111111111,
              "#46039f"
             ],
             [
              0.2222222222222222,
              "#7201a8"
             ],
             [
              0.3333333333333333,
              "#9c179e"
             ],
             [
              0.4444444444444444,
              "#bd3786"
             ],
             [
              0.5555555555555556,
              "#d8576b"
             ],
             [
              0.6666666666666666,
              "#ed7953"
             ],
             [
              0.7777777777777778,
              "#fb9f3a"
             ],
             [
              0.8888888888888888,
              "#fdca26"
             ],
             [
              1,
              "#f0f921"
             ]
            ],
            "type": "histogram2d"
           }
          ],
          "histogram2dcontour": [
           {
            "colorbar": {
             "outlinewidth": 0,
             "ticks": ""
            },
            "colorscale": [
             [
              0,
              "#0d0887"
             ],
             [
              0.1111111111111111,
              "#46039f"
             ],
             [
              0.2222222222222222,
              "#7201a8"
             ],
             [
              0.3333333333333333,
              "#9c179e"
             ],
             [
              0.4444444444444444,
              "#bd3786"
             ],
             [
              0.5555555555555556,
              "#d8576b"
             ],
             [
              0.6666666666666666,
              "#ed7953"
             ],
             [
              0.7777777777777778,
              "#fb9f3a"
             ],
             [
              0.8888888888888888,
              "#fdca26"
             ],
             [
              1,
              "#f0f921"
             ]
            ],
            "type": "histogram2dcontour"
           }
          ],
          "mesh3d": [
           {
            "colorbar": {
             "outlinewidth": 0,
             "ticks": ""
            },
            "type": "mesh3d"
           }
          ],
          "parcoords": [
           {
            "line": {
             "colorbar": {
              "outlinewidth": 0,
              "ticks": ""
             }
            },
            "type": "parcoords"
           }
          ],
          "pie": [
           {
            "automargin": true,
            "type": "pie"
           }
          ],
          "scatter": [
           {
            "marker": {
             "colorbar": {
              "outlinewidth": 0,
              "ticks": ""
             }
            },
            "type": "scatter"
           }
          ],
          "scatter3d": [
           {
            "line": {
             "colorbar": {
              "outlinewidth": 0,
              "ticks": ""
             }
            },
            "marker": {
             "colorbar": {
              "outlinewidth": 0,
              "ticks": ""
             }
            },
            "type": "scatter3d"
           }
          ],
          "scattercarpet": [
           {
            "marker": {
             "colorbar": {
              "outlinewidth": 0,
              "ticks": ""
             }
            },
            "type": "scattercarpet"
           }
          ],
          "scattergeo": [
           {
            "marker": {
             "colorbar": {
              "outlinewidth": 0,
              "ticks": ""
             }
            },
            "type": "scattergeo"
           }
          ],
          "scattergl": [
           {
            "marker": {
             "colorbar": {
              "outlinewidth": 0,
              "ticks": ""
             }
            },
            "type": "scattergl"
           }
          ],
          "scattermapbox": [
           {
            "marker": {
             "colorbar": {
              "outlinewidth": 0,
              "ticks": ""
             }
            },
            "type": "scattermapbox"
           }
          ],
          "scatterpolar": [
           {
            "marker": {
             "colorbar": {
              "outlinewidth": 0,
              "ticks": ""
             }
            },
            "type": "scatterpolar"
           }
          ],
          "scatterpolargl": [
           {
            "marker": {
             "colorbar": {
              "outlinewidth": 0,
              "ticks": ""
             }
            },
            "type": "scatterpolargl"
           }
          ],
          "scatterternary": [
           {
            "marker": {
             "colorbar": {
              "outlinewidth": 0,
              "ticks": ""
             }
            },
            "type": "scatterternary"
           }
          ],
          "surface": [
           {
            "colorbar": {
             "outlinewidth": 0,
             "ticks": ""
            },
            "colorscale": [
             [
              0,
              "#0d0887"
             ],
             [
              0.1111111111111111,
              "#46039f"
             ],
             [
              0.2222222222222222,
              "#7201a8"
             ],
             [
              0.3333333333333333,
              "#9c179e"
             ],
             [
              0.4444444444444444,
              "#bd3786"
             ],
             [
              0.5555555555555556,
              "#d8576b"
             ],
             [
              0.6666666666666666,
              "#ed7953"
             ],
             [
              0.7777777777777778,
              "#fb9f3a"
             ],
             [
              0.8888888888888888,
              "#fdca26"
             ],
             [
              1,
              "#f0f921"
             ]
            ],
            "type": "surface"
           }
          ],
          "table": [
           {
            "cells": {
             "fill": {
              "color": "#EBF0F8"
             },
             "line": {
              "color": "white"
             }
            },
            "header": {
             "fill": {
              "color": "#C8D4E3"
             },
             "line": {
              "color": "white"
             }
            },
            "type": "table"
           }
          ]
         },
         "layout": {
          "annotationdefaults": {
           "arrowcolor": "#2a3f5f",
           "arrowhead": 0,
           "arrowwidth": 1
          },
          "autotypenumbers": "strict",
          "coloraxis": {
           "colorbar": {
            "outlinewidth": 0,
            "ticks": ""
           }
          },
          "colorscale": {
           "diverging": [
            [
             0,
             "#8e0152"
            ],
            [
             0.1,
             "#c51b7d"
            ],
            [
             0.2,
             "#de77ae"
            ],
            [
             0.3,
             "#f1b6da"
            ],
            [
             0.4,
             "#fde0ef"
            ],
            [
             0.5,
             "#f7f7f7"
            ],
            [
             0.6,
             "#e6f5d0"
            ],
            [
             0.7,
             "#b8e186"
            ],
            [
             0.8,
             "#7fbc41"
            ],
            [
             0.9,
             "#4d9221"
            ],
            [
             1,
             "#276419"
            ]
           ],
           "sequential": [
            [
             0,
             "#0d0887"
            ],
            [
             0.1111111111111111,
             "#46039f"
            ],
            [
             0.2222222222222222,
             "#7201a8"
            ],
            [
             0.3333333333333333,
             "#9c179e"
            ],
            [
             0.4444444444444444,
             "#bd3786"
            ],
            [
             0.5555555555555556,
             "#d8576b"
            ],
            [
             0.6666666666666666,
             "#ed7953"
            ],
            [
             0.7777777777777778,
             "#fb9f3a"
            ],
            [
             0.8888888888888888,
             "#fdca26"
            ],
            [
             1,
             "#f0f921"
            ]
           ],
           "sequentialminus": [
            [
             0,
             "#0d0887"
            ],
            [
             0.1111111111111111,
             "#46039f"
            ],
            [
             0.2222222222222222,
             "#7201a8"
            ],
            [
             0.3333333333333333,
             "#9c179e"
            ],
            [
             0.4444444444444444,
             "#bd3786"
            ],
            [
             0.5555555555555556,
             "#d8576b"
            ],
            [
             0.6666666666666666,
             "#ed7953"
            ],
            [
             0.7777777777777778,
             "#fb9f3a"
            ],
            [
             0.8888888888888888,
             "#fdca26"
            ],
            [
             1,
             "#f0f921"
            ]
           ]
          },
          "colorway": [
           "#636efa",
           "#EF553B",
           "#00cc96",
           "#ab63fa",
           "#FFA15A",
           "#19d3f3",
           "#FF6692",
           "#B6E880",
           "#FF97FF",
           "#FECB52"
          ],
          "font": {
           "color": "#2a3f5f"
          },
          "geo": {
           "bgcolor": "white",
           "lakecolor": "white",
           "landcolor": "#E5ECF6",
           "showlakes": true,
           "showland": true,
           "subunitcolor": "white"
          },
          "hoverlabel": {
           "align": "left"
          },
          "hovermode": "closest",
          "mapbox": {
           "style": "light"
          },
          "paper_bgcolor": "white",
          "plot_bgcolor": "#E5ECF6",
          "polar": {
           "angularaxis": {
            "gridcolor": "white",
            "linecolor": "white",
            "ticks": ""
           },
           "bgcolor": "#E5ECF6",
           "radialaxis": {
            "gridcolor": "white",
            "linecolor": "white",
            "ticks": ""
           }
          },
          "scene": {
           "xaxis": {
            "backgroundcolor": "#E5ECF6",
            "gridcolor": "white",
            "gridwidth": 2,
            "linecolor": "white",
            "showbackground": true,
            "ticks": "",
            "zerolinecolor": "white"
           },
           "yaxis": {
            "backgroundcolor": "#E5ECF6",
            "gridcolor": "white",
            "gridwidth": 2,
            "linecolor": "white",
            "showbackground": true,
            "ticks": "",
            "zerolinecolor": "white"
           },
           "zaxis": {
            "backgroundcolor": "#E5ECF6",
            "gridcolor": "white",
            "gridwidth": 2,
            "linecolor": "white",
            "showbackground": true,
            "ticks": "",
            "zerolinecolor": "white"
           }
          },
          "shapedefaults": {
           "line": {
            "color": "#2a3f5f"
           }
          },
          "ternary": {
           "aaxis": {
            "gridcolor": "white",
            "linecolor": "white",
            "ticks": ""
           },
           "baxis": {
            "gridcolor": "white",
            "linecolor": "white",
            "ticks": ""
           },
           "bgcolor": "#E5ECF6",
           "caxis": {
            "gridcolor": "white",
            "linecolor": "white",
            "ticks": ""
           }
          },
          "title": {
           "x": 0.05
          },
          "xaxis": {
           "automargin": true,
           "gridcolor": "white",
           "linecolor": "white",
           "ticks": "",
           "title": {
            "standoff": 15
           },
           "zerolinecolor": "white",
           "zerolinewidth": 2
          },
          "yaxis": {
           "automargin": true,
           "gridcolor": "white",
           "linecolor": "white",
           "ticks": "",
           "title": {
            "standoff": 15
           },
           "zerolinecolor": "white",
           "zerolinewidth": 2
          }
         }
        },
        "xaxis": {
         "anchor": "y",
         "domain": [
          0,
          1
         ],
         "title": {
          "text": "value"
         }
        },
        "yaxis": {
         "anchor": "x",
         "domain": [
          0,
          1
         ],
         "title": {
          "text": "count"
         }
        }
       }
      }
     },
     "metadata": {},
     "output_type": "display_data"
    }
   ],
   "source": [
    "px.histogram(sensor_data.isnull().sum())"
   ]
  },
  {
   "attachments": {},
   "cell_type": "markdown",
   "metadata": {},
   "source": [
    "# Read label data"
   ]
  },
  {
   "cell_type": "code",
   "execution_count": 101,
   "metadata": {},
   "outputs": [],
   "source": [
    "labels_data = pd.read_csv(\"https://archive.ics.uci.edu/ml/machine-learning-databases/secom/secom_labels.data\",sep=\" \",header=None)"
   ]
  },
  {
   "cell_type": "code",
   "execution_count": 102,
   "metadata": {},
   "outputs": [
    {
     "data": {
      "text/html": [
       "<div>\n",
       "<style scoped>\n",
       "    .dataframe tbody tr th:only-of-type {\n",
       "        vertical-align: middle;\n",
       "    }\n",
       "\n",
       "    .dataframe tbody tr th {\n",
       "        vertical-align: top;\n",
       "    }\n",
       "\n",
       "    .dataframe thead th {\n",
       "        text-align: right;\n",
       "    }\n",
       "</style>\n",
       "<table border=\"1\" class=\"dataframe\">\n",
       "  <thead>\n",
       "    <tr style=\"text-align: right;\">\n",
       "      <th></th>\n",
       "      <th>0</th>\n",
       "      <th>1</th>\n",
       "    </tr>\n",
       "  </thead>\n",
       "  <tbody>\n",
       "    <tr>\n",
       "      <th>0</th>\n",
       "      <td>-1</td>\n",
       "      <td>19/07/2008 11:55:00</td>\n",
       "    </tr>\n",
       "    <tr>\n",
       "      <th>1</th>\n",
       "      <td>-1</td>\n",
       "      <td>19/07/2008 12:32:00</td>\n",
       "    </tr>\n",
       "    <tr>\n",
       "      <th>2</th>\n",
       "      <td>1</td>\n",
       "      <td>19/07/2008 13:17:00</td>\n",
       "    </tr>\n",
       "    <tr>\n",
       "      <th>3</th>\n",
       "      <td>-1</td>\n",
       "      <td>19/07/2008 14:43:00</td>\n",
       "    </tr>\n",
       "    <tr>\n",
       "      <th>4</th>\n",
       "      <td>-1</td>\n",
       "      <td>19/07/2008 15:22:00</td>\n",
       "    </tr>\n",
       "    <tr>\n",
       "      <th>...</th>\n",
       "      <td>...</td>\n",
       "      <td>...</td>\n",
       "    </tr>\n",
       "    <tr>\n",
       "      <th>1562</th>\n",
       "      <td>-1</td>\n",
       "      <td>16/10/2008 15:13:00</td>\n",
       "    </tr>\n",
       "    <tr>\n",
       "      <th>1563</th>\n",
       "      <td>-1</td>\n",
       "      <td>16/10/2008 20:49:00</td>\n",
       "    </tr>\n",
       "    <tr>\n",
       "      <th>1564</th>\n",
       "      <td>-1</td>\n",
       "      <td>17/10/2008 05:26:00</td>\n",
       "    </tr>\n",
       "    <tr>\n",
       "      <th>1565</th>\n",
       "      <td>-1</td>\n",
       "      <td>17/10/2008 06:01:00</td>\n",
       "    </tr>\n",
       "    <tr>\n",
       "      <th>1566</th>\n",
       "      <td>-1</td>\n",
       "      <td>17/10/2008 06:07:00</td>\n",
       "    </tr>\n",
       "  </tbody>\n",
       "</table>\n",
       "<p>1567 rows × 2 columns</p>\n",
       "</div>"
      ],
      "text/plain": [
       "      0                    1\n",
       "0    -1  19/07/2008 11:55:00\n",
       "1    -1  19/07/2008 12:32:00\n",
       "2     1  19/07/2008 13:17:00\n",
       "3    -1  19/07/2008 14:43:00\n",
       "4    -1  19/07/2008 15:22:00\n",
       "...  ..                  ...\n",
       "1562 -1  16/10/2008 15:13:00\n",
       "1563 -1  16/10/2008 20:49:00\n",
       "1564 -1  17/10/2008 05:26:00\n",
       "1565 -1  17/10/2008 06:01:00\n",
       "1566 -1  17/10/2008 06:07:00\n",
       "\n",
       "[1567 rows x 2 columns]"
      ]
     },
     "execution_count": 102,
     "metadata": {},
     "output_type": "execute_result"
    }
   ],
   "source": [
    "labels_data"
   ]
  },
  {
   "cell_type": "code",
   "execution_count": 103,
   "metadata": {},
   "outputs": [
    {
     "name": "stdout",
     "output_type": "stream",
     "text": [
      "<class 'pandas.core.frame.DataFrame'>\n",
      "RangeIndex: 1567 entries, 0 to 1566\n",
      "Data columns (total 2 columns):\n",
      " #   Column  Non-Null Count  Dtype \n",
      "---  ------  --------------  ----- \n",
      " 0   0       1567 non-null   int64 \n",
      " 1   1       1567 non-null   object\n",
      "dtypes: int64(1), object(1)\n",
      "memory usage: 24.6+ KB\n"
     ]
    }
   ],
   "source": [
    "labels_data.info()"
   ]
  },
  {
   "cell_type": "code",
   "execution_count": 115,
   "metadata": {},
   "outputs": [],
   "source": [
    "# Change column names\n",
    "labels_data.columns = [\"Label\",\"Time\"]\n",
    "\n",
    "# Convert type of columns\n",
    "labels_data[\"Label\"] = labels_data[\"Label\"].astype(\"category\")\n",
    "\n",
    "labels_data[\"Time\"] = pd.to_datetime(labels_data[\"Time\"])"
   ]
  },
  {
   "attachments": {},
   "cell_type": "markdown",
   "metadata": {},
   "source": [
    "# Check the frequency of labels"
   ]
  },
  {
   "cell_type": "code",
   "execution_count": 132,
   "metadata": {},
   "outputs": [
    {
     "data": {
      "text/plain": [
       "-1    93.363114\n",
       "1      6.636886\n",
       "Name: Label, dtype: float64"
      ]
     },
     "execution_count": 132,
     "metadata": {},
     "output_type": "execute_result"
    }
   ],
   "source": [
    "# Frequency table\n",
    "freq_table = labels_data[\"Label\"].value_counts(normalize=True) * 100\n",
    "freq_table\n",
    "\n",
    "# Plot frequency table\n",
    "sns.barplot(x=freq_table.index,y=freq_table.values)\n",
    "\n",
    "plt.title('Most of signals are labeled as Pass', y = 1.08) # y pads the title upward\n",
    "plt.ylabel('Percentage', fontsize = 12)\n",
    "plt.xticks([0,1],['Pass', 'Fail'], rotation = 0) # the initial xtick labels were True and False\n",
    "plt.ylim([0,100])\n",
    "plt.show()"
   ]
  },
  {
   "cell_type": "code",
   "execution_count": 175,
   "metadata": {},
   "outputs": [
    {
     "data": {
      "image/png": "[encoded data removed]",
      "text/plain": [
       "<Figure size 432x288 with 1 Axes>"
      ]
     },
     "metadata": {
      "needs_background": "light"
     },
     "output_type": "display_data"
    }
   ],
   "source": [
    "# Plot frequency table\n",
    "sns.barplot(x=freq_table.index,y=freq_table.values)\n",
    "\n",
    "plt.title('Most of signals are labeled as Pass', y = 1.08) # y pads the title upward\n",
    "plt.ylabel('Percentage', fontsize = 12)\n",
    "plt.xticks([0,1],['Pass', 'Fail'], rotation = 0) # the initial xtick labels were True and False\n",
    "plt.ylim([0,100])\n",
    "plt.show()"
   ]
  },
  {
   "attachments": {},
   "cell_type": "markdown",
   "metadata": {},
   "source": [
    "# Merge sensor and label data"
   ]
  },
  {
   "cell_type": "code",
   "execution_count": 107,
   "metadata": {},
   "outputs": [],
   "source": [
    "concat_df = pd.concat([sensor_data,labels_data],axis=1)"
   ]
  },
  {
   "cell_type": "code",
   "execution_count": 108,
   "metadata": {},
   "outputs": [
    {
     "data": {
      "text/html": [
       "<div>\n",
       "<style scoped>\n",
       "    .dataframe tbody tr th:only-of-type {\n",
       "        vertical-align: middle;\n",
       "    }\n",
       "\n",
       "    .dataframe tbody tr th {\n",
       "        vertical-align: top;\n",
       "    }\n",
       "\n",
       "    .dataframe thead th {\n",
       "        text-align: right;\n",
       "    }\n",
       "</style>\n",
       "<table border=\"1\" class=\"dataframe\">\n",
       "  <thead>\n",
       "    <tr style=\"text-align: right;\">\n",
       "      <th></th>\n",
       "      <th>0</th>\n",
       "      <th>1</th>\n",
       "      <th>2</th>\n",
       "      <th>3</th>\n",
       "      <th>4</th>\n",
       "      <th>5</th>\n",
       "      <th>6</th>\n",
       "      <th>7</th>\n",
       "      <th>8</th>\n",
       "      <th>9</th>\n",
       "      <th>...</th>\n",
       "      <th>582</th>\n",
       "      <th>583</th>\n",
       "      <th>584</th>\n",
       "      <th>585</th>\n",
       "      <th>586</th>\n",
       "      <th>587</th>\n",
       "      <th>588</th>\n",
       "      <th>589</th>\n",
       "      <th>Label</th>\n",
       "      <th>Time</th>\n",
       "    </tr>\n",
       "  </thead>\n",
       "  <tbody>\n",
       "    <tr>\n",
       "      <th>0</th>\n",
       "      <td>3030.93</td>\n",
       "      <td>2564.00</td>\n",
       "      <td>2187.7333</td>\n",
       "      <td>1411.1265</td>\n",
       "      <td>1.3602</td>\n",
       "      <td>100.0</td>\n",
       "      <td>97.6133</td>\n",
       "      <td>0.1242</td>\n",
       "      <td>1.5005</td>\n",
       "      <td>0.0162</td>\n",
       "      <td>...</td>\n",
       "      <td>0.5005</td>\n",
       "      <td>0.0118</td>\n",
       "      <td>0.0035</td>\n",
       "      <td>2.3630</td>\n",
       "      <td>NaN</td>\n",
       "      <td>NaN</td>\n",
       "      <td>NaN</td>\n",
       "      <td>NaN</td>\n",
       "      <td>-1</td>\n",
       "      <td>2008-07-19 11:55:00</td>\n",
       "    </tr>\n",
       "    <tr>\n",
       "      <th>1</th>\n",
       "      <td>3095.78</td>\n",
       "      <td>2465.14</td>\n",
       "      <td>2230.4222</td>\n",
       "      <td>1463.6606</td>\n",
       "      <td>0.8294</td>\n",
       "      <td>100.0</td>\n",
       "      <td>102.3433</td>\n",
       "      <td>0.1247</td>\n",
       "      <td>1.4966</td>\n",
       "      <td>-0.0005</td>\n",
       "      <td>...</td>\n",
       "      <td>0.5019</td>\n",
       "      <td>0.0223</td>\n",
       "      <td>0.0055</td>\n",
       "      <td>4.4447</td>\n",
       "      <td>0.0096</td>\n",
       "      <td>0.0201</td>\n",
       "      <td>0.0060</td>\n",
       "      <td>208.2045</td>\n",
       "      <td>-1</td>\n",
       "      <td>2008-07-19 12:32:00</td>\n",
       "    </tr>\n",
       "    <tr>\n",
       "      <th>2</th>\n",
       "      <td>2932.61</td>\n",
       "      <td>2559.94</td>\n",
       "      <td>2186.4111</td>\n",
       "      <td>1698.0172</td>\n",
       "      <td>1.5102</td>\n",
       "      <td>100.0</td>\n",
       "      <td>95.4878</td>\n",
       "      <td>0.1241</td>\n",
       "      <td>1.4436</td>\n",
       "      <td>0.0041</td>\n",
       "      <td>...</td>\n",
       "      <td>0.4958</td>\n",
       "      <td>0.0157</td>\n",
       "      <td>0.0039</td>\n",
       "      <td>3.1745</td>\n",
       "      <td>0.0584</td>\n",
       "      <td>0.0484</td>\n",
       "      <td>0.0148</td>\n",
       "      <td>82.8602</td>\n",
       "      <td>1</td>\n",
       "      <td>2008-07-19 13:17:00</td>\n",
       "    </tr>\n",
       "    <tr>\n",
       "      <th>3</th>\n",
       "      <td>2988.72</td>\n",
       "      <td>2479.90</td>\n",
       "      <td>2199.0333</td>\n",
       "      <td>909.7926</td>\n",
       "      <td>1.3204</td>\n",
       "      <td>100.0</td>\n",
       "      <td>104.2367</td>\n",
       "      <td>0.1217</td>\n",
       "      <td>1.4882</td>\n",
       "      <td>-0.0124</td>\n",
       "      <td>...</td>\n",
       "      <td>0.4990</td>\n",
       "      <td>0.0103</td>\n",
       "      <td>0.0025</td>\n",
       "      <td>2.0544</td>\n",
       "      <td>0.0202</td>\n",
       "      <td>0.0149</td>\n",
       "      <td>0.0044</td>\n",
       "      <td>73.8432</td>\n",
       "      <td>-1</td>\n",
       "      <td>2008-07-19 14:43:00</td>\n",
       "    </tr>\n",
       "    <tr>\n",
       "      <th>4</th>\n",
       "      <td>3032.24</td>\n",
       "      <td>2502.87</td>\n",
       "      <td>2233.3667</td>\n",
       "      <td>1326.5200</td>\n",
       "      <td>1.5334</td>\n",
       "      <td>100.0</td>\n",
       "      <td>100.3967</td>\n",
       "      <td>0.1235</td>\n",
       "      <td>1.5031</td>\n",
       "      <td>-0.0031</td>\n",
       "      <td>...</td>\n",
       "      <td>0.4800</td>\n",
       "      <td>0.4766</td>\n",
       "      <td>0.1045</td>\n",
       "      <td>99.3032</td>\n",
       "      <td>0.0202</td>\n",
       "      <td>0.0149</td>\n",
       "      <td>0.0044</td>\n",
       "      <td>73.8432</td>\n",
       "      <td>-1</td>\n",
       "      <td>2008-07-19 15:22:00</td>\n",
       "    </tr>\n",
       "    <tr>\n",
       "      <th>...</th>\n",
       "      <td>...</td>\n",
       "      <td>...</td>\n",
       "      <td>...</td>\n",
       "      <td>...</td>\n",
       "      <td>...</td>\n",
       "      <td>...</td>\n",
       "      <td>...</td>\n",
       "      <td>...</td>\n",
       "      <td>...</td>\n",
       "      <td>...</td>\n",
       "      <td>...</td>\n",
       "      <td>...</td>\n",
       "      <td>...</td>\n",
       "      <td>...</td>\n",
       "      <td>...</td>\n",
       "      <td>...</td>\n",
       "      <td>...</td>\n",
       "      <td>...</td>\n",
       "      <td>...</td>\n",
       "      <td>...</td>\n",
       "      <td>...</td>\n",
       "    </tr>\n",
       "    <tr>\n",
       "      <th>1562</th>\n",
       "      <td>2899.41</td>\n",
       "      <td>2464.36</td>\n",
       "      <td>2179.7333</td>\n",
       "      <td>3085.3781</td>\n",
       "      <td>1.4843</td>\n",
       "      <td>100.0</td>\n",
       "      <td>82.2467</td>\n",
       "      <td>0.1248</td>\n",
       "      <td>1.3424</td>\n",
       "      <td>-0.0045</td>\n",
       "      <td>...</td>\n",
       "      <td>0.4988</td>\n",
       "      <td>0.0143</td>\n",
       "      <td>0.0039</td>\n",
       "      <td>2.8669</td>\n",
       "      <td>0.0068</td>\n",
       "      <td>0.0138</td>\n",
       "      <td>0.0047</td>\n",
       "      <td>203.1720</td>\n",
       "      <td>-1</td>\n",
       "      <td>2008-10-16 15:13:00</td>\n",
       "    </tr>\n",
       "    <tr>\n",
       "      <th>1563</th>\n",
       "      <td>3052.31</td>\n",
       "      <td>2522.55</td>\n",
       "      <td>2198.5667</td>\n",
       "      <td>1124.6595</td>\n",
       "      <td>0.8763</td>\n",
       "      <td>100.0</td>\n",
       "      <td>98.4689</td>\n",
       "      <td>0.1205</td>\n",
       "      <td>1.4333</td>\n",
       "      <td>-0.0061</td>\n",
       "      <td>...</td>\n",
       "      <td>0.4975</td>\n",
       "      <td>0.0131</td>\n",
       "      <td>0.0036</td>\n",
       "      <td>2.6238</td>\n",
       "      <td>0.0068</td>\n",
       "      <td>0.0138</td>\n",
       "      <td>0.0047</td>\n",
       "      <td>203.1720</td>\n",
       "      <td>-1</td>\n",
       "      <td>2008-10-16 20:49:00</td>\n",
       "    </tr>\n",
       "    <tr>\n",
       "      <th>1564</th>\n",
       "      <td>2978.81</td>\n",
       "      <td>2379.78</td>\n",
       "      <td>2206.3000</td>\n",
       "      <td>1110.4967</td>\n",
       "      <td>0.8236</td>\n",
       "      <td>100.0</td>\n",
       "      <td>99.4122</td>\n",
       "      <td>0.1208</td>\n",
       "      <td>NaN</td>\n",
       "      <td>NaN</td>\n",
       "      <td>...</td>\n",
       "      <td>0.4987</td>\n",
       "      <td>0.0153</td>\n",
       "      <td>0.0041</td>\n",
       "      <td>3.0590</td>\n",
       "      <td>0.0197</td>\n",
       "      <td>0.0086</td>\n",
       "      <td>0.0025</td>\n",
       "      <td>43.5231</td>\n",
       "      <td>-1</td>\n",
       "      <td>2008-10-17 05:26:00</td>\n",
       "    </tr>\n",
       "    <tr>\n",
       "      <th>1565</th>\n",
       "      <td>2894.92</td>\n",
       "      <td>2532.01</td>\n",
       "      <td>2177.0333</td>\n",
       "      <td>1183.7287</td>\n",
       "      <td>1.5726</td>\n",
       "      <td>100.0</td>\n",
       "      <td>98.7978</td>\n",
       "      <td>0.1213</td>\n",
       "      <td>1.4622</td>\n",
       "      <td>-0.0072</td>\n",
       "      <td>...</td>\n",
       "      <td>0.5004</td>\n",
       "      <td>0.0178</td>\n",
       "      <td>0.0038</td>\n",
       "      <td>3.5662</td>\n",
       "      <td>0.0262</td>\n",
       "      <td>0.0245</td>\n",
       "      <td>0.0075</td>\n",
       "      <td>93.4941</td>\n",
       "      <td>-1</td>\n",
       "      <td>2008-10-17 06:01:00</td>\n",
       "    </tr>\n",
       "    <tr>\n",
       "      <th>1566</th>\n",
       "      <td>2944.92</td>\n",
       "      <td>2450.76</td>\n",
       "      <td>2195.4444</td>\n",
       "      <td>2914.1792</td>\n",
       "      <td>1.5978</td>\n",
       "      <td>100.0</td>\n",
       "      <td>85.1011</td>\n",
       "      <td>0.1235</td>\n",
       "      <td>NaN</td>\n",
       "      <td>NaN</td>\n",
       "      <td>...</td>\n",
       "      <td>0.4987</td>\n",
       "      <td>0.0181</td>\n",
       "      <td>0.0040</td>\n",
       "      <td>3.6275</td>\n",
       "      <td>0.0117</td>\n",
       "      <td>0.0162</td>\n",
       "      <td>0.0045</td>\n",
       "      <td>137.7844</td>\n",
       "      <td>-1</td>\n",
       "      <td>2008-10-17 06:07:00</td>\n",
       "    </tr>\n",
       "  </tbody>\n",
       "</table>\n",
       "<p>1567 rows × 592 columns</p>\n",
       "</div>"
      ],
      "text/plain": [
       "            0        1          2          3       4      5         6       7  \\\n",
       "0     3030.93  2564.00  2187.7333  1411.1265  1.3602  100.0   97.6133  0.1242   \n",
       "1     3095.78  2465.14  2230.4222  1463.6606  0.8294  100.0  102.3433  0.1247   \n",
       "2     2932.61  2559.94  2186.4111  1698.0172  1.5102  100.0   95.4878  0.1241   \n",
       "3     2988.72  2479.90  2199.0333   909.7926  1.3204  100.0  104.2367  0.1217   \n",
       "4     3032.24  2502.87  2233.3667  1326.5200  1.5334  100.0  100.3967  0.1235   \n",
       "...       ...      ...        ...        ...     ...    ...       ...     ...   \n",
       "1562  2899.41  2464.36  2179.7333  3085.3781  1.4843  100.0   82.2467  0.1248   \n",
       "1563  3052.31  2522.55  2198.5667  1124.6595  0.8763  100.0   98.4689  0.1205   \n",
       "1564  2978.81  2379.78  2206.3000  1110.4967  0.8236  100.0   99.4122  0.1208   \n",
       "1565  2894.92  2532.01  2177.0333  1183.7287  1.5726  100.0   98.7978  0.1213   \n",
       "1566  2944.92  2450.76  2195.4444  2914.1792  1.5978  100.0   85.1011  0.1235   \n",
       "\n",
       "           8       9  ...     582     583     584      585     586     587  \\\n",
       "0     1.5005  0.0162  ...  0.5005  0.0118  0.0035   2.3630     NaN     NaN   \n",
       "1     1.4966 -0.0005  ...  0.5019  0.0223  0.0055   4.4447  0.0096  0.0201   \n",
       "2     1.4436  0.0041  ...  0.4958  0.0157  0.0039   3.1745  0.0584  0.0484   \n",
       "3     1.4882 -0.0124  ...  0.4990  0.0103  0.0025   2.0544  0.0202  0.0149   \n",
       "4     1.5031 -0.0031  ...  0.4800  0.4766  0.1045  99.3032  0.0202  0.0149   \n",
       "...      ...     ...  ...     ...     ...     ...      ...     ...     ...   \n",
       "1562  1.3424 -0.0045  ...  0.4988  0.0143  0.0039   2.8669  0.0068  0.0138   \n",
       "1563  1.4333 -0.0061  ...  0.4975  0.0131  0.0036   2.6238  0.0068  0.0138   \n",
       "1564     NaN     NaN  ...  0.4987  0.0153  0.0041   3.0590  0.0197  0.0086   \n",
       "1565  1.4622 -0.0072  ...  0.5004  0.0178  0.0038   3.5662  0.0262  0.0245   \n",
       "1566     NaN     NaN  ...  0.4987  0.0181  0.0040   3.6275  0.0117  0.0162   \n",
       "\n",
       "         588       589  Label                Time  \n",
       "0        NaN       NaN     -1 2008-07-19 11:55:00  \n",
       "1     0.0060  208.2045     -1 2008-07-19 12:32:00  \n",
       "2     0.0148   82.8602      1 2008-07-19 13:17:00  \n",
       "3     0.0044   73.8432     -1 2008-07-19 14:43:00  \n",
       "4     0.0044   73.8432     -1 2008-07-19 15:22:00  \n",
       "...      ...       ...    ...                 ...  \n",
       "1562  0.0047  203.1720     -1 2008-10-16 15:13:00  \n",
       "1563  0.0047  203.1720     -1 2008-10-16 20:49:00  \n",
       "1564  0.0025   43.5231     -1 2008-10-17 05:26:00  \n",
       "1565  0.0075   93.4941     -1 2008-10-17 06:01:00  \n",
       "1566  0.0045  137.7844     -1 2008-10-17 06:07:00  \n",
       "\n",
       "[1567 rows x 592 columns]"
      ]
     },
     "execution_count": 108,
     "metadata": {},
     "output_type": "execute_result"
    }
   ],
   "source": [
    "concat_df"
   ]
  },
  {
   "cell_type": "code",
   "execution_count": 109,
   "metadata": {},
   "outputs": [
    {
     "data": {
      "text/html": [
       "<div>\n",
       "<style scoped>\n",
       "    .dataframe tbody tr th:only-of-type {\n",
       "        vertical-align: middle;\n",
       "    }\n",
       "\n",
       "    .dataframe tbody tr th {\n",
       "        vertical-align: top;\n",
       "    }\n",
       "\n",
       "    .dataframe thead th {\n",
       "        text-align: right;\n",
       "    }\n",
       "</style>\n",
       "<table border=\"1\" class=\"dataframe\">\n",
       "  <thead>\n",
       "    <tr style=\"text-align: right;\">\n",
       "      <th></th>\n",
       "      <th>0</th>\n",
       "      <th>1</th>\n",
       "      <th>2</th>\n",
       "      <th>3</th>\n",
       "      <th>4</th>\n",
       "      <th>5</th>\n",
       "      <th>6</th>\n",
       "      <th>7</th>\n",
       "      <th>8</th>\n",
       "      <th>9</th>\n",
       "      <th>...</th>\n",
       "      <th>580</th>\n",
       "      <th>581</th>\n",
       "      <th>582</th>\n",
       "      <th>583</th>\n",
       "      <th>584</th>\n",
       "      <th>585</th>\n",
       "      <th>586</th>\n",
       "      <th>587</th>\n",
       "      <th>588</th>\n",
       "      <th>589</th>\n",
       "    </tr>\n",
       "  </thead>\n",
       "  <tbody>\n",
       "    <tr>\n",
       "      <th>count</th>\n",
       "      <td>1561.000000</td>\n",
       "      <td>1560.000000</td>\n",
       "      <td>1553.000000</td>\n",
       "      <td>1553.000000</td>\n",
       "      <td>1553.000000</td>\n",
       "      <td>1553.0</td>\n",
       "      <td>1553.000000</td>\n",
       "      <td>1558.000000</td>\n",
       "      <td>1565.000000</td>\n",
       "      <td>1565.000000</td>\n",
       "      <td>...</td>\n",
       "      <td>618.000000</td>\n",
       "      <td>618.000000</td>\n",
       "      <td>1566.000000</td>\n",
       "      <td>1566.000000</td>\n",
       "      <td>1566.000000</td>\n",
       "      <td>1566.000000</td>\n",
       "      <td>1566.000000</td>\n",
       "      <td>1566.000000</td>\n",
       "      <td>1566.000000</td>\n",
       "      <td>1566.000000</td>\n",
       "    </tr>\n",
       "    <tr>\n",
       "      <th>mean</th>\n",
       "      <td>3014.452896</td>\n",
       "      <td>2495.850231</td>\n",
       "      <td>2200.547318</td>\n",
       "      <td>1396.376627</td>\n",
       "      <td>4.197013</td>\n",
       "      <td>100.0</td>\n",
       "      <td>101.112908</td>\n",
       "      <td>0.121822</td>\n",
       "      <td>1.462862</td>\n",
       "      <td>-0.000841</td>\n",
       "      <td>...</td>\n",
       "      <td>0.005396</td>\n",
       "      <td>97.934373</td>\n",
       "      <td>0.500096</td>\n",
       "      <td>0.015318</td>\n",
       "      <td>0.003847</td>\n",
       "      <td>3.067826</td>\n",
       "      <td>0.021458</td>\n",
       "      <td>0.016475</td>\n",
       "      <td>0.005283</td>\n",
       "      <td>99.670066</td>\n",
       "    </tr>\n",
       "    <tr>\n",
       "      <th>std</th>\n",
       "      <td>73.621787</td>\n",
       "      <td>80.407705</td>\n",
       "      <td>29.513152</td>\n",
       "      <td>441.691640</td>\n",
       "      <td>56.355540</td>\n",
       "      <td>0.0</td>\n",
       "      <td>6.237214</td>\n",
       "      <td>0.008961</td>\n",
       "      <td>0.073897</td>\n",
       "      <td>0.015116</td>\n",
       "      <td>...</td>\n",
       "      <td>0.003116</td>\n",
       "      <td>87.520966</td>\n",
       "      <td>0.003404</td>\n",
       "      <td>0.017180</td>\n",
       "      <td>0.003720</td>\n",
       "      <td>3.578033</td>\n",
       "      <td>0.012358</td>\n",
       "      <td>0.008808</td>\n",
       "      <td>0.002867</td>\n",
       "      <td>93.891919</td>\n",
       "    </tr>\n",
       "    <tr>\n",
       "      <th>min</th>\n",
       "      <td>2743.240000</td>\n",
       "      <td>2158.750000</td>\n",
       "      <td>2060.660000</td>\n",
       "      <td>0.000000</td>\n",
       "      <td>0.681500</td>\n",
       "      <td>100.0</td>\n",
       "      <td>82.131100</td>\n",
       "      <td>0.000000</td>\n",
       "      <td>1.191000</td>\n",
       "      <td>-0.053400</td>\n",
       "      <td>...</td>\n",
       "      <td>0.001000</td>\n",
       "      <td>0.000000</td>\n",
       "      <td>0.477800</td>\n",
       "      <td>0.006000</td>\n",
       "      <td>0.001700</td>\n",
       "      <td>1.197500</td>\n",
       "      <td>-0.016900</td>\n",
       "      <td>0.003200</td>\n",
       "      <td>0.001000</td>\n",
       "      <td>0.000000</td>\n",
       "    </tr>\n",
       "    <tr>\n",
       "      <th>25%</th>\n",
       "      <td>2966.260000</td>\n",
       "      <td>2452.247500</td>\n",
       "      <td>2181.044400</td>\n",
       "      <td>1081.875800</td>\n",
       "      <td>1.017700</td>\n",
       "      <td>100.0</td>\n",
       "      <td>97.920000</td>\n",
       "      <td>0.121100</td>\n",
       "      <td>1.411200</td>\n",
       "      <td>-0.010800</td>\n",
       "      <td>...</td>\n",
       "      <td>0.003400</td>\n",
       "      <td>46.184900</td>\n",
       "      <td>0.497900</td>\n",
       "      <td>0.011600</td>\n",
       "      <td>0.003100</td>\n",
       "      <td>2.306500</td>\n",
       "      <td>0.013425</td>\n",
       "      <td>0.010600</td>\n",
       "      <td>0.003300</td>\n",
       "      <td>44.368600</td>\n",
       "    </tr>\n",
       "    <tr>\n",
       "      <th>50%</th>\n",
       "      <td>3011.490000</td>\n",
       "      <td>2499.405000</td>\n",
       "      <td>2201.066700</td>\n",
       "      <td>1285.214400</td>\n",
       "      <td>1.316800</td>\n",
       "      <td>100.0</td>\n",
       "      <td>101.512200</td>\n",
       "      <td>0.122400</td>\n",
       "      <td>1.461600</td>\n",
       "      <td>-0.001300</td>\n",
       "      <td>...</td>\n",
       "      <td>0.004700</td>\n",
       "      <td>72.288900</td>\n",
       "      <td>0.500200</td>\n",
       "      <td>0.013800</td>\n",
       "      <td>0.003600</td>\n",
       "      <td>2.757650</td>\n",
       "      <td>0.020500</td>\n",
       "      <td>0.014800</td>\n",
       "      <td>0.004600</td>\n",
       "      <td>71.900500</td>\n",
       "    </tr>\n",
       "    <tr>\n",
       "      <th>75%</th>\n",
       "      <td>3056.650000</td>\n",
       "      <td>2538.822500</td>\n",
       "      <td>2218.055500</td>\n",
       "      <td>1591.223500</td>\n",
       "      <td>1.525700</td>\n",
       "      <td>100.0</td>\n",
       "      <td>104.586700</td>\n",
       "      <td>0.123800</td>\n",
       "      <td>1.516900</td>\n",
       "      <td>0.008400</td>\n",
       "      <td>...</td>\n",
       "      <td>0.006475</td>\n",
       "      <td>116.539150</td>\n",
       "      <td>0.502375</td>\n",
       "      <td>0.016500</td>\n",
       "      <td>0.004100</td>\n",
       "      <td>3.295175</td>\n",
       "      <td>0.027600</td>\n",
       "      <td>0.020300</td>\n",
       "      <td>0.006400</td>\n",
       "      <td>114.749700</td>\n",
       "    </tr>\n",
       "    <tr>\n",
       "      <th>max</th>\n",
       "      <td>3356.350000</td>\n",
       "      <td>2846.440000</td>\n",
       "      <td>2315.266700</td>\n",
       "      <td>3715.041700</td>\n",
       "      <td>1114.536600</td>\n",
       "      <td>100.0</td>\n",
       "      <td>129.252200</td>\n",
       "      <td>0.128600</td>\n",
       "      <td>1.656400</td>\n",
       "      <td>0.074900</td>\n",
       "      <td>...</td>\n",
       "      <td>0.028600</td>\n",
       "      <td>737.304800</td>\n",
       "      <td>0.509800</td>\n",
       "      <td>0.476600</td>\n",
       "      <td>0.104500</td>\n",
       "      <td>99.303200</td>\n",
       "      <td>0.102800</td>\n",
       "      <td>0.079900</td>\n",
       "      <td>0.028600</td>\n",
       "      <td>737.304800</td>\n",
       "    </tr>\n",
       "  </tbody>\n",
       "</table>\n",
       "<p>8 rows × 590 columns</p>\n",
       "</div>"
      ],
      "text/plain": [
       "               0            1            2            3            4    \\\n",
       "count  1561.000000  1560.000000  1553.000000  1553.000000  1553.000000   \n",
       "mean   3014.452896  2495.850231  2200.547318  1396.376627     4.197013   \n",
       "std      73.621787    80.407705    29.513152   441.691640    56.355540   \n",
       "min    2743.240000  2158.750000  2060.660000     0.000000     0.681500   \n",
       "25%    2966.260000  2452.247500  2181.044400  1081.875800     1.017700   \n",
       "50%    3011.490000  2499.405000  2201.066700  1285.214400     1.316800   \n",
       "75%    3056.650000  2538.822500  2218.055500  1591.223500     1.525700   \n",
       "max    3356.350000  2846.440000  2315.266700  3715.041700  1114.536600   \n",
       "\n",
       "          5            6            7            8            9    ...  \\\n",
       "count  1553.0  1553.000000  1558.000000  1565.000000  1565.000000  ...   \n",
       "mean    100.0   101.112908     0.121822     1.462862    -0.000841  ...   \n",
       "std       0.0     6.237214     0.008961     0.073897     0.015116  ...   \n",
       "min     100.0    82.131100     0.000000     1.191000    -0.053400  ...   \n",
       "25%     100.0    97.920000     0.121100     1.411200    -0.010800  ...   \n",
       "50%     100.0   101.512200     0.122400     1.461600    -0.001300  ...   \n",
       "75%     100.0   104.586700     0.123800     1.516900     0.008400  ...   \n",
       "max     100.0   129.252200     0.128600     1.656400     0.074900  ...   \n",
       "\n",
       "              580         581          582          583          584  \\\n",
       "count  618.000000  618.000000  1566.000000  1566.000000  1566.000000   \n",
       "mean     0.005396   97.934373     0.500096     0.015318     0.003847   \n",
       "std      0.003116   87.520966     0.003404     0.017180     0.003720   \n",
       "min      0.001000    0.000000     0.477800     0.006000     0.001700   \n",
       "25%      0.003400   46.184900     0.497900     0.011600     0.003100   \n",
       "50%      0.004700   72.288900     0.500200     0.013800     0.003600   \n",
       "75%      0.006475  116.539150     0.502375     0.016500     0.004100   \n",
       "max      0.028600  737.304800     0.509800     0.476600     0.104500   \n",
       "\n",
       "               585          586          587          588          589  \n",
       "count  1566.000000  1566.000000  1566.000000  1566.000000  1566.000000  \n",
       "mean      3.067826     0.021458     0.016475     0.005283    99.670066  \n",
       "std       3.578033     0.012358     0.008808     0.002867    93.891919  \n",
       "min       1.197500    -0.016900     0.003200     0.001000     0.000000  \n",
       "25%       2.306500     0.013425     0.010600     0.003300    44.368600  \n",
       "50%       2.757650     0.020500     0.014800     0.004600    71.900500  \n",
       "75%       3.295175     0.027600     0.020300     0.006400   114.749700  \n",
       "max      99.303200     0.102800     0.079900     0.028600   737.304800  \n",
       "\n",
       "[8 rows x 590 columns]"
      ]
     },
     "execution_count": 109,
     "metadata": {},
     "output_type": "execute_result"
    }
   ],
   "source": [
    "concat_df.describe()"
   ]
  },
  {
   "cell_type": "code",
   "execution_count": 110,
   "metadata": {},
   "outputs": [
    {
     "name": "stdout",
     "output_type": "stream",
     "text": [
      "<class 'pandas.core.frame.DataFrame'>\n",
      "RangeIndex: 1567 entries, 0 to 1566\n",
      "Columns: 592 entries, 0 to Time\n",
      "dtypes: category(1), datetime64[ns](1), float64(590)\n",
      "memory usage: 7.1 MB\n"
     ]
    }
   ],
   "source": [
    "concat_df.info()"
   ]
  },
  {
   "cell_type": "code",
   "execution_count": 111,
   "metadata": {},
   "outputs": [
    {
     "data": {
      "text/plain": [
       "0"
      ]
     },
     "execution_count": 111,
     "metadata": {},
     "output_type": "execute_result"
    }
   ],
   "source": [
    "concat_df.duplicated().sum()"
   ]
  },
  {
   "cell_type": "code",
   "execution_count": 283,
   "metadata": {},
   "outputs": [],
   "source": [
    "concat_df.drop(\"Time\",axis=1,inplace=True)"
   ]
  },
  {
   "cell_type": "markdown",
   "metadata": {},
   "source": [
    "# Count the missing values"
   ]
  },
  {
   "cell_type": "code",
   "execution_count": 284,
   "metadata": {},
   "outputs": [],
   "source": [
    "percent_missing = concat_df.isnull().sum() * 100 / len(concat_df)\n",
    "missing_value_df = pd.DataFrame({'column_name': concat_df.columns,\n",
    "                                 'percent_missing': percent_missing})"
   ]
  },
  {
   "cell_type": "code",
   "execution_count": 285,
   "metadata": {},
   "outputs": [
    {
     "data": {
      "text/html": [
       "<div>\n",
       "<style scoped>\n",
       "    .dataframe tbody tr th:only-of-type {\n",
       "        vertical-align: middle;\n",
       "    }\n",
       "\n",
       "    .dataframe tbody tr th {\n",
       "        vertical-align: top;\n",
       "    }\n",
       "\n",
       "    .dataframe thead th {\n",
       "        text-align: right;\n",
       "    }\n",
       "</style>\n",
       "<table border=\"1\" class=\"dataframe\">\n",
       "  <thead>\n",
       "    <tr style=\"text-align: right;\">\n",
       "      <th></th>\n",
       "      <th>percent_missing</th>\n",
       "    </tr>\n",
       "  </thead>\n",
       "  <tbody>\n",
       "    <tr>\n",
       "      <th>count</th>\n",
       "      <td>591.000000</td>\n",
       "    </tr>\n",
       "    <tr>\n",
       "      <th>mean</th>\n",
       "      <td>4.529871</td>\n",
       "    </tr>\n",
       "    <tr>\n",
       "      <th>std</th>\n",
       "      <td>15.422031</td>\n",
       "    </tr>\n",
       "    <tr>\n",
       "      <th>min</th>\n",
       "      <td>0.000000</td>\n",
       "    </tr>\n",
       "    <tr>\n",
       "      <th>25%</th>\n",
       "      <td>0.127632</td>\n",
       "    </tr>\n",
       "    <tr>\n",
       "      <th>50%</th>\n",
       "      <td>0.382897</td>\n",
       "    </tr>\n",
       "    <tr>\n",
       "      <th>75%</th>\n",
       "      <td>0.574346</td>\n",
       "    </tr>\n",
       "    <tr>\n",
       "      <th>max</th>\n",
       "      <td>91.193363</td>\n",
       "    </tr>\n",
       "  </tbody>\n",
       "</table>\n",
       "</div>"
      ],
      "text/plain": [
       "       percent_missing\n",
       "count       591.000000\n",
       "mean          4.529871\n",
       "std          15.422031\n",
       "min           0.000000\n",
       "25%           0.127632\n",
       "50%           0.382897\n",
       "75%           0.574346\n",
       "max          91.193363"
      ]
     },
     "execution_count": 285,
     "metadata": {},
     "output_type": "execute_result"
    }
   ],
   "source": [
    "missing_value_df.describe()"
   ]
  },
  {
   "cell_type": "code",
   "execution_count": 286,
   "metadata": {},
   "outputs": [
    {
     "data": {
      "application/vnd.plotly.v1+json": {
       "config": {
        "plotlyServerURL": "https://plot.ly"
       },
       "data": [
        {
         "alignmentgroup": "True",
         "hovertemplate": "variable=%{x}<br>value=%{y}<extra></extra>",
         "legendgroup": "",
         "marker": {
          "color": "#636efa"
         },
         "name": "",
         "notched": false,
         "offsetgroup": "",
         "orientation": "v",
         "showlegend": false,
         "type": "box",
         "x": [
          "percent_missing",
          "percent_missing",
          "percent_missing",
          "percent_missing",
          "percent_missing",
          "percent_missing",
          "percent_missing",
          "percent_missing",
          "percent_missing",
          "percent_missing",
          "percent_missing",
          "percent_missing",
          "percent_missing",
          "percent_missing",
          "percent_missing",
          "percent_missing",
          "percent_missing",
          "percent_missing",
          "percent_missing",
          "percent_missing",
          "percent_missing",
          "percent_missing",
          "percent_missing",
          "percent_missing",
          "percent_missing",
          "percent_missing",
          "percent_missing",
          "percent_missing",
          "percent_missing",
          "percent_missing",
          "percent_missing",
          "percent_missing",
          "percent_missing",
          "percent_missing",
          "percent_missing",
          "percent_missing",
          "percent_missing",
          "percent_missing",
          "percent_missing",
          "percent_missing",
          "percent_missing",
          "percent_missing",
          "percent_missing",
          "percent_missing",
          "percent_missing",
          "percent_missing",
          "percent_missing",
          "percent_missing",
          "percent_missing",
          "percent_missing",
          "percent_missing",
          "percent_missing",
          "percent_missing",
          "percent_missing",
          "percent_missing",
          "percent_missing",
          "percent_missing",
          "percent_missing",
          "percent_missing",
          "percent_missing",
          "percent_missing",
          "percent_missing",
          "percent_missing",
          "percent_missing",
          "percent_missing",
          "percent_missing",
          "percent_missing",
          "percent_missing",
          "percent_missing",
          "percent_missing",
          "percent_missing",
          "percent_missing",
          "percent_missing",
          "percent_missing",
          "percent_missing",
          "percent_missing",
          "percent_missing",
          "percent_missing",
          "percent_missing",
          "percent_missing",
          "percent_missing",
          "percent_missing",
          "percent_missing",
          "percent_missing",
          "percent_missing",
          "percent_missing",
          "percent_missing",
          "percent_missing",
          "percent_missing",
          "percent_missing",
          "percent_missing",
          "percent_missing",
          "percent_missing",
          "percent_missing",
          "percent_missing",
          "percent_missing",
          "percent_missing",
          "percent_missing",
          "percent_missing",
          "percent_missing",
          "percent_missing",
          "percent_missing",
          "percent_missing",
          "percent_missing",
          "percent_missing",
          "percent_missing",
          "percent_missing",
          "percent_missing",
          "percent_missing",
          "percent_missing",
          "percent_missing",
          "percent_missing",
          "percent_missing",
          "percent_missing",
          "percent_missing",
          "percent_missing",
          "percent_missing",
          "percent_missing",
          "percent_missing",
          "percent_missing",
          "percent_missing",
          "percent_missing",
          "percent_missing",
          "percent_missing",
          "percent_missing",
          "percent_missing",
          "percent_missing",
          "percent_missing",
          "percent_missing",
          "percent_missing",
          "percent_missing",
          "percent_missing",
          "percent_missing",
          "percent_missing",
          "percent_missing",
          "percent_missing",
          "percent_missing",
          "percent_missing",
          "percent_missing",
          "percent_missing",
          "percent_missing",
          "percent_missing",
          "percent_missing",
          "percent_missing",
          "percent_missing",
          "percent_missing",
          "percent_missing",
          "percent_missing",
          "percent_missing",
          "percent_missing",
          "percent_missing",
          "percent_missing",
          "percent_missing",
          "percent_missing",
          "percent_missing",
          "percent_missing",
          "percent_missing",
          "percent_missing",
          "percent_missing",
          "percent_missing",
          "percent_missing",
          "percent_missing",
          "percent_missing",
          "percent_missing",
          "percent_missing",
          "percent_missing",
          "percent_missing",
          "percent_missing",
          "percent_missing",
          "percent_missing",
          "percent_missing",
          "percent_missing",
          "percent_missing",
          "percent_missing",
          "percent_missing",
          "percent_missing",
          "percent_missing",
          "percent_missing",
          "percent_missing",
          "percent_missing",
          "percent_missing",
          "percent_missing",
          "percent_missing",
          "percent_missing",
          "percent_missing",
          "percent_missing",
          "percent_missing",
          "percent_missing",
          "percent_missing",
          "percent_missing",
          "percent_missing",
          "percent_missing",
          "percent_missing",
          "percent_missing",
          "percent_missing",
          "percent_missing",
          "percent_missing",
          "percent_missing",
          "percent_missing",
          "percent_missing",
          "percent_missing",
          "percent_missing",
          "percent_missing",
          "percent_missing",
          "percent_missing",
          "percent_missing",
          "percent_missing",
          "percent_missing",
          "percent_missing",
          "percent_missing",
          "percent_missing",
          "percent_missing",
          "percent_missing",
          "percent_missing",
          "percent_missing",
          "percent_missing",
          "percent_missing",
          "percent_missing",
          "percent_missing",
          "percent_missing",
          "percent_missing",
          "percent_missing",
          "percent_missing",
          "percent_missing",
          "percent_missing",
          "percent_missing",
          "percent_missing",
          "percent_missing",
          "percent_missing",
          "percent_missing",
          "percent_missing",
          "percent_missing",
          "percent_missing",
          "percent_missing",
          "percent_missing",
          "percent_missing",
          "percent_missing",
          "percent_missing",
          "percent_missing",
          "percent_missing",
          "percent_missing",
          "percent_missing",
          "percent_missing",
          "percent_missing",
          "percent_missing",
          "percent_missing",
          "percent_missing",
          "percent_missing",
          "percent_missing",
          "percent_missing",
          "percent_missing",
          "percent_missing",
          "percent_missing",
          "percent_missing",
          "percent_missing",
          "percent_missing",
          "percent_missing",
          "percent_missing",
          "percent_missing",
          "percent_missing",
          "percent_missing",
          "percent_missing",
          "percent_missing",
          "percent_missing",
          "percent_missing",
          "percent_missing",
          "percent_missing",
          "percent_missing",
          "percent_missing",
          "percent_missing",
          "percent_missing",
          "percent_missing",
          "percent_missing",
          "percent_missing",
          "percent_missing",
          "percent_missing",
          "percent_missing",
          "percent_missing",
          "percent_missing",
          "percent_missing",
          "percent_missing",
          "percent_missing",
          "percent_missing",
          "percent_missing",
          "percent_missing",
          "percent_missing",
          "percent_missing",
          "percent_missing",
          "percent_missing",
          "percent_missing",
          "percent_missing",
          "percent_missing",
          "percent_missing",
          "percent_missing",
          "percent_missing",
          "percent_missing",
          "percent_missing",
          "percent_missing",
          "percent_missing",
          "percent_missing",
          "percent_missing",
          "percent_missing",
          "percent_missing",
          "percent_missing",
          "percent_missing",
          "percent_missing",
          "percent_missing",
          "percent_missing",
          "percent_missing",
          "percent_missing",
          "percent_missing",
          "percent_missing",
          "percent_missing",
          "percent_missing",
          "percent_missing",
          "percent_missing",
          "percent_missing",
          "percent_missing",
          "percent_missing",
          "percent_missing",
          "percent_missing",
          "percent_missing",
          "percent_missing",
          "percent_missing",
          "percent_missing",
          "percent_missing",
          "percent_missing",
          "percent_missing",
          "percent_missing",
          "percent_missing",
          "percent_missing",
          "percent_missing",
          "percent_missing",
          "percent_missing",
          "percent_missing",
          "percent_missing",
          "percent_missing",
          "percent_missing",
          "percent_missing",
          "percent_missing",
          "percent_missing",
          "percent_missing",
          "percent_missing",
          "percent_missing",
          "percent_missing",
          "percent_missing",
          "percent_missing",
          "percent_missing",
          "percent_missing",
          "percent_missing",
          "percent_missing",
          "percent_missing",
          "percent_missing",
          "percent_missing",
          "percent_missing",
          "percent_missing",
          "percent_missing",
          "percent_missing",
          "percent_missing",
          "percent_missing",
          "percent_missing",
          "percent_missing",
          "percent_missing",
          "percent_missing",
          "percent_missing",
          "percent_missing",
          "percent_missing",
          "percent_missing",
          "percent_missing",
          "percent_missing",
          "percent_missing",
          "percent_missing",
          "percent_missing",
          "percent_missing",
          "percent_missing",
          "percent_missing",
          "percent_missing",
          "percent_missing",
          "percent_missing",
          "percent_missing",
          "percent_missing",
          "percent_missing",
          "percent_missing",
          "percent_missing",
          "percent_missing",
          "percent_missing",
          "percent_missing",
          "percent_missing",
          "percent_missing",
          "percent_missing",
          "percent_missing",
          "percent_missing",
          "percent_missing",
          "percent_missing",
          "percent_missing",
          "percent_missing",
          "percent_missing",
          "percent_missing",
          "percent_missing",
          "percent_missing",
          "percent_missing",
          "percent_missing",
          "percent_missing",
          "percent_missing",
          "percent_missing",
          "percent_missing",
          "percent_missing",
          "percent_missing",
          "percent_missing",
          "percent_missing",
          "percent_missing",
          "percent_missing",
          "percent_missing",
          "percent_missing",
          "percent_missing",
          "percent_missing",
          "percent_missing",
          "percent_missing",
          "percent_missing",
          "percent_missing",
          "percent_missing",
          "percent_missing",
          "percent_missing",
          "percent_missing",
          "percent_missing",
          "percent_missing",
          "percent_missing",
          "percent_missing",
          "percent_missing",
          "percent_missing",
          "percent_missing",
          "percent_missing",
          "percent_missing",
          "percent_missing",
          "percent_missing",
          "percent_missing",
          "percent_missing",
          "percent_missing",
          "percent_missing",
          "percent_missing",
          "percent_missing",
          "percent_missing",
          "percent_missing",
          "percent_missing",
          "percent_missing",
          "percent_missing",
          "percent_missing",
          "percent_missing",
          "percent_missing",
          "percent_missing",
          "percent_missing",
          "percent_missing",
          "percent_missing",
          "percent_missing",
          "percent_missing",
          "percent_missing",
          "percent_missing",
          "percent_missing",
          "percent_missing",
          "percent_missing",
          "percent_missing",
          "percent_missing",
          "percent_missing",
          "percent_missing",
          "percent_missing",
          "percent_missing",
          "percent_missing",
          "percent_missing",
          "percent_missing",
          "percent_missing",
          "percent_missing",
          "percent_missing",
          "percent_missing",
          "percent_missing",
          "percent_missing",
          "percent_missing",
          "percent_missing",
          "percent_missing",
          "percent_missing",
          "percent_missing",
          "percent_missing",
          "percent_missing",
          "percent_missing",
          "percent_missing",
          "percent_missing",
          "percent_missing",
          "percent_missing",
          "percent_missing",
          "percent_missing",
          "percent_missing",
          "percent_missing",
          "percent_missing",
          "percent_missing",
          "percent_missing",
          "percent_missing",
          "percent_missing",
          "percent_missing",
          "percent_missing",
          "percent_missing",
          "percent_missing",
          "percent_missing",
          "percent_missing",
          "percent_missing",
          "percent_missing",
          "percent_missing",
          "percent_missing",
          "percent_missing",
          "percent_missing",
          "percent_missing",
          "percent_missing",
          "percent_missing",
          "percent_missing",
          "percent_missing",
          "percent_missing",
          "percent_missing",
          "percent_missing",
          "percent_missing",
          "percent_missing",
          "percent_missing",
          "percent_missing",
          "percent_missing",
          "percent_missing",
          "percent_missing",
          "percent_missing",
          "percent_missing",
          "percent_missing",
          "percent_missing",
          "percent_missing",
          "percent_missing",
          "percent_missing",
          "percent_missing",
          "percent_missing",
          "percent_missing",
          "percent_missing",
          "percent_missing",
          "percent_missing",
          "percent_missing",
          "percent_missing",
          "percent_missing",
          "percent_missing",
          "percent_missing",
          "percent_missing",
          "percent_missing",
          "percent_missing",
          "percent_missing",
          "percent_missing",
          "percent_missing",
          "percent_missing",
          "percent_missing",
          "percent_missing",
          "percent_missing",
          "percent_missing",
          "percent_missing",
          "percent_missing",
          "percent_missing",
          "percent_missing",
          "percent_missing",
          "percent_missing",
          "percent_missing",
          "percent_missing",
          "percent_missing",
          "percent_missing",
          "percent_missing",
          "percent_missing",
          "percent_missing",
          "percent_missing",
          "percent_missing",
          "percent_missing",
          "percent_missing",
          "percent_missing",
          "percent_missing",
          "percent_missing",
          "percent_missing",
          "percent_missing",
          "percent_missing",
          "percent_missing",
          "percent_missing",
          "percent_missing",
          "percent_missing",
          "percent_missing",
          "percent_missing",
          "percent_missing",
          "percent_missing",
          "percent_missing",
          "percent_missing",
          "percent_missing",
          "percent_missing",
          "percent_missing",
          "percent_missing",
          "percent_missing",
          "percent_missing"
         ],
         "x0": " ",
         "xaxis": "x",
         "y": [
          0.3828972559029994,
          0.4467134652201659,
          0.8934269304403318,
          0.8934269304403318,
          0.8934269304403318,
          0.8934269304403318,
          0.8934269304403318,
          0.574345883854499,
          0.1276324186343331,
          0.1276324186343331,
          0.1276324186343331,
          0.1276324186343331,
          0.1276324186343331,
          0.1914486279514997,
          0.1914486279514997,
          0.1914486279514997,
          0.1914486279514997,
          0.1914486279514997,
          0.1914486279514997,
          0.6381620931716656,
          0,
          0.1276324186343331,
          0.1276324186343331,
          0.1276324186343331,
          0.1276324186343331,
          0.1276324186343331,
          0.1276324186343331,
          0.1276324186343331,
          0.1276324186343331,
          0.1276324186343331,
          0.1276324186343331,
          0.1276324186343331,
          0.06381620931716656,
          0.06381620931716656,
          0.06381620931716656,
          0.06381620931716656,
          0.06381620931716656,
          0.06381620931716656,
          0.06381620931716656,
          0.06381620931716656,
          1.5315890236119976,
          1.5315890236119976,
          0.06381620931716656,
          0.06381620931716656,
          0.06381620931716656,
          0.06381620931716656,
          0.06381620931716656,
          0.06381620931716656,
          0.06381620931716656,
          0.06381620931716656,
          0.06381620931716656,
          0.06381620931716656,
          0.06381620931716656,
          0.2552648372686662,
          0.2552648372686662,
          0.2552648372686662,
          0.2552648372686662,
          0.2552648372686662,
          0.2552648372686662,
          0.4467134652201659,
          0.3828972559029994,
          0.3828972559029994,
          0.3828972559029994,
          0.4467134652201659,
          0.4467134652201659,
          0.4467134652201659,
          0.3828972559029994,
          0.3828972559029994,
          0.3828972559029994,
          0.3828972559029994,
          0.3828972559029994,
          0.3828972559029994,
          50.67007019783025,
          50.67007019783025,
          0.3828972559029994,
          1.5315890236119976,
          1.5315890236119976,
          1.5315890236119976,
          1.5315890236119976,
          1.5315890236119976,
          1.5315890236119976,
          1.5315890236119976,
          1.5315890236119976,
          0.06381620931716656,
          0.7657945118059988,
          85.57753669432036,
          0,
          0,
          0,
          3.2546266751754946,
          3.2546266751754946,
          0.3828972559029994,
          0.1276324186343331,
          0.1276324186343331,
          0.3828972559029994,
          0.3828972559029994,
          0.3828972559029994,
          0.3828972559029994,
          0.3828972559029994,
          0.3828972559029994,
          0.3828972559029994,
          0.3828972559029994,
          0.3828972559029994,
          0.1276324186343331,
          0.1276324186343331,
          0.3828972559029994,
          0.3828972559029994,
          0.3828972559029994,
          0.3828972559029994,
          64.96490108487556,
          64.96490108487556,
          64.96490108487556,
          45.62858966177409,
          0,
          0,
          0,
          0,
          0,
          1.5315890236119976,
          0,
          0,
          0.574345883854499,
          0.574345883854499,
          0.574345883854499,
          0.574345883854499,
          0.574345883854499,
          0.574345883854499,
          0.574345883854499,
          0.574345883854499,
          0.574345883854499,
          0.574345883854499,
          0.574345883854499,
          0.5105296745373324,
          0.5105296745373324,
          0.5105296745373324,
          0.3190810465858328,
          0.3828972559029994,
          0.4467134652201659,
          0.8934269304403318,
          0.8934269304403318,
          0.8934269304403318,
          0.8934269304403318,
          0.8934269304403318,
          0.574345883854499,
          0.1276324186343331,
          0.1276324186343331,
          0.1276324186343331,
          0.1276324186343331,
          0.1276324186343331,
          0.1914486279514997,
          0.1914486279514997,
          0.1914486279514997,
          0.1914486279514997,
          0.1914486279514997,
          0.1914486279514997,
          0.6381620931716656,
          0,
          91.19336311423102,
          91.19336311423102,
          0.1276324186343331,
          0.1276324186343331,
          0.1276324186343331,
          0.1276324186343331,
          0.1276324186343331,
          0.1276324186343331,
          0.1276324186343331,
          0.1276324186343331,
          0.1276324186343331,
          0.1276324186343331,
          0.1276324186343331,
          0.06381620931716656,
          0.06381620931716656,
          0.06381620931716656,
          0.06381620931716656,
          0.06381620931716656,
          0.06381620931716656,
          0.06381620931716656,
          0.06381620931716656,
          1.5315890236119976,
          0.06381620931716656,
          0.06381620931716656,
          0.06381620931716656,
          0.06381620931716656,
          0.06381620931716656,
          0.06381620931716656,
          0.06381620931716656,
          0.06381620931716656,
          0.06381620931716656,
          0.06381620931716656,
          0.06381620931716656,
          0.2552648372686662,
          0.2552648372686662,
          0.2552648372686662,
          0.2552648372686662,
          0.2552648372686662,
          0.2552648372686662,
          0.4467134652201659,
          0.3828972559029994,
          0.3828972559029994,
          0.3828972559029994,
          0.4467134652201659,
          0.4467134652201659,
          0.4467134652201659,
          0.3828972559029994,
          0.3828972559029994,
          0.3828972559029994,
          0.3828972559029994,
          0.3828972559029994,
          0.3828972559029994,
          0.3828972559029994,
          1.5315890236119976,
          1.5315890236119976,
          1.5315890236119976,
          1.5315890236119976,
          1.5315890236119976,
          1.5315890236119976,
          1.5315890236119976,
          1.5315890236119976,
          0.06381620931716656,
          0.7657945118059988,
          85.57753669432036,
          0,
          0,
          0,
          3.2546266751754946,
          3.2546266751754946,
          0.3828972559029994,
          0.1276324186343331,
          0.1276324186343331,
          0.3828972559029994,
          0.3828972559029994,
          0.3828972559029994,
          0.3828972559029994,
          0.3828972559029994,
          0.3828972559029994,
          0.3828972559029994,
          0.3828972559029994,
          0.3828972559029994,
          0.1276324186343331,
          0.1276324186343331,
          0.3828972559029994,
          0.3828972559029994,
          0.3828972559029994,
          0.3828972559029994,
          64.96490108487556,
          64.96490108487556,
          64.96490108487556,
          45.62858966177409,
          0,
          0,
          0,
          0,
          0,
          1.5315890236119976,
          0,
          0,
          0.574345883854499,
          0.574345883854499,
          0.574345883854499,
          0.574345883854499,
          0.574345883854499,
          0.574345883854499,
          0.574345883854499,
          0.574345883854499,
          0.574345883854499,
          0.574345883854499,
          0.574345883854499,
          0.5105296745373324,
          0.5105296745373324,
          0.5105296745373324,
          0.3190810465858328,
          0.3828972559029994,
          0.4467134652201659,
          0.8934269304403318,
          0.8934269304403318,
          0.8934269304403318,
          0.8934269304403318,
          0.8934269304403318,
          0.574345883854499,
          0.1276324186343331,
          0.1276324186343331,
          0.1276324186343331,
          0.1276324186343331,
          0.1276324186343331,
          0.1914486279514997,
          0.1914486279514997,
          0.1914486279514997,
          0.1914486279514997,
          0.1914486279514997,
          0.1914486279514997,
          0.6381620931716656,
          0,
          91.19336311423102,
          91.19336311423102,
          0.1276324186343331,
          0.1276324186343331,
          0.1276324186343331,
          0.1276324186343331,
          0.1276324186343331,
          0.1276324186343331,
          0.1276324186343331,
          0.1276324186343331,
          0.1276324186343331,
          0.1276324186343331,
          0.1276324186343331,
          0.06381620931716656,
          0.06381620931716656,
          0.06381620931716656,
          0.06381620931716656,
          0.06381620931716656,
          0.06381620931716656,
          0.06381620931716656,
          0.06381620931716656,
          1.5315890236119976,
          1.5315890236119976,
          0.06381620931716656,
          0.06381620931716656,
          0.06381620931716656,
          0.06381620931716656,
          0.06381620931716656,
          0.06381620931716656,
          0.06381620931716656,
          0.06381620931716656,
          0.06381620931716656,
          0.06381620931716656,
          0.06381620931716656,
          0.2552648372686662,
          0.2552648372686662,
          0.2552648372686662,
          0.2552648372686662,
          0.2552648372686662,
          0.2552648372686662,
          0.4467134652201659,
          0.3828972559029994,
          0.3828972559029994,
          0.3828972559029994,
          0.4467134652201659,
          0.4467134652201659,
          0.4467134652201659,
          0.3828972559029994,
          0.3828972559029994,
          0.3828972559029994,
          0.3828972559029994,
          0.3828972559029994,
          0.3828972559029994,
          50.67007019783025,
          50.67007019783025,
          0.3828972559029994,
          1.5315890236119976,
          1.5315890236119976,
          1.5315890236119976,
          1.5315890236119976,
          1.5315890236119976,
          1.5315890236119976,
          1.5315890236119976,
          1.5315890236119976,
          0.06381620931716656,
          0.7657945118059988,
          85.57753669432036,
          0,
          0,
          0,
          3.2546266751754946,
          3.2546266751754946,
          0.3828972559029994,
          0.1276324186343331,
          0.1276324186343331,
          0.3828972559029994,
          0.3828972559029994,
          0.3828972559029994,
          0.3828972559029994,
          0.3828972559029994,
          0.3828972559029994,
          0.3828972559029994,
          0.3828972559029994,
          0.3828972559029994,
          0.1276324186343331,
          0.1276324186343331,
          0.3828972559029994,
          0.3828972559029994,
          0.3828972559029994,
          0.3828972559029994,
          64.96490108487556,
          64.96490108487556,
          64.96490108487556,
          45.62858966177409,
          0,
          0,
          0,
          0,
          0,
          1.5315890236119976,
          0,
          0,
          0.574345883854499,
          0.574345883854499,
          0.574345883854499,
          0.574345883854499,
          0.574345883854499,
          0.574345883854499,
          0.574345883854499,
          0.574345883854499,
          0.574345883854499,
          0.574345883854499,
          0.574345883854499,
          0.5105296745373324,
          0.5105296745373324,
          0.5105296745373324,
          0.3190810465858328,
          0.3828972559029994,
          0.4467134652201659,
          0.8934269304403318,
          0.8934269304403318,
          0.8934269304403318,
          0.8934269304403318,
          0.8934269304403318,
          0.574345883854499,
          0.1276324186343331,
          0.1276324186343331,
          0.1276324186343331,
          0.1276324186343331,
          0.1276324186343331,
          0.1914486279514997,
          0.1914486279514997,
          0.1914486279514997,
          0.1914486279514997,
          0.1914486279514997,
          0.1914486279514997,
          0.6381620931716656,
          0,
          0.1276324186343331,
          0.1276324186343331,
          0.1276324186343331,
          0.1276324186343331,
          0.1276324186343331,
          0.1276324186343331,
          0.1276324186343331,
          0.1276324186343331,
          0.1276324186343331,
          0.1276324186343331,
          0.1276324186343331,
          0.06381620931716656,
          0.06381620931716656,
          0.06381620931716656,
          0.06381620931716656,
          0.06381620931716656,
          0.06381620931716656,
          0.06381620931716656,
          0.06381620931716656,
          1.5315890236119976,
          1.5315890236119976,
          0.06381620931716656,
          0.06381620931716656,
          0.06381620931716656,
          0.06381620931716656,
          0.06381620931716656,
          0.06381620931716656,
          0.06381620931716656,
          0.06381620931716656,
          0.06381620931716656,
          0.06381620931716656,
          0.06381620931716656,
          0.2552648372686662,
          0.2552648372686662,
          0.2552648372686662,
          0.2552648372686662,
          0.2552648372686662,
          0.2552648372686662,
          0.4467134652201659,
          0.3828972559029994,
          0.3828972559029994,
          0.3828972559029994,
          0.4467134652201659,
          0.4467134652201659,
          0.4467134652201659,
          0.3828972559029994,
          0.3828972559029994,
          0.3828972559029994,
          0.3828972559029994,
          0.3828972559029994,
          0.3828972559029994,
          0.3828972559029994,
          1.5315890236119976,
          1.5315890236119976,
          1.5315890236119976,
          1.5315890236119976,
          1.5315890236119976,
          1.5315890236119976,
          1.5315890236119976,
          1.5315890236119976,
          0.06381620931716656,
          0.7657945118059988,
          85.57753669432036,
          0,
          0,
          0,
          3.2546266751754946,
          3.2546266751754946,
          0.3828972559029994,
          0.1276324186343331,
          0.1276324186343331,
          0.3828972559029994,
          0.3828972559029994,
          0.3828972559029994,
          0.3828972559029994,
          0.3828972559029994,
          0.3828972559029994,
          0.3828972559029994,
          0.3828972559029994,
          0.3828972559029994,
          0.1276324186343331,
          0.1276324186343331,
          0.3828972559029994,
          0.3828972559029994,
          0.3828972559029994,
          0.3828972559029994,
          64.96490108487556,
          64.96490108487556,
          64.96490108487556,
          45.62858966177409,
          0,
          0,
          0,
          0,
          0,
          1.5315890236119976,
          0,
          0,
          0.574345883854499,
          0.574345883854499,
          0.574345883854499,
          0.574345883854499,
          0.574345883854499,
          0.574345883854499,
          0.574345883854499,
          0.574345883854499,
          0.574345883854499,
          0.574345883854499,
          0.574345883854499,
          0.5105296745373324,
          0.5105296745373324,
          0.5105296745373324,
          0.1276324186343331,
          0.1276324186343331,
          0.1276324186343331,
          0.1276324186343331,
          16.592214422463307,
          16.592214422463307,
          16.592214422463307,
          16.592214422463307,
          16.592214422463307,
          16.592214422463307,
          16.592214422463307,
          16.592214422463307,
          16.592214422463307,
          16.592214422463307,
          16.592214422463307,
          16.592214422463307,
          0.06381620931716656,
          0.06381620931716656,
          0.06381620931716656,
          0.06381620931716656,
          17.42182514358647,
          17.42182514358647,
          17.42182514358647,
          17.42182514358647,
          17.42182514358647,
          17.42182514358647,
          17.42182514358647,
          17.42182514358647,
          0,
          0,
          0,
          0,
          0,
          0,
          0,
          0,
          60.561582641991066,
          60.561582641991066,
          60.561582641991066,
          60.561582641991066,
          0.06381620931716656,
          0.06381620931716656,
          0.06381620931716656,
          0.06381620931716656,
          0.06381620931716656,
          0.06381620931716656,
          0.06381620931716656,
          0.06381620931716656,
          0
         ],
         "y0": " ",
         "yaxis": "y"
        }
       ],
       "layout": {
        "boxmode": "group",
        "legend": {
         "tracegroupgap": 0
        },
        "margin": {
         "t": 60
        },
        "template": {
         "data": {
          "bar": [
           {
            "error_x": {
             "color": "#2a3f5f"
            },
            "error_y": {
             "color": "#2a3f5f"
            },
            "marker": {
             "line": {
              "color": "#E5ECF6",
              "width": 0.5
             },
             "pattern": {
              "fillmode": "overlay",
              "size": 10,
              "solidity": 0.2
             }
            },
            "type": "bar"
           }
          ],
          "barpolar": [
           {
            "marker": {
             "line": {
              "color": "#E5ECF6",
              "width": 0.5
             },
             "pattern": {
              "fillmode": "overlay",
              "size": 10,
              "solidity": 0.2
             }
            },
            "type": "barpolar"
           }
          ],
          "carpet": [
           {
            "aaxis": {
             "endlinecolor": "#2a3f5f",
             "gridcolor": "white",
             "linecolor": "white",
             "minorgridcolor": "white",
             "startlinecolor": "#2a3f5f"
            },
            "baxis": {
             "endlinecolor": "#2a3f5f",
             "gridcolor": "white",
             "linecolor": "white",
             "minorgridcolor": "white",
             "startlinecolor": "#2a3f5f"
            },
            "type": "carpet"
           }
          ],
          "choropleth": [
           {
            "colorbar": {
             "outlinewidth": 0,
             "ticks": ""
            },
            "type": "choropleth"
           }
          ],
          "contour": [
           {
            "colorbar": {
             "outlinewidth": 0,
             "ticks": ""
            },
            "colorscale": [
             [
              0,
              "#0d0887"
             ],
             [
              0.1111111111111111,
              "#46039f"
             ],
             [
              0.2222222222222222,
              "#7201a8"
             ],
             [
              0.3333333333333333,
              "#9c179e"
             ],
             [
              0.4444444444444444,
              "#bd3786"
             ],
             [
              0.5555555555555556,
              "#d8576b"
             ],
             [
              0.6666666666666666,
              "#ed7953"
             ],
             [
              0.7777777777777778,
              "#fb9f3a"
             ],
             [
              0.8888888888888888,
              "#fdca26"
             ],
             [
              1,
              "#f0f921"
             ]
            ],
            "type": "contour"
           }
          ],
          "contourcarpet": [
           {
            "colorbar": {
             "outlinewidth": 0,
             "ticks": ""
            },
            "type": "contourcarpet"
           }
          ],
          "heatmap": [
           {
            "colorbar": {
             "outlinewidth": 0,
             "ticks": ""
            },
            "colorscale": [
             [
              0,
              "#0d0887"
             ],
             [
              0.1111111111111111,
              "#46039f"
             ],
             [
              0.2222222222222222,
              "#7201a8"
             ],
             [
              0.3333333333333333,
              "#9c179e"
             ],
             [
              0.4444444444444444,
              "#bd3786"
             ],
             [
              0.5555555555555556,
              "#d8576b"
             ],
             [
              0.6666666666666666,
              "#ed7953"
             ],
             [
              0.7777777777777778,
              "#fb9f3a"
             ],
             [
              0.8888888888888888,
              "#fdca26"
             ],
             [
              1,
              "#f0f921"
             ]
            ],
            "type": "heatmap"
           }
          ],
          "heatmapgl": [
           {
            "colorbar": {
             "outlinewidth": 0,
             "ticks": ""
            },
            "colorscale": [
             [
              0,
              "#0d0887"
             ],
             [
              0.1111111111111111,
              "#46039f"
             ],
             [
              0.2222222222222222,
              "#7201a8"
             ],
             [
              0.3333333333333333,
              "#9c179e"
             ],
             [
              0.4444444444444444,
              "#bd3786"
             ],
             [
              0.5555555555555556,
              "#d8576b"
             ],
             [
              0.6666666666666666,
              "#ed7953"
             ],
             [
              0.7777777777777778,
              "#fb9f3a"
             ],
             [
              0.8888888888888888,
              "#fdca26"
             ],
             [
              1,
              "#f0f921"
             ]
            ],
            "type": "heatmapgl"
           }
          ],
          "histogram": [
           {
            "marker": {
             "pattern": {
              "fillmode": "overlay",
              "size": 10,
              "solidity": 0.2
             }
            },
            "type": "histogram"
           }
          ],
          "histogram2d": [
           {
            "colorbar": {
             "outlinewidth": 0,
             "ticks": ""
            },
            "colorscale": [
             [
              0,
              "#0d0887"
             ],
             [
              0.1111111111111111,
              "#46039f"
             ],
             [
              0.2222222222222222,
              "#7201a8"
             ],
             [
              0.3333333333333333,
              "#9c179e"
             ],
             [
              0.4444444444444444,
              "#bd3786"
             ],
             [
              0.5555555555555556,
              "#d8576b"
             ],
             [
              0.6666666666666666,
              "#ed7953"
             ],
             [
              0.7777777777777778,
              "#fb9f3a"
             ],
             [
              0.8888888888888888,
              "#fdca26"
             ],
             [
              1,
              "#f0f921"
             ]
            ],
            "type": "histogram2d"
           }
          ],
          "histogram2dcontour": [
           {
            "colorbar": {
             "outlinewidth": 0,
             "ticks": ""
            },
            "colorscale": [
             [
              0,
              "#0d0887"
             ],
             [
              0.1111111111111111,
              "#46039f"
             ],
             [
              0.2222222222222222,
              "#7201a8"
             ],
             [
              0.3333333333333333,
              "#9c179e"
             ],
             [
              0.4444444444444444,
              "#bd3786"
             ],
             [
              0.5555555555555556,
              "#d8576b"
             ],
             [
              0.6666666666666666,
              "#ed7953"
             ],
             [
              0.7777777777777778,
              "#fb9f3a"
             ],
             [
              0.8888888888888888,
              "#fdca26"
             ],
             [
              1,
              "#f0f921"
             ]
            ],
            "type": "histogram2dcontour"
           }
          ],
          "mesh3d": [
           {
            "colorbar": {
             "outlinewidth": 0,
             "ticks": ""
            },
            "type": "mesh3d"
           }
          ],
          "parcoords": [
           {
            "line": {
             "colorbar": {
              "outlinewidth": 0,
              "ticks": ""
             }
            },
            "type": "parcoords"
           }
          ],
          "pie": [
           {
            "automargin": true,
            "type": "pie"
           }
          ],
          "scatter": [
           {
            "marker": {
             "colorbar": {
              "outlinewidth": 0,
              "ticks": ""
             }
            },
            "type": "scatter"
           }
          ],
          "scatter3d": [
           {
            "line": {
             "colorbar": {
              "outlinewidth": 0,
              "ticks": ""
             }
            },
            "marker": {
             "colorbar": {
              "outlinewidth": 0,
              "ticks": ""
             }
            },
            "type": "scatter3d"
           }
          ],
          "scattercarpet": [
           {
            "marker": {
             "colorbar": {
              "outlinewidth": 0,
              "ticks": ""
             }
            },
            "type": "scattercarpet"
           }
          ],
          "scattergeo": [
           {
            "marker": {
             "colorbar": {
              "outlinewidth": 0,
              "ticks": ""
             }
            },
            "type": "scattergeo"
           }
          ],
          "scattergl": [
           {
            "marker": {
             "colorbar": {
              "outlinewidth": 0,
              "ticks": ""
             }
            },
            "type": "scattergl"
           }
          ],
          "scattermapbox": [
           {
            "marker": {
             "colorbar": {
              "outlinewidth": 0,
              "ticks": ""
             }
            },
            "type": "scattermapbox"
           }
          ],
          "scatterpolar": [
           {
            "marker": {
             "colorbar": {
              "outlinewidth": 0,
              "ticks": ""
             }
            },
            "type": "scatterpolar"
           }
          ],
          "scatterpolargl": [
           {
            "marker": {
             "colorbar": {
              "outlinewidth": 0,
              "ticks": ""
             }
            },
            "type": "scatterpolargl"
           }
          ],
          "scatterternary": [
           {
            "marker": {
             "colorbar": {
              "outlinewidth": 0,
              "ticks": ""
             }
            },
            "type": "scatterternary"
           }
          ],
          "surface": [
           {
            "colorbar": {
             "outlinewidth": 0,
             "ticks": ""
            },
            "colorscale": [
             [
              0,
              "#0d0887"
             ],
             [
              0.1111111111111111,
              "#46039f"
             ],
             [
              0.2222222222222222,
              "#7201a8"
             ],
             [
              0.3333333333333333,
              "#9c179e"
             ],
             [
              0.4444444444444444,
              "#bd3786"
             ],
             [
              0.5555555555555556,
              "#d8576b"
             ],
             [
              0.6666666666666666,
              "#ed7953"
             ],
             [
              0.7777777777777778,
              "#fb9f3a"
             ],
             [
              0.8888888888888888,
              "#fdca26"
             ],
             [
              1,
              "#f0f921"
             ]
            ],
            "type": "surface"
           }
          ],
          "table": [
           {
            "cells": {
             "fill": {
              "color": "#EBF0F8"
             },
             "line": {
              "color": "white"
             }
            },
            "header": {
             "fill": {
              "color": "#C8D4E3"
             },
             "line": {
              "color": "white"
             }
            },
            "type": "table"
           }
          ]
         },
         "layout": {
          "annotationdefaults": {
           "arrowcolor": "#2a3f5f",
           "arrowhead": 0,
           "arrowwidth": 1
          },
          "autotypenumbers": "strict",
          "coloraxis": {
           "colorbar": {
            "outlinewidth": 0,
            "ticks": ""
           }
          },
          "colorscale": {
           "diverging": [
            [
             0,
             "#8e0152"
            ],
            [
             0.1,
             "#c51b7d"
            ],
            [
             0.2,
             "#de77ae"
            ],
            [
             0.3,
             "#f1b6da"
            ],
            [
             0.4,
             "#fde0ef"
            ],
            [
             0.5,
             "#f7f7f7"
            ],
            [
             0.6,
             "#e6f5d0"
            ],
            [
             0.7,
             "#b8e186"
            ],
            [
             0.8,
             "#7fbc41"
            ],
            [
             0.9,
             "#4d9221"
            ],
            [
             1,
             "#276419"
            ]
           ],
           "sequential": [
            [
             0,
             "#0d0887"
            ],
            [
             0.1111111111111111,
             "#46039f"
            ],
            [
             0.2222222222222222,
             "#7201a8"
            ],
            [
             0.3333333333333333,
             "#9c179e"
            ],
            [
             0.4444444444444444,
             "#bd3786"
            ],
            [
             0.5555555555555556,
             "#d8576b"
            ],
            [
             0.6666666666666666,
             "#ed7953"
            ],
            [
             0.7777777777777778,
             "#fb9f3a"
            ],
            [
             0.8888888888888888,
             "#fdca26"
            ],
            [
             1,
             "#f0f921"
            ]
           ],
           "sequentialminus": [
            [
             0,
             "#0d0887"
            ],
            [
             0.1111111111111111,
             "#46039f"
            ],
            [
             0.2222222222222222,
             "#7201a8"
            ],
            [
             0.3333333333333333,
             "#9c179e"
            ],
            [
             0.4444444444444444,
             "#bd3786"
            ],
            [
             0.5555555555555556,
             "#d8576b"
            ],
            [
             0.6666666666666666,
             "#ed7953"
            ],
            [
             0.7777777777777778,
             "#fb9f3a"
            ],
            [
             0.8888888888888888,
             "#fdca26"
            ],
            [
             1,
             "#f0f921"
            ]
           ]
          },
          "colorway": [
           "#636efa",
           "#EF553B",
           "#00cc96",
           "#ab63fa",
           "#FFA15A",
           "#19d3f3",
           "#FF6692",
           "#B6E880",
           "#FF97FF",
           "#FECB52"
          ],
          "font": {
           "color": "#2a3f5f"
          },
          "geo": {
           "bgcolor": "white",
           "lakecolor": "white",
           "landcolor": "#E5ECF6",
           "showlakes": true,
           "showland": true,
           "subunitcolor": "white"
          },
          "hoverlabel": {
           "align": "left"
          },
          "hovermode": "closest",
          "mapbox": {
           "style": "light"
          },
          "paper_bgcolor": "white",
          "plot_bgcolor": "#E5ECF6",
          "polar": {
           "angularaxis": {
            "gridcolor": "white",
            "linecolor": "white",
            "ticks": ""
           },
           "bgcolor": "#E5ECF6",
           "radialaxis": {
            "gridcolor": "white",
            "linecolor": "white",
            "ticks": ""
           }
          },
          "scene": {
           "xaxis": {
            "backgroundcolor": "#E5ECF6",
            "gridcolor": "white",
            "gridwidth": 2,
            "linecolor": "white",
            "showbackground": true,
            "ticks": "",
            "zerolinecolor": "white"
           },
           "yaxis": {
            "backgroundcolor": "#E5ECF6",
            "gridcolor": "white",
            "gridwidth": 2,
            "linecolor": "white",
            "showbackground": true,
            "ticks": "",
            "zerolinecolor": "white"
           },
           "zaxis": {
            "backgroundcolor": "#E5ECF6",
            "gridcolor": "white",
            "gridwidth": 2,
            "linecolor": "white",
            "showbackground": true,
            "ticks": "",
            "zerolinecolor": "white"
           }
          },
          "shapedefaults": {
           "line": {
            "color": "#2a3f5f"
           }
          },
          "ternary": {
           "aaxis": {
            "gridcolor": "white",
            "linecolor": "white",
            "ticks": ""
           },
           "baxis": {
            "gridcolor": "white",
            "linecolor": "white",
            "ticks": ""
           },
           "bgcolor": "#E5ECF6",
           "caxis": {
            "gridcolor": "white",
            "linecolor": "white",
            "ticks": ""
           }
          },
          "title": {
           "x": 0.05
          },
          "xaxis": {
           "automargin": true,
           "gridcolor": "white",
           "linecolor": "white",
           "ticks": "",
           "title": {
            "standoff": 15
           },
           "zerolinecolor": "white",
           "zerolinewidth": 2
          },
          "yaxis": {
           "automargin": true,
           "gridcolor": "white",
           "linecolor": "white",
           "ticks": "",
           "title": {
            "standoff": 15
           },
           "zerolinecolor": "white",
           "zerolinewidth": 2
          }
         }
        },
        "xaxis": {
         "anchor": "y",
         "domain": [
          0,
          1
         ],
         "title": {
          "text": "variable"
         }
        },
        "yaxis": {
         "anchor": "x",
         "domain": [
          0,
          1
         ],
         "title": {
          "text": "value"
         }
        }
       }
      }
     },
     "metadata": {},
     "output_type": "display_data"
    }
   ],
   "source": [
    "px.box(missing_value_df.percent_missing)"
   ]
  },
  {
   "cell_type": "code",
   "execution_count": 287,
   "metadata": {},
   "outputs": [
    {
     "data": {
      "application/vnd.plotly.v1+json": {
       "config": {
        "plotlyServerURL": "https://plot.ly"
       },
       "data": [
        {
         "alignmentgroup": "True",
         "bingroup": "x",
         "hovertemplate": "variable=percent_missing<br>value=%{x}<br>count=%{y}<extra></extra>",
         "legendgroup": "percent_missing",
         "marker": {
          "color": "#636efa",
          "pattern": {
           "shape": ""
          }
         },
         "name": "percent_missing",
         "offsetgroup": "percent_missing",
         "orientation": "v",
         "showlegend": true,
         "type": "histogram",
         "x": [
          0.3828972559029994,
          0.4467134652201659,
          0.8934269304403318,
          0.8934269304403318,
          0.8934269304403318,
          0.8934269304403318,
          0.8934269304403318,
          0.574345883854499,
          0.1276324186343331,
          0.1276324186343331,
          0.1276324186343331,
          0.1276324186343331,
          0.1276324186343331,
          0.1914486279514997,
          0.1914486279514997,
          0.1914486279514997,
          0.1914486279514997,
          0.1914486279514997,
          0.1914486279514997,
          0.6381620931716656,
          0,
          0.1276324186343331,
          0.1276324186343331,
          0.1276324186343331,
          0.1276324186343331,
          0.1276324186343331,
          0.1276324186343331,
          0.1276324186343331,
          0.1276324186343331,
          0.1276324186343331,
          0.1276324186343331,
          0.1276324186343331,
          0.06381620931716656,
          0.06381620931716656,
          0.06381620931716656,
          0.06381620931716656,
          0.06381620931716656,
          0.06381620931716656,
          0.06381620931716656,
          0.06381620931716656,
          1.5315890236119976,
          1.5315890236119976,
          0.06381620931716656,
          0.06381620931716656,
          0.06381620931716656,
          0.06381620931716656,
          0.06381620931716656,
          0.06381620931716656,
          0.06381620931716656,
          0.06381620931716656,
          0.06381620931716656,
          0.06381620931716656,
          0.06381620931716656,
          0.2552648372686662,
          0.2552648372686662,
          0.2552648372686662,
          0.2552648372686662,
          0.2552648372686662,
          0.2552648372686662,
          0.4467134652201659,
          0.3828972559029994,
          0.3828972559029994,
          0.3828972559029994,
          0.4467134652201659,
          0.4467134652201659,
          0.4467134652201659,
          0.3828972559029994,
          0.3828972559029994,
          0.3828972559029994,
          0.3828972559029994,
          0.3828972559029994,
          0.3828972559029994,
          50.67007019783025,
          50.67007019783025,
          0.3828972559029994,
          1.5315890236119976,
          1.5315890236119976,
          1.5315890236119976,
          1.5315890236119976,
          1.5315890236119976,
          1.5315890236119976,
          1.5315890236119976,
          1.5315890236119976,
          0.06381620931716656,
          0.7657945118059988,
          85.57753669432036,
          0,
          0,
          0,
          3.2546266751754946,
          3.2546266751754946,
          0.3828972559029994,
          0.1276324186343331,
          0.1276324186343331,
          0.3828972559029994,
          0.3828972559029994,
          0.3828972559029994,
          0.3828972559029994,
          0.3828972559029994,
          0.3828972559029994,
          0.3828972559029994,
          0.3828972559029994,
          0.3828972559029994,
          0.1276324186343331,
          0.1276324186343331,
          0.3828972559029994,
          0.3828972559029994,
          0.3828972559029994,
          0.3828972559029994,
          64.96490108487556,
          64.96490108487556,
          64.96490108487556,
          45.62858966177409,
          0,
          0,
          0,
          0,
          0,
          1.5315890236119976,
          0,
          0,
          0.574345883854499,
          0.574345883854499,
          0.574345883854499,
          0.574345883854499,
          0.574345883854499,
          0.574345883854499,
          0.574345883854499,
          0.574345883854499,
          0.574345883854499,
          0.574345883854499,
          0.574345883854499,
          0.5105296745373324,
          0.5105296745373324,
          0.5105296745373324,
          0.3190810465858328,
          0.3828972559029994,
          0.4467134652201659,
          0.8934269304403318,
          0.8934269304403318,
          0.8934269304403318,
          0.8934269304403318,
          0.8934269304403318,
          0.574345883854499,
          0.1276324186343331,
          0.1276324186343331,
          0.1276324186343331,
          0.1276324186343331,
          0.1276324186343331,
          0.1914486279514997,
          0.1914486279514997,
          0.1914486279514997,
          0.1914486279514997,
          0.1914486279514997,
          0.1914486279514997,
          0.6381620931716656,
          0,
          91.19336311423102,
          91.19336311423102,
          0.1276324186343331,
          0.1276324186343331,
          0.1276324186343331,
          0.1276324186343331,
          0.1276324186343331,
          0.1276324186343331,
          0.1276324186343331,
          0.1276324186343331,
          0.1276324186343331,
          0.1276324186343331,
          0.1276324186343331,
          0.06381620931716656,
          0.06381620931716656,
          0.06381620931716656,
          0.06381620931716656,
          0.06381620931716656,
          0.06381620931716656,
          0.06381620931716656,
          0.06381620931716656,
          1.5315890236119976,
          0.06381620931716656,
          0.06381620931716656,
          0.06381620931716656,
          0.06381620931716656,
          0.06381620931716656,
          0.06381620931716656,
          0.06381620931716656,
          0.06381620931716656,
          0.06381620931716656,
          0.06381620931716656,
          0.06381620931716656,
          0.2552648372686662,
          0.2552648372686662,
          0.2552648372686662,
          0.2552648372686662,
          0.2552648372686662,
          0.2552648372686662,
          0.4467134652201659,
          0.3828972559029994,
          0.3828972559029994,
          0.3828972559029994,
          0.4467134652201659,
          0.4467134652201659,
          0.4467134652201659,
          0.3828972559029994,
          0.3828972559029994,
          0.3828972559029994,
          0.3828972559029994,
          0.3828972559029994,
          0.3828972559029994,
          0.3828972559029994,
          1.5315890236119976,
          1.5315890236119976,
          1.5315890236119976,
          1.5315890236119976,
          1.5315890236119976,
          1.5315890236119976,
          1.5315890236119976,
          1.5315890236119976,
          0.06381620931716656,
          0.7657945118059988,
          85.57753669432036,
          0,
          0,
          0,
          3.2546266751754946,
          3.2546266751754946,
          0.3828972559029994,
          0.1276324186343331,
          0.1276324186343331,
          0.3828972559029994,
          0.3828972559029994,
          0.3828972559029994,
          0.3828972559029994,
          0.3828972559029994,
          0.3828972559029994,
          0.3828972559029994,
          0.3828972559029994,
          0.3828972559029994,
          0.1276324186343331,
          0.1276324186343331,
          0.3828972559029994,
          0.3828972559029994,
          0.3828972559029994,
          0.3828972559029994,
          64.96490108487556,
          64.96490108487556,
          64.96490108487556,
          45.62858966177409,
          0,
          0,
          0,
          0,
          0,
          1.5315890236119976,
          0,
          0,
          0.574345883854499,
          0.574345883854499,
          0.574345883854499,
          0.574345883854499,
          0.574345883854499,
          0.574345883854499,
          0.574345883854499,
          0.574345883854499,
          0.574345883854499,
          0.574345883854499,
          0.574345883854499,
          0.5105296745373324,
          0.5105296745373324,
          0.5105296745373324,
          0.3190810465858328,
          0.3828972559029994,
          0.4467134652201659,
          0.8934269304403318,
          0.8934269304403318,
          0.8934269304403318,
          0.8934269304403318,
          0.8934269304403318,
          0.574345883854499,
          0.1276324186343331,
          0.1276324186343331,
          0.1276324186343331,
          0.1276324186343331,
          0.1276324186343331,
          0.1914486279514997,
          0.1914486279514997,
          0.1914486279514997,
          0.1914486279514997,
          0.1914486279514997,
          0.1914486279514997,
          0.6381620931716656,
          0,
          91.19336311423102,
          91.19336311423102,
          0.1276324186343331,
          0.1276324186343331,
          0.1276324186343331,
          0.1276324186343331,
          0.1276324186343331,
          0.1276324186343331,
          0.1276324186343331,
          0.1276324186343331,
          0.1276324186343331,
          0.1276324186343331,
          0.1276324186343331,
          0.06381620931716656,
          0.06381620931716656,
          0.06381620931716656,
          0.06381620931716656,
          0.06381620931716656,
          0.06381620931716656,
          0.06381620931716656,
          0.06381620931716656,
          1.5315890236119976,
          1.5315890236119976,
          0.06381620931716656,
          0.06381620931716656,
          0.06381620931716656,
          0.06381620931716656,
          0.06381620931716656,
          0.06381620931716656,
          0.06381620931716656,
          0.06381620931716656,
          0.06381620931716656,
          0.06381620931716656,
          0.06381620931716656,
          0.2552648372686662,
          0.2552648372686662,
          0.2552648372686662,
          0.2552648372686662,
          0.2552648372686662,
          0.2552648372686662,
          0.4467134652201659,
          0.3828972559029994,
          0.3828972559029994,
          0.3828972559029994,
          0.4467134652201659,
          0.4467134652201659,
          0.4467134652201659,
          0.3828972559029994,
          0.3828972559029994,
          0.3828972559029994,
          0.3828972559029994,
          0.3828972559029994,
          0.3828972559029994,
          50.67007019783025,
          50.67007019783025,
          0.3828972559029994,
          1.5315890236119976,
          1.5315890236119976,
          1.5315890236119976,
          1.5315890236119976,
          1.5315890236119976,
          1.5315890236119976,
          1.5315890236119976,
          1.5315890236119976,
          0.06381620931716656,
          0.7657945118059988,
          85.57753669432036,
          0,
          0,
          0,
          3.2546266751754946,
          3.2546266751754946,
          0.3828972559029994,
          0.1276324186343331,
          0.1276324186343331,
          0.3828972559029994,
          0.3828972559029994,
          0.3828972559029994,
          0.3828972559029994,
          0.3828972559029994,
          0.3828972559029994,
          0.3828972559029994,
          0.3828972559029994,
          0.3828972559029994,
          0.1276324186343331,
          0.1276324186343331,
          0.3828972559029994,
          0.3828972559029994,
          0.3828972559029994,
          0.3828972559029994,
          64.96490108487556,
          64.96490108487556,
          64.96490108487556,
          45.62858966177409,
          0,
          0,
          0,
          0,
          0,
          1.5315890236119976,
          0,
          0,
          0.574345883854499,
          0.574345883854499,
          0.574345883854499,
          0.574345883854499,
          0.574345883854499,
          0.574345883854499,
          0.574345883854499,
          0.574345883854499,
          0.574345883854499,
          0.574345883854499,
          0.574345883854499,
          0.5105296745373324,
          0.5105296745373324,
          0.5105296745373324,
          0.3190810465858328,
          0.3828972559029994,
          0.4467134652201659,
          0.8934269304403318,
          0.8934269304403318,
          0.8934269304403318,
          0.8934269304403318,
          0.8934269304403318,
          0.574345883854499,
          0.1276324186343331,
          0.1276324186343331,
          0.1276324186343331,
          0.1276324186343331,
          0.1276324186343331,
          0.1914486279514997,
          0.1914486279514997,
          0.1914486279514997,
          0.1914486279514997,
          0.1914486279514997,
          0.1914486279514997,
          0.6381620931716656,
          0,
          0.1276324186343331,
          0.1276324186343331,
          0.1276324186343331,
          0.1276324186343331,
          0.1276324186343331,
          0.1276324186343331,
          0.1276324186343331,
          0.1276324186343331,
          0.1276324186343331,
          0.1276324186343331,
          0.1276324186343331,
          0.06381620931716656,
          0.06381620931716656,
          0.06381620931716656,
          0.06381620931716656,
          0.06381620931716656,
          0.06381620931716656,
          0.06381620931716656,
          0.06381620931716656,
          1.5315890236119976,
          1.5315890236119976,
          0.06381620931716656,
          0.06381620931716656,
          0.06381620931716656,
          0.06381620931716656,
          0.06381620931716656,
          0.06381620931716656,
          0.06381620931716656,
          0.06381620931716656,
          0.06381620931716656,
          0.06381620931716656,
          0.06381620931716656,
          0.2552648372686662,
          0.2552648372686662,
          0.2552648372686662,
          0.2552648372686662,
          0.2552648372686662,
          0.2552648372686662,
          0.4467134652201659,
          0.3828972559029994,
          0.3828972559029994,
          0.3828972559029994,
          0.4467134652201659,
          0.4467134652201659,
          0.4467134652201659,
          0.3828972559029994,
          0.3828972559029994,
          0.3828972559029994,
          0.3828972559029994,
          0.3828972559029994,
          0.3828972559029994,
          0.3828972559029994,
          1.5315890236119976,
          1.5315890236119976,
          1.5315890236119976,
          1.5315890236119976,
          1.5315890236119976,
          1.5315890236119976,
          1.5315890236119976,
          1.5315890236119976,
          0.06381620931716656,
          0.7657945118059988,
          85.57753669432036,
          0,
          0,
          0,
          3.2546266751754946,
          3.2546266751754946,
          0.3828972559029994,
          0.1276324186343331,
          0.1276324186343331,
          0.3828972559029994,
          0.3828972559029994,
          0.3828972559029994,
          0.3828972559029994,
          0.3828972559029994,
          0.3828972559029994,
          0.3828972559029994,
          0.3828972559029994,
          0.3828972559029994,
          0.1276324186343331,
          0.1276324186343331,
          0.3828972559029994,
          0.3828972559029994,
          0.3828972559029994,
          0.3828972559029994,
          64.96490108487556,
          64.96490108487556,
          64.96490108487556,
          45.62858966177409,
          0,
          0,
          0,
          0,
          0,
          1.5315890236119976,
          0,
          0,
          0.574345883854499,
          0.574345883854499,
          0.574345883854499,
          0.574345883854499,
          0.574345883854499,
          0.574345883854499,
          0.574345883854499,
          0.574345883854499,
          0.574345883854499,
          0.574345883854499,
          0.574345883854499,
          0.5105296745373324,
          0.5105296745373324,
          0.5105296745373324,
          0.1276324186343331,
          0.1276324186343331,
          0.1276324186343331,
          0.1276324186343331,
          16.592214422463307,
          16.592214422463307,
          16.592214422463307,
          16.592214422463307,
          16.592214422463307,
          16.592214422463307,
          16.592214422463307,
          16.592214422463307,
          16.592214422463307,
          16.592214422463307,
          16.592214422463307,
          16.592214422463307,
          0.06381620931716656,
          0.06381620931716656,
          0.06381620931716656,
          0.06381620931716656,
          17.42182514358647,
          17.42182514358647,
          17.42182514358647,
          17.42182514358647,
          17.42182514358647,
          17.42182514358647,
          17.42182514358647,
          17.42182514358647,
          0,
          0,
          0,
          0,
          0,
          0,
          0,
          0,
          60.561582641991066,
          60.561582641991066,
          60.561582641991066,
          60.561582641991066,
          0.06381620931716656,
          0.06381620931716656,
          0.06381620931716656,
          0.06381620931716656,
          0.06381620931716656,
          0.06381620931716656,
          0.06381620931716656,
          0.06381620931716656,
          0
         ],
         "xaxis": "x",
         "yaxis": "y"
        }
       ],
       "layout": {
        "barmode": "relative",
        "legend": {
         "title": {
          "text": "variable"
         },
         "tracegroupgap": 0
        },
        "margin": {
         "t": 60
        },
        "template": {
         "data": {
          "bar": [
           {
            "error_x": {
             "color": "#2a3f5f"
            },
            "error_y": {
             "color": "#2a3f5f"
            },
            "marker": {
             "line": {
              "color": "#E5ECF6",
              "width": 0.5
             },
             "pattern": {
              "fillmode": "overlay",
              "size": 10,
              "solidity": 0.2
             }
            },
            "type": "bar"
           }
          ],
          "barpolar": [
           {
            "marker": {
             "line": {
              "color": "#E5ECF6",
              "width": 0.5
             },
             "pattern": {
              "fillmode": "overlay",
              "size": 10,
              "solidity": 0.2
             }
            },
            "type": "barpolar"
           }
          ],
          "carpet": [
           {
            "aaxis": {
             "endlinecolor": "#2a3f5f",
             "gridcolor": "white",
             "linecolor": "white",
             "minorgridcolor": "white",
             "startlinecolor": "#2a3f5f"
            },
            "baxis": {
             "endlinecolor": "#2a3f5f",
             "gridcolor": "white",
             "linecolor": "white",
             "minorgridcolor": "white",
             "startlinecolor": "#2a3f5f"
            },
            "type": "carpet"
           }
          ],
          "choropleth": [
           {
            "colorbar": {
             "outlinewidth": 0,
             "ticks": ""
            },
            "type": "choropleth"
           }
          ],
          "contour": [
           {
            "colorbar": {
             "outlinewidth": 0,
             "ticks": ""
            },
            "colorscale": [
             [
              0,
              "#0d0887"
             ],
             [
              0.1111111111111111,
              "#46039f"
             ],
             [
              0.2222222222222222,
              "#7201a8"
             ],
             [
              0.3333333333333333,
              "#9c179e"
             ],
             [
              0.4444444444444444,
              "#bd3786"
             ],
             [
              0.5555555555555556,
              "#d8576b"
             ],
             [
              0.6666666666666666,
              "#ed7953"
             ],
             [
              0.7777777777777778,
              "#fb9f3a"
             ],
             [
              0.8888888888888888,
              "#fdca26"
             ],
             [
              1,
              "#f0f921"
             ]
            ],
            "type": "contour"
           }
          ],
          "contourcarpet": [
           {
            "colorbar": {
             "outlinewidth": 0,
             "ticks": ""
            },
            "type": "contourcarpet"
           }
          ],
          "heatmap": [
           {
            "colorbar": {
             "outlinewidth": 0,
             "ticks": ""
            },
            "colorscale": [
             [
              0,
              "#0d0887"
             ],
             [
              0.1111111111111111,
              "#46039f"
             ],
             [
              0.2222222222222222,
              "#7201a8"
             ],
             [
              0.3333333333333333,
              "#9c179e"
             ],
             [
              0.4444444444444444,
              "#bd3786"
             ],
             [
              0.5555555555555556,
              "#d8576b"
             ],
             [
              0.6666666666666666,
              "#ed7953"
             ],
             [
              0.7777777777777778,
              "#fb9f3a"
             ],
             [
              0.8888888888888888,
              "#fdca26"
             ],
             [
              1,
              "#f0f921"
             ]
            ],
            "type": "heatmap"
           }
          ],
          "heatmapgl": [
           {
            "colorbar": {
             "outlinewidth": 0,
             "ticks": ""
            },
            "colorscale": [
             [
              0,
              "#0d0887"
             ],
             [
              0.1111111111111111,
              "#46039f"
             ],
             [
              0.2222222222222222,
              "#7201a8"
             ],
             [
              0.3333333333333333,
              "#9c179e"
             ],
             [
              0.4444444444444444,
              "#bd3786"
             ],
             [
              0.5555555555555556,
              "#d8576b"
             ],
             [
              0.6666666666666666,
              "#ed7953"
             ],
             [
              0.7777777777777778,
              "#fb9f3a"
             ],
             [
              0.8888888888888888,
              "#fdca26"
             ],
             [
              1,
              "#f0f921"
             ]
            ],
            "type": "heatmapgl"
           }
          ],
          "histogram": [
           {
            "marker": {
             "pattern": {
              "fillmode": "overlay",
              "size": 10,
              "solidity": 0.2
             }
            },
            "type": "histogram"
           }
          ],
          "histogram2d": [
           {
            "colorbar": {
             "outlinewidth": 0,
             "ticks": ""
            },
            "colorscale": [
             [
              0,
              "#0d0887"
             ],
             [
              0.1111111111111111,
              "#46039f"
             ],
             [
              0.2222222222222222,
              "#7201a8"
             ],
             [
              0.3333333333333333,
              "#9c179e"
             ],
             [
              0.4444444444444444,
              "#bd3786"
             ],
             [
              0.5555555555555556,
              "#d8576b"
             ],
             [
              0.6666666666666666,
              "#ed7953"
             ],
             [
              0.7777777777777778,
              "#fb9f3a"
             ],
             [
              0.8888888888888888,
              "#fdca26"
             ],
             [
              1,
              "#f0f921"
             ]
            ],
            "type": "histogram2d"
           }
          ],
          "histogram2dcontour": [
           {
            "colorbar": {
             "outlinewidth": 0,
             "ticks": ""
            },
            "colorscale": [
             [
              0,
              "#0d0887"
             ],
             [
              0.1111111111111111,
              "#46039f"
             ],
             [
              0.2222222222222222,
              "#7201a8"
             ],
             [
              0.3333333333333333,
              "#9c179e"
             ],
             [
              0.4444444444444444,
              "#bd3786"
             ],
             [
              0.5555555555555556,
              "#d8576b"
             ],
             [
              0.6666666666666666,
              "#ed7953"
             ],
             [
              0.7777777777777778,
              "#fb9f3a"
             ],
             [
              0.8888888888888888,
              "#fdca26"
             ],
             [
              1,
              "#f0f921"
             ]
            ],
            "type": "histogram2dcontour"
           }
          ],
          "mesh3d": [
           {
            "colorbar": {
             "outlinewidth": 0,
             "ticks": ""
            },
            "type": "mesh3d"
           }
          ],
          "parcoords": [
           {
            "line": {
             "colorbar": {
              "outlinewidth": 0,
              "ticks": ""
             }
            },
            "type": "parcoords"
           }
          ],
          "pie": [
           {
            "automargin": true,
            "type": "pie"
           }
          ],
          "scatter": [
           {
            "marker": {
             "colorbar": {
              "outlinewidth": 0,
              "ticks": ""
             }
            },
            "type": "scatter"
           }
          ],
          "scatter3d": [
           {
            "line": {
             "colorbar": {
              "outlinewidth": 0,
              "ticks": ""
             }
            },
            "marker": {
             "colorbar": {
              "outlinewidth": 0,
              "ticks": ""
             }
            },
            "type": "scatter3d"
           }
          ],
          "scattercarpet": [
           {
            "marker": {
             "colorbar": {
              "outlinewidth": 0,
              "ticks": ""
             }
            },
            "type": "scattercarpet"
           }
          ],
          "scattergeo": [
           {
            "marker": {
             "colorbar": {
              "outlinewidth": 0,
              "ticks": ""
             }
            },
            "type": "scattergeo"
           }
          ],
          "scattergl": [
           {
            "marker": {
             "colorbar": {
              "outlinewidth": 0,
              "ticks": ""
             }
            },
            "type": "scattergl"
           }
          ],
          "scattermapbox": [
           {
            "marker": {
             "colorbar": {
              "outlinewidth": 0,
              "ticks": ""
             }
            },
            "type": "scattermapbox"
           }
          ],
          "scatterpolar": [
           {
            "marker": {
             "colorbar": {
              "outlinewidth": 0,
              "ticks": ""
             }
            },
            "type": "scatterpolar"
           }
          ],
          "scatterpolargl": [
           {
            "marker": {
             "colorbar": {
              "outlinewidth": 0,
              "ticks": ""
             }
            },
            "type": "scatterpolargl"
           }
          ],
          "scatterternary": [
           {
            "marker": {
             "colorbar": {
              "outlinewidth": 0,
              "ticks": ""
             }
            },
            "type": "scatterternary"
           }
          ],
          "surface": [
           {
            "colorbar": {
             "outlinewidth": 0,
             "ticks": ""
            },
            "colorscale": [
             [
              0,
              "#0d0887"
             ],
             [
              0.1111111111111111,
              "#46039f"
             ],
             [
              0.2222222222222222,
              "#7201a8"
             ],
             [
              0.3333333333333333,
              "#9c179e"
             ],
             [
              0.4444444444444444,
              "#bd3786"
             ],
             [
              0.5555555555555556,
              "#d8576b"
             ],
             [
              0.6666666666666666,
              "#ed7953"
             ],
             [
              0.7777777777777778,
              "#fb9f3a"
             ],
             [
              0.8888888888888888,
              "#fdca26"
             ],
             [
              1,
              "#f0f921"
             ]
            ],
            "type": "surface"
           }
          ],
          "table": [
           {
            "cells": {
             "fill": {
              "color": "#EBF0F8"
             },
             "line": {
              "color": "white"
             }
            },
            "header": {
             "fill": {
              "color": "#C8D4E3"
             },
             "line": {
              "color": "white"
             }
            },
            "type": "table"
           }
          ]
         },
         "layout": {
          "annotationdefaults": {
           "arrowcolor": "#2a3f5f",
           "arrowhead": 0,
           "arrowwidth": 1
          },
          "autotypenumbers": "strict",
          "coloraxis": {
           "colorbar": {
            "outlinewidth": 0,
            "ticks": ""
           }
          },
          "colorscale": {
           "diverging": [
            [
             0,
             "#8e0152"
            ],
            [
             0.1,
             "#c51b7d"
            ],
            [
             0.2,
             "#de77ae"
            ],
            [
             0.3,
             "#f1b6da"
            ],
            [
             0.4,
             "#fde0ef"
            ],
            [
             0.5,
             "#f7f7f7"
            ],
            [
             0.6,
             "#e6f5d0"
            ],
            [
             0.7,
             "#b8e186"
            ],
            [
             0.8,
             "#7fbc41"
            ],
            [
             0.9,
             "#4d9221"
            ],
            [
             1,
             "#276419"
            ]
           ],
           "sequential": [
            [
             0,
             "#0d0887"
            ],
            [
             0.1111111111111111,
             "#46039f"
            ],
            [
             0.2222222222222222,
             "#7201a8"
            ],
            [
             0.3333333333333333,
             "#9c179e"
            ],
            [
             0.4444444444444444,
             "#bd3786"
            ],
            [
             0.5555555555555556,
             "#d8576b"
            ],
            [
             0.6666666666666666,
             "#ed7953"
            ],
            [
             0.7777777777777778,
             "#fb9f3a"
            ],
            [
             0.8888888888888888,
             "#fdca26"
            ],
            [
             1,
             "#f0f921"
            ]
           ],
           "sequentialminus": [
            [
             0,
             "#0d0887"
            ],
            [
             0.1111111111111111,
             "#46039f"
            ],
            [
             0.2222222222222222,
             "#7201a8"
            ],
            [
             0.3333333333333333,
             "#9c179e"
            ],
            [
             0.4444444444444444,
             "#bd3786"
            ],
            [
             0.5555555555555556,
             "#d8576b"
            ],
            [
             0.6666666666666666,
             "#ed7953"
            ],
            [
             0.7777777777777778,
             "#fb9f3a"
            ],
            [
             0.8888888888888888,
             "#fdca26"
            ],
            [
             1,
             "#f0f921"
            ]
           ]
          },
          "colorway": [
           "#636efa",
           "#EF553B",
           "#00cc96",
           "#ab63fa",
           "#FFA15A",
           "#19d3f3",
           "#FF6692",
           "#B6E880",
           "#FF97FF",
           "#FECB52"
          ],
          "font": {
           "color": "#2a3f5f"
          },
          "geo": {
           "bgcolor": "white",
           "lakecolor": "white",
           "landcolor": "#E5ECF6",
           "showlakes": true,
           "showland": true,
           "subunitcolor": "white"
          },
          "hoverlabel": {
           "align": "left"
          },
          "hovermode": "closest",
          "mapbox": {
           "style": "light"
          },
          "paper_bgcolor": "white",
          "plot_bgcolor": "#E5ECF6",
          "polar": {
           "angularaxis": {
            "gridcolor": "white",
            "linecolor": "white",
            "ticks": ""
           },
           "bgcolor": "#E5ECF6",
           "radialaxis": {
            "gridcolor": "white",
            "linecolor": "white",
            "ticks": ""
           }
          },
          "scene": {
           "xaxis": {
            "backgroundcolor": "#E5ECF6",
            "gridcolor": "white",
            "gridwidth": 2,
            "linecolor": "white",
            "showbackground": true,
            "ticks": "",
            "zerolinecolor": "white"
           },
           "yaxis": {
            "backgroundcolor": "#E5ECF6",
            "gridcolor": "white",
            "gridwidth": 2,
            "linecolor": "white",
            "showbackground": true,
            "ticks": "",
            "zerolinecolor": "white"
           },
           "zaxis": {
            "backgroundcolor": "#E5ECF6",
            "gridcolor": "white",
            "gridwidth": 2,
            "linecolor": "white",
            "showbackground": true,
            "ticks": "",
            "zerolinecolor": "white"
           }
          },
          "shapedefaults": {
           "line": {
            "color": "#2a3f5f"
           }
          },
          "ternary": {
           "aaxis": {
            "gridcolor": "white",
            "linecolor": "white",
            "ticks": ""
           },
           "baxis": {
            "gridcolor": "white",
            "linecolor": "white",
            "ticks": ""
           },
           "bgcolor": "#E5ECF6",
           "caxis": {
            "gridcolor": "white",
            "linecolor": "white",
            "ticks": ""
           }
          },
          "title": {
           "x": 0.05
          },
          "xaxis": {
           "automargin": true,
           "gridcolor": "white",
           "linecolor": "white",
           "ticks": "",
           "title": {
            "standoff": 15
           },
           "zerolinecolor": "white",
           "zerolinewidth": 2
          },
          "yaxis": {
           "automargin": true,
           "gridcolor": "white",
           "linecolor": "white",
           "ticks": "",
           "title": {
            "standoff": 15
           },
           "zerolinecolor": "white",
           "zerolinewidth": 2
          }
         }
        },
        "xaxis": {
         "anchor": "y",
         "domain": [
          0,
          1
         ],
         "title": {
          "text": "value"
         }
        },
        "yaxis": {
         "anchor": "x",
         "domain": [
          0,
          1
         ],
         "title": {
          "text": "count"
         }
        }
       }
      }
     },
     "metadata": {},
     "output_type": "display_data"
    }
   ],
   "source": [
    "px.histogram(missing_value_df.percent_missing)"
   ]
  },
  {
   "attachments": {},
   "cell_type": "markdown",
   "metadata": {},
   "source": [
    "# Drop some variables with missing values\n",
    "\n",
    "We select the columns having less than 2.5% missing values."
   ]
  },
  {
   "cell_type": "code",
   "execution_count": 288,
   "metadata": {},
   "outputs": [],
   "source": [
    "colnames = missing_value_df[missing_value_df[\"percent_missing\"]<2.5][\"column_name\"].values"
   ]
  },
  {
   "cell_type": "code",
   "execution_count": 289,
   "metadata": {},
   "outputs": [],
   "source": [
    "missings_dropped = concat_df[colnames]"
   ]
  },
  {
   "cell_type": "code",
   "execution_count": 290,
   "metadata": {},
   "outputs": [
    {
     "name": "stdout",
     "output_type": "stream",
     "text": [
      "59 columns were dropped\n"
     ]
    }
   ],
   "source": [
    "print(\"{} columns were dropped\".format(concat_df.shape[1] - concat_df_missings_dropped.shape[1]))"
   ]
  },
  {
   "attachments": {},
   "cell_type": "markdown",
   "metadata": {},
   "source": [
    "# Drop constant variables"
   ]
  },
  {
   "cell_type": "code",
   "execution_count": 291,
   "metadata": {},
   "outputs": [
    {
     "name": "stdout",
     "output_type": "stream",
     "text": [
      "116 columns were dropped\n"
     ]
    }
   ],
   "source": [
    "unique_series = missings_dropped.nunique()\n",
    "constants_dropped = missings_dropped[unique_series[unique_series != 1].index]\n",
    "print(\"{} columns were dropped\".format(missings_dropped.shape[1] - constants_dropped.shape[1]))"
   ]
  },
  {
   "cell_type": "code",
   "execution_count": 292,
   "metadata": {},
   "outputs": [
    {
     "data": {
      "text/html": [
       "<div>\n",
       "<style scoped>\n",
       "    .dataframe tbody tr th:only-of-type {\n",
       "        vertical-align: middle;\n",
       "    }\n",
       "\n",
       "    .dataframe tbody tr th {\n",
       "        vertical-align: top;\n",
       "    }\n",
       "\n",
       "    .dataframe thead th {\n",
       "        text-align: right;\n",
       "    }\n",
       "</style>\n",
       "<table border=\"1\" class=\"dataframe\">\n",
       "  <thead>\n",
       "    <tr style=\"text-align: right;\">\n",
       "      <th></th>\n",
       "      <th>0</th>\n",
       "      <th>1</th>\n",
       "      <th>2</th>\n",
       "      <th>3</th>\n",
       "      <th>4</th>\n",
       "      <th>6</th>\n",
       "      <th>7</th>\n",
       "      <th>8</th>\n",
       "      <th>9</th>\n",
       "      <th>10</th>\n",
       "      <th>...</th>\n",
       "      <th>576</th>\n",
       "      <th>577</th>\n",
       "      <th>582</th>\n",
       "      <th>583</th>\n",
       "      <th>584</th>\n",
       "      <th>585</th>\n",
       "      <th>586</th>\n",
       "      <th>587</th>\n",
       "      <th>588</th>\n",
       "      <th>589</th>\n",
       "    </tr>\n",
       "  </thead>\n",
       "  <tbody>\n",
       "    <tr>\n",
       "      <th>count</th>\n",
       "      <td>1561.000000</td>\n",
       "      <td>1560.000000</td>\n",
       "      <td>1553.000000</td>\n",
       "      <td>1553.000000</td>\n",
       "      <td>1553.000000</td>\n",
       "      <td>1553.000000</td>\n",
       "      <td>1558.000000</td>\n",
       "      <td>1565.000000</td>\n",
       "      <td>1565.000000</td>\n",
       "      <td>1565.000000</td>\n",
       "      <td>...</td>\n",
       "      <td>1567.000000</td>\n",
       "      <td>1567.000000</td>\n",
       "      <td>1566.000000</td>\n",
       "      <td>1566.000000</td>\n",
       "      <td>1566.000000</td>\n",
       "      <td>1566.000000</td>\n",
       "      <td>1566.000000</td>\n",
       "      <td>1566.000000</td>\n",
       "      <td>1566.000000</td>\n",
       "      <td>1566.000000</td>\n",
       "    </tr>\n",
       "    <tr>\n",
       "      <th>mean</th>\n",
       "      <td>3014.452896</td>\n",
       "      <td>2495.850231</td>\n",
       "      <td>2200.547318</td>\n",
       "      <td>1396.376627</td>\n",
       "      <td>4.197013</td>\n",
       "      <td>101.112908</td>\n",
       "      <td>0.121822</td>\n",
       "      <td>1.462862</td>\n",
       "      <td>-0.000841</td>\n",
       "      <td>0.000146</td>\n",
       "      <td>...</td>\n",
       "      <td>5.563747</td>\n",
       "      <td>16.642363</td>\n",
       "      <td>0.500096</td>\n",
       "      <td>0.015318</td>\n",
       "      <td>0.003847</td>\n",
       "      <td>3.067826</td>\n",
       "      <td>0.021458</td>\n",
       "      <td>0.016475</td>\n",
       "      <td>0.005283</td>\n",
       "      <td>99.670066</td>\n",
       "    </tr>\n",
       "    <tr>\n",
       "      <th>std</th>\n",
       "      <td>73.621787</td>\n",
       "      <td>80.407705</td>\n",
       "      <td>29.513152</td>\n",
       "      <td>441.691640</td>\n",
       "      <td>56.355540</td>\n",
       "      <td>6.237214</td>\n",
       "      <td>0.008961</td>\n",
       "      <td>0.073897</td>\n",
       "      <td>0.015116</td>\n",
       "      <td>0.009302</td>\n",
       "      <td>...</td>\n",
       "      <td>16.921369</td>\n",
       "      <td>12.485267</td>\n",
       "      <td>0.003404</td>\n",
       "      <td>0.017180</td>\n",
       "      <td>0.003720</td>\n",
       "      <td>3.578033</td>\n",
       "      <td>0.012358</td>\n",
       "      <td>0.008808</td>\n",
       "      <td>0.002867</td>\n",
       "      <td>93.891919</td>\n",
       "    </tr>\n",
       "    <tr>\n",
       "      <th>min</th>\n",
       "      <td>2743.240000</td>\n",
       "      <td>2158.750000</td>\n",
       "      <td>2060.660000</td>\n",
       "      <td>0.000000</td>\n",
       "      <td>0.681500</td>\n",
       "      <td>82.131100</td>\n",
       "      <td>0.000000</td>\n",
       "      <td>1.191000</td>\n",
       "      <td>-0.053400</td>\n",
       "      <td>-0.034900</td>\n",
       "      <td>...</td>\n",
       "      <td>0.663600</td>\n",
       "      <td>4.582000</td>\n",
       "      <td>0.477800</td>\n",
       "      <td>0.006000</td>\n",
       "      <td>0.001700</td>\n",
       "      <td>1.197500</td>\n",
       "      <td>-0.016900</td>\n",
       "      <td>0.003200</td>\n",
       "      <td>0.001000</td>\n",
       "      <td>0.000000</td>\n",
       "    </tr>\n",
       "    <tr>\n",
       "      <th>25%</th>\n",
       "      <td>2966.260000</td>\n",
       "      <td>2452.247500</td>\n",
       "      <td>2181.044400</td>\n",
       "      <td>1081.875800</td>\n",
       "      <td>1.017700</td>\n",
       "      <td>97.920000</td>\n",
       "      <td>0.121100</td>\n",
       "      <td>1.411200</td>\n",
       "      <td>-0.010800</td>\n",
       "      <td>-0.005600</td>\n",
       "      <td>...</td>\n",
       "      <td>1.408450</td>\n",
       "      <td>11.501550</td>\n",
       "      <td>0.497900</td>\n",
       "      <td>0.011600</td>\n",
       "      <td>0.003100</td>\n",
       "      <td>2.306500</td>\n",
       "      <td>0.013425</td>\n",
       "      <td>0.010600</td>\n",
       "      <td>0.003300</td>\n",
       "      <td>44.368600</td>\n",
       "    </tr>\n",
       "    <tr>\n",
       "      <th>50%</th>\n",
       "      <td>3011.490000</td>\n",
       "      <td>2499.405000</td>\n",
       "      <td>2201.066700</td>\n",
       "      <td>1285.214400</td>\n",
       "      <td>1.316800</td>\n",
       "      <td>101.512200</td>\n",
       "      <td>0.122400</td>\n",
       "      <td>1.461600</td>\n",
       "      <td>-0.001300</td>\n",
       "      <td>0.000400</td>\n",
       "      <td>...</td>\n",
       "      <td>1.624500</td>\n",
       "      <td>13.817900</td>\n",
       "      <td>0.500200</td>\n",
       "      <td>0.013800</td>\n",
       "      <td>0.003600</td>\n",
       "      <td>2.757650</td>\n",
       "      <td>0.020500</td>\n",
       "      <td>0.014800</td>\n",
       "      <td>0.004600</td>\n",
       "      <td>71.900500</td>\n",
       "    </tr>\n",
       "    <tr>\n",
       "      <th>75%</th>\n",
       "      <td>3056.650000</td>\n",
       "      <td>2538.822500</td>\n",
       "      <td>2218.055500</td>\n",
       "      <td>1591.223500</td>\n",
       "      <td>1.525700</td>\n",
       "      <td>104.586700</td>\n",
       "      <td>0.123800</td>\n",
       "      <td>1.516900</td>\n",
       "      <td>0.008400</td>\n",
       "      <td>0.005900</td>\n",
       "      <td>...</td>\n",
       "      <td>1.902000</td>\n",
       "      <td>17.080900</td>\n",
       "      <td>0.502375</td>\n",
       "      <td>0.016500</td>\n",
       "      <td>0.004100</td>\n",
       "      <td>3.295175</td>\n",
       "      <td>0.027600</td>\n",
       "      <td>0.020300</td>\n",
       "      <td>0.006400</td>\n",
       "      <td>114.749700</td>\n",
       "    </tr>\n",
       "    <tr>\n",
       "      <th>max</th>\n",
       "      <td>3356.350000</td>\n",
       "      <td>2846.440000</td>\n",
       "      <td>2315.266700</td>\n",
       "      <td>3715.041700</td>\n",
       "      <td>1114.536600</td>\n",
       "      <td>129.252200</td>\n",
       "      <td>0.128600</td>\n",
       "      <td>1.656400</td>\n",
       "      <td>0.074900</td>\n",
       "      <td>0.053000</td>\n",
       "      <td>...</td>\n",
       "      <td>90.423500</td>\n",
       "      <td>96.960100</td>\n",
       "      <td>0.509800</td>\n",
       "      <td>0.476600</td>\n",
       "      <td>0.104500</td>\n",
       "      <td>99.303200</td>\n",
       "      <td>0.102800</td>\n",
       "      <td>0.079900</td>\n",
       "      <td>0.028600</td>\n",
       "      <td>737.304800</td>\n",
       "    </tr>\n",
       "  </tbody>\n",
       "</table>\n",
       "<p>8 rows × 414 columns</p>\n",
       "</div>"
      ],
      "text/plain": [
       "               0            1            2            3            4    \\\n",
       "count  1561.000000  1560.000000  1553.000000  1553.000000  1553.000000   \n",
       "mean   3014.452896  2495.850231  2200.547318  1396.376627     4.197013   \n",
       "std      73.621787    80.407705    29.513152   441.691640    56.355540   \n",
       "min    2743.240000  2158.750000  2060.660000     0.000000     0.681500   \n",
       "25%    2966.260000  2452.247500  2181.044400  1081.875800     1.017700   \n",
       "50%    3011.490000  2499.405000  2201.066700  1285.214400     1.316800   \n",
       "75%    3056.650000  2538.822500  2218.055500  1591.223500     1.525700   \n",
       "max    3356.350000  2846.440000  2315.266700  3715.041700  1114.536600   \n",
       "\n",
       "               6            7            8            9            10   ...  \\\n",
       "count  1553.000000  1558.000000  1565.000000  1565.000000  1565.000000  ...   \n",
       "mean    101.112908     0.121822     1.462862    -0.000841     0.000146  ...   \n",
       "std       6.237214     0.008961     0.073897     0.015116     0.009302  ...   \n",
       "min      82.131100     0.000000     1.191000    -0.053400    -0.034900  ...   \n",
       "25%      97.920000     0.121100     1.411200    -0.010800    -0.005600  ...   \n",
       "50%     101.512200     0.122400     1.461600    -0.001300     0.000400  ...   \n",
       "75%     104.586700     0.123800     1.516900     0.008400     0.005900  ...   \n",
       "max     129.252200     0.128600     1.656400     0.074900     0.053000  ...   \n",
       "\n",
       "               576          577          582          583          584  \\\n",
       "count  1567.000000  1567.000000  1566.000000  1566.000000  1566.000000   \n",
       "mean      5.563747    16.642363     0.500096     0.015318     0.003847   \n",
       "std      16.921369    12.485267     0.003404     0.017180     0.003720   \n",
       "min       0.663600     4.582000     0.477800     0.006000     0.001700   \n",
       "25%       1.408450    11.501550     0.497900     0.011600     0.003100   \n",
       "50%       1.624500    13.817900     0.500200     0.013800     0.003600   \n",
       "75%       1.902000    17.080900     0.502375     0.016500     0.004100   \n",
       "max      90.423500    96.960100     0.509800     0.476600     0.104500   \n",
       "\n",
       "               585          586          587          588          589  \n",
       "count  1566.000000  1566.000000  1566.000000  1566.000000  1566.000000  \n",
       "mean      3.067826     0.021458     0.016475     0.005283    99.670066  \n",
       "std       3.578033     0.012358     0.008808     0.002867    93.891919  \n",
       "min       1.197500    -0.016900     0.003200     0.001000     0.000000  \n",
       "25%       2.306500     0.013425     0.010600     0.003300    44.368600  \n",
       "50%       2.757650     0.020500     0.014800     0.004600    71.900500  \n",
       "75%       3.295175     0.027600     0.020300     0.006400   114.749700  \n",
       "max      99.303200     0.102800     0.079900     0.028600   737.304800  \n",
       "\n",
       "[8 rows x 414 columns]"
      ]
     },
     "execution_count": 292,
     "metadata": {},
     "output_type": "execute_result"
    }
   ],
   "source": [
    "constants_dropped.describe()"
   ]
  },
  {
   "cell_type": "code",
   "execution_count": 293,
   "metadata": {},
   "outputs": [
    {
     "data": {
      "text/plain": [
       "<AxesSubplot:>"
      ]
     },
     "execution_count": 293,
     "metadata": {},
     "output_type": "execute_result"
    },
    {
     "data": {
      "image/png": "[encoded data removed]",
      "text/plain": [
       "<Figure size 432x288 with 2 Axes>"
      ]
     },
     "metadata": {
      "needs_background": "light"
     },
     "output_type": "display_data"
    }
   ],
   "source": [
    "sns.heatmap(constants_dropped.corr())"
   ]
  },
  {
   "cell_type": "code",
   "execution_count": 295,
   "metadata": {},
   "outputs": [
    {
     "data": {
      "text/plain": [
       "VarianceThreshold(threshold=0.25)"
      ]
     },
     "execution_count": 295,
     "metadata": {},
     "output_type": "execute_result"
    }
   ],
   "source": [
    "from sklearn.feature_selection import VarianceThreshold\n",
    "\n",
    "var_thr = VarianceThreshold(threshold = 0.25) #Removing both constant and quasi-constant\n",
    "var_thr.fit(missings_dropped)"
   ]
  },
  {
   "cell_type": "code",
   "execution_count": 300,
   "metadata": {},
   "outputs": [
    {
     "data": {
      "text/plain": [
       "array([[3.0309300e+03, 2.5640000e+03, 2.1877333e+03, ..., 1.4950900e+01,\n",
       "        2.3630000e+00,           nan],\n",
       "       [3.0957800e+03, 2.4651400e+03, 2.2304222e+03, ..., 1.0900300e+01,\n",
       "        4.4447000e+00, 2.0820450e+02],\n",
       "       [2.9326100e+03, 2.5599400e+03, 2.1864111e+03, ..., 9.2721000e+00,\n",
       "        3.1745000e+00, 8.2860200e+01],\n",
       "       ...,\n",
       "       [2.9788100e+03, 2.3797800e+03, 2.2063000e+03, ..., 1.7726700e+01,\n",
       "        3.0590000e+00, 4.3523100e+01],\n",
       "       [2.8949200e+03, 2.5320100e+03, 2.1770333e+03, ..., 1.9210400e+01,\n",
       "        3.5662000e+00, 9.3494100e+01],\n",
       "       [2.9449200e+03, 2.4507600e+03, 2.1954444e+03, ..., 2.2918300e+01,\n",
       "        3.6275000e+00, 1.3778440e+02]])"
      ]
     },
     "execution_count": 300,
     "metadata": {},
     "output_type": "execute_result"
    }
   ],
   "source": [
    "var_thr.fit_transform(missings_dropped)"
   ]
  },
  {
   "cell_type": "markdown",
   "metadata": {},
   "source": [
    "Two approaches are available to reduce dimensionality:\n",
    "\n",
    "Feature extraction: creating a subset of new features by combinations of the existing features (example: PCA)\n",
    "\n",
    "Feature selection: choosing a subset of all the features (example: Recursive Feature Elimination)"
   ]
  },
  {
   "cell_type": "markdown",
   "metadata": {},
   "source": [
    "Dimensionality reduction techniques:\n",
    "\n",
    "- Percent Missing Values\n",
    "- Ammount of Variation\n",
    "- Pairwise Correlation\n",
    "- Correlation with Target\n",
    "- Recursive feature elimination"
   ]
  },
  {
   "attachments": {},
   "cell_type": "markdown",
   "metadata": {},
   "source": [
    "# Create train and test dataset\n",
    "\n",
    "before everything else, we should make our test set. \n",
    "\n",
    "Since according to dataset's description, target values are highly imbalanced, so I split it in a stratified fashion."
   ]
  },
  {
   "cell_type": "code",
   "execution_count": 279,
   "metadata": {},
   "outputs": [],
   "source": [
    "# Create training and test datasets\n",
    "X = constants_dropped.drop([\"Label\"],axis=1)\n",
    "Y = constants_dropped[\"Label\"]\n",
    "\n",
    "X_train, X_test, Y_train, Y_test = train_test_split(X, Y, test_size = 0.20, random_state = 42)"
   ]
  },
  {
   "cell_type": "code",
   "execution_count": 207,
   "metadata": {},
   "outputs": [
    {
     "data": {
      "text/plain": [
       "-1    93.615323\n",
       "1      6.384677\n",
       "Name: Label, dtype: float64"
      ]
     },
     "execution_count": 207,
     "metadata": {},
     "output_type": "execute_result"
    }
   ],
   "source": [
    "Y_train.value_counts(normalize=True) * 100"
   ]
  },
  {
   "cell_type": "code",
   "execution_count": 208,
   "metadata": {},
   "outputs": [
    {
     "data": {
      "text/plain": [
       "-1    92.356688\n",
       "1      7.643312\n",
       "Name: Label, dtype: float64"
      ]
     },
     "execution_count": 208,
     "metadata": {},
     "output_type": "execute_result"
    }
   ],
   "source": [
    "Y_test.value_counts(normalize=True) * 100"
   ]
  },
  {
   "attachments": {},
   "cell_type": "markdown",
   "metadata": {},
   "source": [
    "# Re-label the Target values\n",
    "\n",
    "Each failure is is encoded as 0 while 1 corresponds to a pass"
   ]
  },
  {
   "cell_type": "code",
   "execution_count": 209,
   "metadata": {},
   "outputs": [],
   "source": [
    "Y_train = Y_train.replace(to_replace=[-1, 1], value=[1, 0])\n",
    "Y_test = Y_test.replace(to_replace=[-1, 1], value=[1, 0])"
   ]
  },
  {
   "cell_type": "code",
   "execution_count": 210,
   "metadata": {},
   "outputs": [
    {
     "data": {
      "application/vnd.plotly.v1+json": {
       "config": {
        "plotlyServerURL": "https://plot.ly"
       },
       "data": [
        {
         "domain": {
          "x": [
           0,
           1
          ],
          "y": [
           0,
           1
          ]
         },
         "hovertemplate": "label=%{label}<br>Label=%{value}<extra></extra>",
         "labels": [
          "PASS",
          "FAIL"
         ],
         "legendgroup": "",
         "name": "",
         "showlegend": true,
         "type": "pie",
         "values": [
          1173,
          80
         ]
        }
       ],
       "layout": {
        "legend": {
         "tracegroupgap": 0
        },
        "template": {
         "data": {
          "bar": [
           {
            "error_x": {
             "color": "#2a3f5f"
            },
            "error_y": {
             "color": "#2a3f5f"
            },
            "marker": {
             "line": {
              "color": "#E5ECF6",
              "width": 0.5
             },
             "pattern": {
              "fillmode": "overlay",
              "size": 10,
              "solidity": 0.2
             }
            },
            "type": "bar"
           }
          ],
          "barpolar": [
           {
            "marker": {
             "line": {
              "color": "#E5ECF6",
              "width": 0.5
             },
             "pattern": {
              "fillmode": "overlay",
              "size": 10,
              "solidity": 0.2
             }
            },
            "type": "barpolar"
           }
          ],
          "carpet": [
           {
            "aaxis": {
             "endlinecolor": "#2a3f5f",
             "gridcolor": "white",
             "linecolor": "white",
             "minorgridcolor": "white",
             "startlinecolor": "#2a3f5f"
            },
            "baxis": {
             "endlinecolor": "#2a3f5f",
             "gridcolor": "white",
             "linecolor": "white",
             "minorgridcolor": "white",
             "startlinecolor": "#2a3f5f"
            },
            "type": "carpet"
           }
          ],
          "choropleth": [
           {
            "colorbar": {
             "outlinewidth": 0,
             "ticks": ""
            },
            "type": "choropleth"
           }
          ],
          "contour": [
           {
            "colorbar": {
             "outlinewidth": 0,
             "ticks": ""
            },
            "colorscale": [
             [
              0,
              "#0d0887"
             ],
             [
              0.1111111111111111,
              "#46039f"
             ],
             [
              0.2222222222222222,
              "#7201a8"
             ],
             [
              0.3333333333333333,
              "#9c179e"
             ],
             [
              0.4444444444444444,
              "#bd3786"
             ],
             [
              0.5555555555555556,
              "#d8576b"
             ],
             [
              0.6666666666666666,
              "#ed7953"
             ],
             [
              0.7777777777777778,
              "#fb9f3a"
             ],
             [
              0.8888888888888888,
              "#fdca26"
             ],
             [
              1,
              "#f0f921"
             ]
            ],
            "type": "contour"
           }
          ],
          "contourcarpet": [
           {
            "colorbar": {
             "outlinewidth": 0,
             "ticks": ""
            },
            "type": "contourcarpet"
           }
          ],
          "heatmap": [
           {
            "colorbar": {
             "outlinewidth": 0,
             "ticks": ""
            },
            "colorscale": [
             [
              0,
              "#0d0887"
             ],
             [
              0.1111111111111111,
              "#46039f"
             ],
             [
              0.2222222222222222,
              "#7201a8"
             ],
             [
              0.3333333333333333,
              "#9c179e"
             ],
             [
              0.4444444444444444,
              "#bd3786"
             ],
             [
              0.5555555555555556,
              "#d8576b"
             ],
             [
              0.6666666666666666,
              "#ed7953"
             ],
             [
              0.7777777777777778,
              "#fb9f3a"
             ],
             [
              0.8888888888888888,
              "#fdca26"
             ],
             [
              1,
              "#f0f921"
             ]
            ],
            "type": "heatmap"
           }
          ],
          "heatmapgl": [
           {
            "colorbar": {
             "outlinewidth": 0,
             "ticks": ""
            },
            "colorscale": [
             [
              0,
              "#0d0887"
             ],
             [
              0.1111111111111111,
              "#46039f"
             ],
             [
              0.2222222222222222,
              "#7201a8"
             ],
             [
              0.3333333333333333,
              "#9c179e"
             ],
             [
              0.4444444444444444,
              "#bd3786"
             ],
             [
              0.5555555555555556,
              "#d8576b"
             ],
             [
              0.6666666666666666,
              "#ed7953"
             ],
             [
              0.7777777777777778,
              "#fb9f3a"
             ],
             [
              0.8888888888888888,
              "#fdca26"
             ],
             [
              1,
              "#f0f921"
             ]
            ],
            "type": "heatmapgl"
           }
          ],
          "histogram": [
           {
            "marker": {
             "pattern": {
              "fillmode": "overlay",
              "size": 10,
              "solidity": 0.2
             }
            },
            "type": "histogram"
           }
          ],
          "histogram2d": [
           {
            "colorbar": {
             "outlinewidth": 0,
             "ticks": ""
            },
            "colorscale": [
             [
              0,
              "#0d0887"
             ],
             [
              0.1111111111111111,
              "#46039f"
             ],
             [
              0.2222222222222222,
              "#7201a8"
             ],
             [
              0.3333333333333333,
              "#9c179e"
             ],
             [
              0.4444444444444444,
              "#bd3786"
             ],
             [
              0.5555555555555556,
              "#d8576b"
             ],
             [
              0.6666666666666666,
              "#ed7953"
             ],
             [
              0.7777777777777778,
              "#fb9f3a"
             ],
             [
              0.8888888888888888,
              "#fdca26"
             ],
             [
              1,
              "#f0f921"
             ]
            ],
            "type": "histogram2d"
           }
          ],
          "histogram2dcontour": [
           {
            "colorbar": {
             "outlinewidth": 0,
             "ticks": ""
            },
            "colorscale": [
             [
              0,
              "#0d0887"
             ],
             [
              0.1111111111111111,
              "#46039f"
             ],
             [
              0.2222222222222222,
              "#7201a8"
             ],
             [
              0.3333333333333333,
              "#9c179e"
             ],
             [
              0.4444444444444444,
              "#bd3786"
             ],
             [
              0.5555555555555556,
              "#d8576b"
             ],
             [
              0.6666666666666666,
              "#ed7953"
             ],
             [
              0.7777777777777778,
              "#fb9f3a"
             ],
             [
              0.8888888888888888,
              "#fdca26"
             ],
             [
              1,
              "#f0f921"
             ]
            ],
            "type": "histogram2dcontour"
           }
          ],
          "mesh3d": [
           {
            "colorbar": {
             "outlinewidth": 0,
             "ticks": ""
            },
            "type": "mesh3d"
           }
          ],
          "parcoords": [
           {
            "line": {
             "colorbar": {
              "outlinewidth": 0,
              "ticks": ""
             }
            },
            "type": "parcoords"
           }
          ],
          "pie": [
           {
            "automargin": true,
            "type": "pie"
           }
          ],
          "scatter": [
           {
            "marker": {
             "colorbar": {
              "outlinewidth": 0,
              "ticks": ""
             }
            },
            "type": "scatter"
           }
          ],
          "scatter3d": [
           {
            "line": {
             "colorbar": {
              "outlinewidth": 0,
              "ticks": ""
             }
            },
            "marker": {
             "colorbar": {
              "outlinewidth": 0,
              "ticks": ""
             }
            },
            "type": "scatter3d"
           }
          ],
          "scattercarpet": [
           {
            "marker": {
             "colorbar": {
              "outlinewidth": 0,
              "ticks": ""
             }
            },
            "type": "scattercarpet"
           }
          ],
          "scattergeo": [
           {
            "marker": {
             "colorbar": {
              "outlinewidth": 0,
              "ticks": ""
             }
            },
            "type": "scattergeo"
           }
          ],
          "scattergl": [
           {
            "marker": {
             "colorbar": {
              "outlinewidth": 0,
              "ticks": ""
             }
            },
            "type": "scattergl"
           }
          ],
          "scattermapbox": [
           {
            "marker": {
             "colorbar": {
              "outlinewidth": 0,
              "ticks": ""
             }
            },
            "type": "scattermapbox"
           }
          ],
          "scatterpolar": [
           {
            "marker": {
             "colorbar": {
              "outlinewidth": 0,
              "ticks": ""
             }
            },
            "type": "scatterpolar"
           }
          ],
          "scatterpolargl": [
           {
            "marker": {
             "colorbar": {
              "outlinewidth": 0,
              "ticks": ""
             }
            },
            "type": "scatterpolargl"
           }
          ],
          "scatterternary": [
           {
            "marker": {
             "colorbar": {
              "outlinewidth": 0,
              "ticks": ""
             }
            },
            "type": "scatterternary"
           }
          ],
          "surface": [
           {
            "colorbar": {
             "outlinewidth": 0,
             "ticks": ""
            },
            "colorscale": [
             [
              0,
              "#0d0887"
             ],
             [
              0.1111111111111111,
              "#46039f"
             ],
             [
              0.2222222222222222,
              "#7201a8"
             ],
             [
              0.3333333333333333,
              "#9c179e"
             ],
             [
              0.4444444444444444,
              "#bd3786"
             ],
             [
              0.5555555555555556,
              "#d8576b"
             ],
             [
              0.6666666666666666,
              "#ed7953"
             ],
             [
              0.7777777777777778,
              "#fb9f3a"
             ],
             [
              0.8888888888888888,
              "#fdca26"
             ],
             [
              1,
              "#f0f921"
             ]
            ],
            "type": "surface"
           }
          ],
          "table": [
           {
            "cells": {
             "fill": {
              "color": "#EBF0F8"
             },
             "line": {
              "color": "white"
             }
            },
            "header": {
             "fill": {
              "color": "#C8D4E3"
             },
             "line": {
              "color": "white"
             }
            },
            "type": "table"
           }
          ]
         },
         "layout": {
          "annotationdefaults": {
           "arrowcolor": "#2a3f5f",
           "arrowhead": 0,
           "arrowwidth": 1
          },
          "autotypenumbers": "strict",
          "coloraxis": {
           "colorbar": {
            "outlinewidth": 0,
            "ticks": ""
           }
          },
          "colorscale": {
           "diverging": [
            [
             0,
             "#8e0152"
            ],
            [
             0.1,
             "#c51b7d"
            ],
            [
             0.2,
             "#de77ae"
            ],
            [
             0.3,
             "#f1b6da"
            ],
            [
             0.4,
             "#fde0ef"
            ],
            [
             0.5,
             "#f7f7f7"
            ],
            [
             0.6,
             "#e6f5d0"
            ],
            [
             0.7,
             "#b8e186"
            ],
            [
             0.8,
             "#7fbc41"
            ],
            [
             0.9,
             "#4d9221"
            ],
            [
             1,
             "#276419"
            ]
           ],
           "sequential": [
            [
             0,
             "#0d0887"
            ],
            [
             0.1111111111111111,
             "#46039f"
            ],
            [
             0.2222222222222222,
             "#7201a8"
            ],
            [
             0.3333333333333333,
             "#9c179e"
            ],
            [
             0.4444444444444444,
             "#bd3786"
            ],
            [
             0.5555555555555556,
             "#d8576b"
            ],
            [
             0.6666666666666666,
             "#ed7953"
            ],
            [
             0.7777777777777778,
             "#fb9f3a"
            ],
            [
             0.8888888888888888,
             "#fdca26"
            ],
            [
             1,
             "#f0f921"
            ]
           ],
           "sequentialminus": [
            [
             0,
             "#0d0887"
            ],
            [
             0.1111111111111111,
             "#46039f"
            ],
            [
             0.2222222222222222,
             "#7201a8"
            ],
            [
             0.3333333333333333,
             "#9c179e"
            ],
            [
             0.4444444444444444,
             "#bd3786"
            ],
            [
             0.5555555555555556,
             "#d8576b"
            ],
            [
             0.6666666666666666,
             "#ed7953"
            ],
            [
             0.7777777777777778,
             "#fb9f3a"
            ],
            [
             0.8888888888888888,
             "#fdca26"
            ],
            [
             1,
             "#f0f921"
            ]
           ]
          },
          "colorway": [
           "#636efa",
           "#EF553B",
           "#00cc96",
           "#ab63fa",
           "#FFA15A",
           "#19d3f3",
           "#FF6692",
           "#B6E880",
           "#FF97FF",
           "#FECB52"
          ],
          "font": {
           "color": "#2a3f5f"
          },
          "geo": {
           "bgcolor": "white",
           "lakecolor": "white",
           "landcolor": "#E5ECF6",
           "showlakes": true,
           "showland": true,
           "subunitcolor": "white"
          },
          "hoverlabel": {
           "align": "left"
          },
          "hovermode": "closest",
          "mapbox": {
           "style": "light"
          },
          "paper_bgcolor": "white",
          "plot_bgcolor": "#E5ECF6",
          "polar": {
           "angularaxis": {
            "gridcolor": "white",
            "linecolor": "white",
            "ticks": ""
           },
           "bgcolor": "#E5ECF6",
           "radialaxis": {
            "gridcolor": "white",
            "linecolor": "white",
            "ticks": ""
           }
          },
          "scene": {
           "xaxis": {
            "backgroundcolor": "#E5ECF6",
            "gridcolor": "white",
            "gridwidth": 2,
            "linecolor": "white",
            "showbackground": true,
            "ticks": "",
            "zerolinecolor": "white"
           },
           "yaxis": {
            "backgroundcolor": "#E5ECF6",
            "gridcolor": "white",
            "gridwidth": 2,
            "linecolor": "white",
            "showbackground": true,
            "ticks": "",
            "zerolinecolor": "white"
           },
           "zaxis": {
            "backgroundcolor": "#E5ECF6",
            "gridcolor": "white",
            "gridwidth": 2,
            "linecolor": "white",
            "showbackground": true,
            "ticks": "",
            "zerolinecolor": "white"
           }
          },
          "shapedefaults": {
           "line": {
            "color": "#2a3f5f"
           }
          },
          "ternary": {
           "aaxis": {
            "gridcolor": "white",
            "linecolor": "white",
            "ticks": ""
           },
           "baxis": {
            "gridcolor": "white",
            "linecolor": "white",
            "ticks": ""
           },
           "bgcolor": "#E5ECF6",
           "caxis": {
            "gridcolor": "white",
            "linecolor": "white",
            "ticks": ""
           }
          },
          "title": {
           "x": 0.05
          },
          "xaxis": {
           "automargin": true,
           "gridcolor": "white",
           "linecolor": "white",
           "ticks": "",
           "title": {
            "standoff": 15
           },
           "zerolinecolor": "white",
           "zerolinewidth": 2
          },
          "yaxis": {
           "automargin": true,
           "gridcolor": "white",
           "linecolor": "white",
           "ticks": "",
           "title": {
            "standoff": 15
           },
           "zerolinecolor": "white",
           "zerolinewidth": 2
          }
         }
        },
        "title": {
         "text": "Train Label Class Distribution"
        },
        "width": 500
       }
      }
     },
     "metadata": {},
     "output_type": "display_data"
    }
   ],
   "source": [
    "fig = px.pie(\n",
    "    Y_train.value_counts(),\n",
    "    values='Label',\n",
    "    names=[\"PASS\", \"FAIL\"],\n",
    "    title=\"Train Label Class Distribution\",\n",
    "    width=500\n",
    ")\n",
    "\n",
    "fig.show()"
   ]
  },
  {
   "cell_type": "code",
   "execution_count": 211,
   "metadata": {},
   "outputs": [
    {
     "data": {
      "application/vnd.plotly.v1+json": {
       "config": {
        "plotlyServerURL": "https://plot.ly"
       },
       "data": [
        {
         "domain": {
          "x": [
           0,
           1
          ],
          "y": [
           0,
           1
          ]
         },
         "hovertemplate": "label=%{label}<br>Label=%{value}<extra></extra>",
         "labels": [
          "PASS",
          "FAIL"
         ],
         "legendgroup": "",
         "name": "",
         "showlegend": true,
         "type": "pie",
         "values": [
          290,
          24
         ]
        }
       ],
       "layout": {
        "legend": {
         "tracegroupgap": 0
        },
        "template": {
         "data": {
          "bar": [
           {
            "error_x": {
             "color": "#2a3f5f"
            },
            "error_y": {
             "color": "#2a3f5f"
            },
            "marker": {
             "line": {
              "color": "#E5ECF6",
              "width": 0.5
             },
             "pattern": {
              "fillmode": "overlay",
              "size": 10,
              "solidity": 0.2
             }
            },
            "type": "bar"
           }
          ],
          "barpolar": [
           {
            "marker": {
             "line": {
              "color": "#E5ECF6",
              "width": 0.5
             },
             "pattern": {
              "fillmode": "overlay",
              "size": 10,
              "solidity": 0.2
             }
            },
            "type": "barpolar"
           }
          ],
          "carpet": [
           {
            "aaxis": {
             "endlinecolor": "#2a3f5f",
             "gridcolor": "white",
             "linecolor": "white",
             "minorgridcolor": "white",
             "startlinecolor": "#2a3f5f"
            },
            "baxis": {
             "endlinecolor": "#2a3f5f",
             "gridcolor": "white",
             "linecolor": "white",
             "minorgridcolor": "white",
             "startlinecolor": "#2a3f5f"
            },
            "type": "carpet"
           }
          ],
          "choropleth": [
           {
            "colorbar": {
             "outlinewidth": 0,
             "ticks": ""
            },
            "type": "choropleth"
           }
          ],
          "contour": [
           {
            "colorbar": {
             "outlinewidth": 0,
             "ticks": ""
            },
            "colorscale": [
             [
              0,
              "#0d0887"
             ],
             [
              0.1111111111111111,
              "#46039f"
             ],
             [
              0.2222222222222222,
              "#7201a8"
             ],
             [
              0.3333333333333333,
              "#9c179e"
             ],
             [
              0.4444444444444444,
              "#bd3786"
             ],
             [
              0.5555555555555556,
              "#d8576b"
             ],
             [
              0.6666666666666666,
              "#ed7953"
             ],
             [
              0.7777777777777778,
              "#fb9f3a"
             ],
             [
              0.8888888888888888,
              "#fdca26"
             ],
             [
              1,
              "#f0f921"
             ]
            ],
            "type": "contour"
           }
          ],
          "contourcarpet": [
           {
            "colorbar": {
             "outlinewidth": 0,
             "ticks": ""
            },
            "type": "contourcarpet"
           }
          ],
          "heatmap": [
           {
            "colorbar": {
             "outlinewidth": 0,
             "ticks": ""
            },
            "colorscale": [
             [
              0,
              "#0d0887"
             ],
             [
              0.1111111111111111,
              "#46039f"
             ],
             [
              0.2222222222222222,
              "#7201a8"
             ],
             [
              0.3333333333333333,
              "#9c179e"
             ],
             [
              0.4444444444444444,
              "#bd3786"
             ],
             [
              0.5555555555555556,
              "#d8576b"
             ],
             [
              0.6666666666666666,
              "#ed7953"
             ],
             [
              0.7777777777777778,
              "#fb9f3a"
             ],
             [
              0.8888888888888888,
              "#fdca26"
             ],
             [
              1,
              "#f0f921"
             ]
            ],
            "type": "heatmap"
           }
          ],
          "heatmapgl": [
           {
            "colorbar": {
             "outlinewidth": 0,
             "ticks": ""
            },
            "colorscale": [
             [
              0,
              "#0d0887"
             ],
             [
              0.1111111111111111,
              "#46039f"
             ],
             [
              0.2222222222222222,
              "#7201a8"
             ],
             [
              0.3333333333333333,
              "#9c179e"
             ],
             [
              0.4444444444444444,
              "#bd3786"
             ],
             [
              0.5555555555555556,
              "#d8576b"
             ],
             [
              0.6666666666666666,
              "#ed7953"
             ],
             [
              0.7777777777777778,
              "#fb9f3a"
             ],
             [
              0.8888888888888888,
              "#fdca26"
             ],
             [
              1,
              "#f0f921"
             ]
            ],
            "type": "heatmapgl"
           }
          ],
          "histogram": [
           {
            "marker": {
             "pattern": {
              "fillmode": "overlay",
              "size": 10,
              "solidity": 0.2
             }
            },
            "type": "histogram"
           }
          ],
          "histogram2d": [
           {
            "colorbar": {
             "outlinewidth": 0,
             "ticks": ""
            },
            "colorscale": [
             [
              0,
              "#0d0887"
             ],
             [
              0.1111111111111111,
              "#46039f"
             ],
             [
              0.2222222222222222,
              "#7201a8"
             ],
             [
              0.3333333333333333,
              "#9c179e"
             ],
             [
              0.4444444444444444,
              "#bd3786"
             ],
             [
              0.5555555555555556,
              "#d8576b"
             ],
             [
              0.6666666666666666,
              "#ed7953"
             ],
             [
              0.7777777777777778,
              "#fb9f3a"
             ],
             [
              0.8888888888888888,
              "#fdca26"
             ],
             [
              1,
              "#f0f921"
             ]
            ],
            "type": "histogram2d"
           }
          ],
          "histogram2dcontour": [
           {
            "colorbar": {
             "outlinewidth": 0,
             "ticks": ""
            },
            "colorscale": [
             [
              0,
              "#0d0887"
             ],
             [
              0.1111111111111111,
              "#46039f"
             ],
             [
              0.2222222222222222,
              "#7201a8"
             ],
             [
              0.3333333333333333,
              "#9c179e"
             ],
             [
              0.4444444444444444,
              "#bd3786"
             ],
             [
              0.5555555555555556,
              "#d8576b"
             ],
             [
              0.6666666666666666,
              "#ed7953"
             ],
             [
              0.7777777777777778,
              "#fb9f3a"
             ],
             [
              0.8888888888888888,
              "#fdca26"
             ],
             [
              1,
              "#f0f921"
             ]
            ],
            "type": "histogram2dcontour"
           }
          ],
          "mesh3d": [
           {
            "colorbar": {
             "outlinewidth": 0,
             "ticks": ""
            },
            "type": "mesh3d"
           }
          ],
          "parcoords": [
           {
            "line": {
             "colorbar": {
              "outlinewidth": 0,
              "ticks": ""
             }
            },
            "type": "parcoords"
           }
          ],
          "pie": [
           {
            "automargin": true,
            "type": "pie"
           }
          ],
          "scatter": [
           {
            "marker": {
             "colorbar": {
              "outlinewidth": 0,
              "ticks": ""
             }
            },
            "type": "scatter"
           }
          ],
          "scatter3d": [
           {
            "line": {
             "colorbar": {
              "outlinewidth": 0,
              "ticks": ""
             }
            },
            "marker": {
             "colorbar": {
              "outlinewidth": 0,
              "ticks": ""
             }
            },
            "type": "scatter3d"
           }
          ],
          "scattercarpet": [
           {
            "marker": {
             "colorbar": {
              "outlinewidth": 0,
              "ticks": ""
             }
            },
            "type": "scattercarpet"
           }
          ],
          "scattergeo": [
           {
            "marker": {
             "colorbar": {
              "outlinewidth": 0,
              "ticks": ""
             }
            },
            "type": "scattergeo"
           }
          ],
          "scattergl": [
           {
            "marker": {
             "colorbar": {
              "outlinewidth": 0,
              "ticks": ""
             }
            },
            "type": "scattergl"
           }
          ],
          "scattermapbox": [
           {
            "marker": {
             "colorbar": {
              "outlinewidth": 0,
              "ticks": ""
             }
            },
            "type": "scattermapbox"
           }
          ],
          "scatterpolar": [
           {
            "marker": {
             "colorbar": {
              "outlinewidth": 0,
              "ticks": ""
             }
            },
            "type": "scatterpolar"
           }
          ],
          "scatterpolargl": [
           {
            "marker": {
             "colorbar": {
              "outlinewidth": 0,
              "ticks": ""
             }
            },
            "type": "scatterpolargl"
           }
          ],
          "scatterternary": [
           {
            "marker": {
             "colorbar": {
              "outlinewidth": 0,
              "ticks": ""
             }
            },
            "type": "scatterternary"
           }
          ],
          "surface": [
           {
            "colorbar": {
             "outlinewidth": 0,
             "ticks": ""
            },
            "colorscale": [
             [
              0,
              "#0d0887"
             ],
             [
              0.1111111111111111,
              "#46039f"
             ],
             [
              0.2222222222222222,
              "#7201a8"
             ],
             [
              0.3333333333333333,
              "#9c179e"
             ],
             [
              0.4444444444444444,
              "#bd3786"
             ],
             [
              0.5555555555555556,
              "#d8576b"
             ],
             [
              0.6666666666666666,
              "#ed7953"
             ],
             [
              0.7777777777777778,
              "#fb9f3a"
             ],
             [
              0.8888888888888888,
              "#fdca26"
             ],
             [
              1,
              "#f0f921"
             ]
            ],
            "type": "surface"
           }
          ],
          "table": [
           {
            "cells": {
             "fill": {
              "color": "#EBF0F8"
             },
             "line": {
              "color": "white"
             }
            },
            "header": {
             "fill": {
              "color": "#C8D4E3"
             },
             "line": {
              "color": "white"
             }
            },
            "type": "table"
           }
          ]
         },
         "layout": {
          "annotationdefaults": {
           "arrowcolor": "#2a3f5f",
           "arrowhead": 0,
           "arrowwidth": 1
          },
          "autotypenumbers": "strict",
          "coloraxis": {
           "colorbar": {
            "outlinewidth": 0,
            "ticks": ""
           }
          },
          "colorscale": {
           "diverging": [
            [
             0,
             "#8e0152"
            ],
            [
             0.1,
             "#c51b7d"
            ],
            [
             0.2,
             "#de77ae"
            ],
            [
             0.3,
             "#f1b6da"
            ],
            [
             0.4,
             "#fde0ef"
            ],
            [
             0.5,
             "#f7f7f7"
            ],
            [
             0.6,
             "#e6f5d0"
            ],
            [
             0.7,
             "#b8e186"
            ],
            [
             0.8,
             "#7fbc41"
            ],
            [
             0.9,
             "#4d9221"
            ],
            [
             1,
             "#276419"
            ]
           ],
           "sequential": [
            [
             0,
             "#0d0887"
            ],
            [
             0.1111111111111111,
             "#46039f"
            ],
            [
             0.2222222222222222,
             "#7201a8"
            ],
            [
             0.3333333333333333,
             "#9c179e"
            ],
            [
             0.4444444444444444,
             "#bd3786"
            ],
            [
             0.5555555555555556,
             "#d8576b"
            ],
            [
             0.6666666666666666,
             "#ed7953"
            ],
            [
             0.7777777777777778,
             "#fb9f3a"
            ],
            [
             0.8888888888888888,
             "#fdca26"
            ],
            [
             1,
             "#f0f921"
            ]
           ],
           "sequentialminus": [
            [
             0,
             "#0d0887"
            ],
            [
             0.1111111111111111,
             "#46039f"
            ],
            [
             0.2222222222222222,
             "#7201a8"
            ],
            [
             0.3333333333333333,
             "#9c179e"
            ],
            [
             0.4444444444444444,
             "#bd3786"
            ],
            [
             0.5555555555555556,
             "#d8576b"
            ],
            [
             0.6666666666666666,
             "#ed7953"
            ],
            [
             0.7777777777777778,
             "#fb9f3a"
            ],
            [
             0.8888888888888888,
             "#fdca26"
            ],
            [
             1,
             "#f0f921"
            ]
           ]
          },
          "colorway": [
           "#636efa",
           "#EF553B",
           "#00cc96",
           "#ab63fa",
           "#FFA15A",
           "#19d3f3",
           "#FF6692",
           "#B6E880",
           "#FF97FF",
           "#FECB52"
          ],
          "font": {
           "color": "#2a3f5f"
          },
          "geo": {
           "bgcolor": "white",
           "lakecolor": "white",
           "landcolor": "#E5ECF6",
           "showlakes": true,
           "showland": true,
           "subunitcolor": "white"
          },
          "hoverlabel": {
           "align": "left"
          },
          "hovermode": "closest",
          "mapbox": {
           "style": "light"
          },
          "paper_bgcolor": "white",
          "plot_bgcolor": "#E5ECF6",
          "polar": {
           "angularaxis": {
            "gridcolor": "white",
            "linecolor": "white",
            "ticks": ""
           },
           "bgcolor": "#E5ECF6",
           "radialaxis": {
            "gridcolor": "white",
            "linecolor": "white",
            "ticks": ""
           }
          },
          "scene": {
           "xaxis": {
            "backgroundcolor": "#E5ECF6",
            "gridcolor": "white",
            "gridwidth": 2,
            "linecolor": "white",
            "showbackground": true,
            "ticks": "",
            "zerolinecolor": "white"
           },
           "yaxis": {
            "backgroundcolor": "#E5ECF6",
            "gridcolor": "white",
            "gridwidth": 2,
            "linecolor": "white",
            "showbackground": true,
            "ticks": "",
            "zerolinecolor": "white"
           },
           "zaxis": {
            "backgroundcolor": "#E5ECF6",
            "gridcolor": "white",
            "gridwidth": 2,
            "linecolor": "white",
            "showbackground": true,
            "ticks": "",
            "zerolinecolor": "white"
           }
          },
          "shapedefaults": {
           "line": {
            "color": "#2a3f5f"
           }
          },
          "ternary": {
           "aaxis": {
            "gridcolor": "white",
            "linecolor": "white",
            "ticks": ""
           },
           "baxis": {
            "gridcolor": "white",
            "linecolor": "white",
            "ticks": ""
           },
           "bgcolor": "#E5ECF6",
           "caxis": {
            "gridcolor": "white",
            "linecolor": "white",
            "ticks": ""
           }
          },
          "title": {
           "x": 0.05
          },
          "xaxis": {
           "automargin": true,
           "gridcolor": "white",
           "linecolor": "white",
           "ticks": "",
           "title": {
            "standoff": 15
           },
           "zerolinecolor": "white",
           "zerolinewidth": 2
          },
          "yaxis": {
           "automargin": true,
           "gridcolor": "white",
           "linecolor": "white",
           "ticks": "",
           "title": {
            "standoff": 15
           },
           "zerolinecolor": "white",
           "zerolinewidth": 2
          }
         }
        },
        "title": {
         "text": "Test Label Class Distribution"
        },
        "width": 500
       }
      }
     },
     "metadata": {},
     "output_type": "display_data"
    }
   ],
   "source": [
    "fig = px.pie(\n",
    "    Y_test.value_counts(),\n",
    "    values='Label',\n",
    "    names=[\"PASS\", \"FAIL\"],\n",
    "    title=\"Test Label Class Distribution\",\n",
    "    width=500\n",
    ")\n",
    "\n",
    "fig.show()"
   ]
  },
  {
   "cell_type": "code",
   "execution_count": 212,
   "metadata": {},
   "outputs": [
    {
     "name": "stdout",
     "output_type": "stream",
     "text": [
      "<class 'pandas.core.frame.DataFrame'>\n",
      "Int64Index: 1253 entries, 415 to 1126\n",
      "Columns: 487 entries, 0 to 589\n",
      "dtypes: float64(487)\n",
      "memory usage: 4.7 MB\n"
     ]
    }
   ],
   "source": [
    "X_train.info()"
   ]
  },
  {
   "cell_type": "code",
   "execution_count": 213,
   "metadata": {},
   "outputs": [
    {
     "data": {
      "text/plain": [
       "{'float64': 487}"
      ]
     },
     "execution_count": 213,
     "metadata": {},
     "output_type": "execute_result"
    }
   ],
   "source": [
    "type_dct = {str(k): len(list(v)) for k, v in X_train.groupby(X_train.dtypes, axis=1)}\n",
    "type_dct"
   ]
  },
  {
   "cell_type": "code",
   "execution_count": 214,
   "metadata": {},
   "outputs": [
    {
     "data": {
      "text/plain": [
       "float64    487\n",
       "dtype: int64"
      ]
     },
     "execution_count": 214,
     "metadata": {},
     "output_type": "execute_result"
    }
   ],
   "source": [
    "X_train.dtypes.value_counts()"
   ]
  },
  {
   "cell_type": "code",
   "execution_count": 215,
   "metadata": {},
   "outputs": [
    {
     "data": {
      "text/plain": [
       "435"
      ]
     },
     "execution_count": 215,
     "metadata": {},
     "output_type": "execute_result"
    }
   ],
   "source": [
    "np.count_nonzero(X_train.isna().sum())"
   ]
  },
  {
   "cell_type": "code",
   "execution_count": 216,
   "metadata": {},
   "outputs": [
    {
     "data": {
      "text/plain": [
       "140    14\n",
       "138    14\n",
       "141    14\n",
       "142    14\n",
       "413    14\n",
       "412    14\n",
       "411    14\n",
       "414    14\n",
       "415    14\n",
       "273    14\n",
       "dtype: int64"
      ]
     },
     "execution_count": 216,
     "metadata": {},
     "output_type": "execute_result"
    }
   ],
   "source": [
    "X_train.isna().sum().sort_values(ascending=False).head(10)\n"
   ]
  },
  {
   "cell_type": "markdown",
   "metadata": {},
   "source": [
    "# Build Logistic Regression Model and Evaluation Metrics"
   ]
  },
  {
   "attachments": {},
   "cell_type": "markdown",
   "metadata": {},
   "source": [
    "Before imputing missing values and removing some columns, let's build and evaluate the model in order to get the sense of whether the performance of the model increases or decreases in every step of the feature selection/removal.\n",
    "\n",
    "Since this dataset is highly imbalanced, we must not use accuracy as our evaluation metric."
   ]
  },
  {
   "cell_type": "code",
   "execution_count": null,
   "metadata": {},
   "outputs": [
    {
     "name": "stdout",
     "output_type": "stream",
     "text": [
      "          0        1          2          3       4         6       7    \\\n",
      "0     3030.93  2564.00  2187.7333  1411.1265  1.3602   97.6133  0.1242   \n",
      "1     3095.78  2465.14  2230.4222  1463.6606  0.8294  102.3433  0.1247   \n",
      "2     2932.61  2559.94  2186.4111  1698.0172  1.5102   95.4878  0.1241   \n",
      "3     2988.72  2479.90  2199.0333   909.7926  1.3204  104.2367  0.1217   \n",
      "4     3032.24  2502.87  2233.3667  1326.5200  1.5334  100.3967  0.1235   \n",
      "...       ...      ...        ...        ...     ...       ...     ...   \n",
      "1562  2899.41  2464.36  2179.7333  3085.3781  1.4843   82.2467  0.1248   \n",
      "1563  3052.31  2522.55  2198.5667  1124.6595  0.8763   98.4689  0.1205   \n",
      "1564  2978.81  2379.78  2206.3000  1110.4967  0.8236   99.4122  0.1208   \n",
      "1565  2894.92  2532.01  2177.0333  1183.7287  1.5726   98.7978  0.1213   \n",
      "1566  2944.92  2450.76  2195.4444  2914.1792  1.5978   85.1011  0.1235   \n",
      "\n",
      "         8       9       10   ...     580       581     582     583     584  \\\n",
      "0     1.5005  0.0162 -0.0034  ...     NaN       NaN  0.5005  0.0118  0.0035   \n",
      "1     1.4966 -0.0005 -0.0148  ...  0.0060  208.2045  0.5019  0.0223  0.0055   \n",
      "2     1.4436  0.0041  0.0013  ...  0.0148   82.8602  0.4958  0.0157  0.0039   \n",
      "3     1.4882 -0.0124 -0.0033  ...  0.0044   73.8432  0.4990  0.0103  0.0025   \n",
      "4     1.5031 -0.0031 -0.0072  ...     NaN       NaN  0.4800  0.4766  0.1045   \n",
      "...      ...     ...     ...  ...     ...       ...     ...     ...     ...   \n",
      "1562  1.3424 -0.0045 -0.0057  ...  0.0047  203.1720  0.4988  0.0143  0.0039   \n",
      "1563  1.4333 -0.0061 -0.0093  ...     NaN       NaN  0.4975  0.0131  0.0036   \n",
      "1564     NaN     NaN     NaN  ...  0.0025   43.5231  0.4987  0.0153  0.0041   \n",
      "1565  1.4622 -0.0072  0.0032  ...  0.0075   93.4941  0.5004  0.0178  0.0038   \n",
      "1566     NaN     NaN     NaN  ...  0.0045  137.7844  0.4987  0.0181  0.0040   \n",
      "\n",
      "          585     586     587     588       589  \n",
      "0      2.3630     NaN     NaN     NaN       NaN  \n",
      "1      4.4447  0.0096  0.0201  0.0060  208.2045  \n",
      "2      3.1745  0.0584  0.0484  0.0148   82.8602  \n",
      "3      2.0544  0.0202  0.0149  0.0044   73.8432  \n",
      "4     99.3032  0.0202  0.0149  0.0044   73.8432  \n",
      "...       ...     ...     ...     ...       ...  \n",
      "1562   2.8669  0.0068  0.0138  0.0047  203.1720  \n",
      "1563   2.6238  0.0068  0.0138  0.0047  203.1720  \n",
      "1564   3.0590  0.0197  0.0086  0.0025   43.5231  \n",
      "1565   3.5662  0.0262  0.0245  0.0075   93.4941  \n",
      "1566   3.6275  0.0117  0.0162  0.0045  137.7844  \n",
      "\n",
      "[1567 rows x 474 columns]\n"
     ]
    }
   ],
   "source": [
    "# Get the number of unique values in each column\n",
    "nunique = sensor_data.nunique()\n",
    "\n",
    "# Identify constant variables\n",
    "constant_vars = nunique[nunique == 1].index\n",
    "\n",
    "# Drop constant variables from the DataFrame\n",
    "sensor_data.drop(constant_vars, axis=1, inplace=True)\n",
    "\n",
    "# Print the updated DataFrame\n",
    "print(sensor_data)"
   ]
  },
  {
   "cell_type": "markdown",
   "metadata": {},
   "source": []
  }
 ],
 "metadata": {
  "kernelspec": {
   "display_name": "pythonProject",
   "language": "python",
   "name": "python3"
  },
  "language_info": {
   "codemirror_mode": {
    "name": "ipython",
    "version": 3
   },
   "file_extension": ".py",
   "mimetype": "text/x-python",
   "name": "python",
   "nbconvert_exporter": "python",
   "pygments_lexer": "ipython3",
   "version": "3.8.8"
  },
  "orig_nbformat": 4
 },
 "nbformat": 4,
 "nbformat_minor": 2
}
